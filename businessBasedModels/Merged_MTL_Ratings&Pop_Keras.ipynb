{
  "cells": [
    {
      "cell_type": "code",
      "execution_count": null,
      "metadata": {
        "colab": {
          "base_uri": "https://localhost:8080/"
        },
        "id": "XARDlpry4zSE",
        "outputId": "8a7e86ba-2821-493a-87b0-798ac68766a8"
      },
      "outputs": [
        {
          "output_type": "stream",
          "name": "stdout",
          "text": [
            "Mounted at /content/drive\n"
          ]
        }
      ],
      "source": [
        "from google.colab import drive\n",
        "drive.mount('/content/drive')"
      ]
    },
    {
      "cell_type": "code",
      "execution_count": null,
      "metadata": {
        "colab": {
          "base_uri": "https://localhost:8080/"
        },
        "id": "Eep_VNXI-mAO",
        "outputId": "076d1a99-c040-4232-8cd7-7c4c730caea0"
      },
      "outputs": [
        {
          "output_type": "stream",
          "name": "stderr",
          "text": [
            "[nltk_data] Downloading package stopwords to /root/nltk_data...\n",
            "[nltk_data]   Unzipping corpora/stopwords.zip.\n"
          ]
        }
      ],
      "source": [
        "import numpy as np # linear algebra\n",
        "import pandas as pd # data processing, CSV file I/O (e.g. pd.read_csv)\n",
        "import torch\n",
        "import torch.nn as nn\n",
        "import torch.nn.functional as F\n",
        "from nltk.corpus import stopwords \n",
        "import nltk\n",
        "from collections import Counter\n",
        "import string\n",
        "import re\n",
        "import math\n",
        "import seaborn as sns\n",
        "import tensorflow as tf\n",
        "from nltk import word_tokenize\n",
        "nltk.download('stopwords')\n",
        "from keras.preprocessing.text import Tokenizer\n",
        "from keras.models import Sequential\n",
        "from keras.layers import Dense, Embedding, LSTM, SpatialDropout1D, Dropout\n",
        "from keras.callbacks import EarlyStopping\n",
        "from tqdm import tqdm\n",
        "import matplotlib.pyplot as plt\n",
        "from torch.utils.data import TensorDataset, DataLoader\n",
        "from sklearn.model_selection import train_test_split"
      ]
    },
    {
      "cell_type": "code",
      "execution_count": null,
      "metadata": {
        "colab": {
          "base_uri": "https://localhost:8080/"
        },
        "id": "XBKj0WYN-tF-",
        "outputId": "ae2701d7-c9b3-4a4f-e2af-6007586eae0d"
      },
      "outputs": [
        {
          "output_type": "stream",
          "name": "stdout",
          "text": [
            "GPU not available, CPU used\n"
          ]
        }
      ],
      "source": [
        "is_cuda = torch.cuda.is_available()\n",
        "\n",
        "# If we have a GPU available, we'll set our device to GPU. We'll use this device variable later in our code.\n",
        "if is_cuda:\n",
        "    device = torch.device(\"cuda\")\n",
        "    print(\"GPU is available\")\n",
        "else:\n",
        "    device = torch.device(\"cpu\")\n",
        "    print(\"GPU not available, CPU used\")"
      ]
    },
    {
      "cell_type": "code",
      "execution_count": null,
      "metadata": {
        "colab": {
          "base_uri": "https://localhost:8080/",
          "height": 206
        },
        "id": "tNlQ-wEE-us-",
        "outputId": "d026025b-9d48-43b4-986a-1ad4cb8d9fdf"
      },
      "outputs": [
        {
          "output_type": "execute_result",
          "data": {
            "text/plain": [
              "              business_id  stars  review_count  visits  visits_normalized  \\\n",
              "0  MTSW4McQd7CbVtyjqoe9mw    4.0            80     335          27.916667   \n",
              "1  0bPLkL0QhhPO5kt1_EXmNQ    4.5           100     264          22.000000   \n",
              "2  MUTTqe8uqyMdBl186RmNeA    4.0           245     172          34.400000   \n",
              "3  ROeacJQwBeh05Rqg7F6TCg    4.5           205     221          24.555556   \n",
              "4  9OG5YkX1g2GReZM0AskizA    2.5           339     508          42.333333   \n",
              "\n",
              "   label                               reviews_concatenated  \n",
              "0      1  This is nice little Chinese bakery in the hear...  \n",
              "1      1  The worst Chicken Parm. Sandwich I've ever eat...  \n",
              "2      1  Stopped in to check out this new spot around t...  \n",
              "3      1  This place is fantastic!  Delicious, simple, h...  \n",
              "4      1  Great bar Happy Hour 4-7 every day. Wine & Dra...  "
            ],
            "text/html": [
              "\n",
              "  <div id=\"df-67ac807e-87c1-4fdd-84fc-466e93ff229a\">\n",
              "    <div class=\"colab-df-container\">\n",
              "      <div>\n",
              "<style scoped>\n",
              "    .dataframe tbody tr th:only-of-type {\n",
              "        vertical-align: middle;\n",
              "    }\n",
              "\n",
              "    .dataframe tbody tr th {\n",
              "        vertical-align: top;\n",
              "    }\n",
              "\n",
              "    .dataframe thead th {\n",
              "        text-align: right;\n",
              "    }\n",
              "</style>\n",
              "<table border=\"1\" class=\"dataframe\">\n",
              "  <thead>\n",
              "    <tr style=\"text-align: right;\">\n",
              "      <th></th>\n",
              "      <th>business_id</th>\n",
              "      <th>stars</th>\n",
              "      <th>review_count</th>\n",
              "      <th>visits</th>\n",
              "      <th>visits_normalized</th>\n",
              "      <th>label</th>\n",
              "      <th>reviews_concatenated</th>\n",
              "    </tr>\n",
              "  </thead>\n",
              "  <tbody>\n",
              "    <tr>\n",
              "      <th>0</th>\n",
              "      <td>MTSW4McQd7CbVtyjqoe9mw</td>\n",
              "      <td>4.0</td>\n",
              "      <td>80</td>\n",
              "      <td>335</td>\n",
              "      <td>27.916667</td>\n",
              "      <td>1</td>\n",
              "      <td>This is nice little Chinese bakery in the hear...</td>\n",
              "    </tr>\n",
              "    <tr>\n",
              "      <th>1</th>\n",
              "      <td>0bPLkL0QhhPO5kt1_EXmNQ</td>\n",
              "      <td>4.5</td>\n",
              "      <td>100</td>\n",
              "      <td>264</td>\n",
              "      <td>22.000000</td>\n",
              "      <td>1</td>\n",
              "      <td>The worst Chicken Parm. Sandwich I've ever eat...</td>\n",
              "    </tr>\n",
              "    <tr>\n",
              "      <th>2</th>\n",
              "      <td>MUTTqe8uqyMdBl186RmNeA</td>\n",
              "      <td>4.0</td>\n",
              "      <td>245</td>\n",
              "      <td>172</td>\n",
              "      <td>34.400000</td>\n",
              "      <td>1</td>\n",
              "      <td>Stopped in to check out this new spot around t...</td>\n",
              "    </tr>\n",
              "    <tr>\n",
              "      <th>3</th>\n",
              "      <td>ROeacJQwBeh05Rqg7F6TCg</td>\n",
              "      <td>4.5</td>\n",
              "      <td>205</td>\n",
              "      <td>221</td>\n",
              "      <td>24.555556</td>\n",
              "      <td>1</td>\n",
              "      <td>This place is fantastic!  Delicious, simple, h...</td>\n",
              "    </tr>\n",
              "    <tr>\n",
              "      <th>4</th>\n",
              "      <td>9OG5YkX1g2GReZM0AskizA</td>\n",
              "      <td>2.5</td>\n",
              "      <td>339</td>\n",
              "      <td>508</td>\n",
              "      <td>42.333333</td>\n",
              "      <td>1</td>\n",
              "      <td>Great bar Happy Hour 4-7 every day. Wine &amp; Dra...</td>\n",
              "    </tr>\n",
              "  </tbody>\n",
              "</table>\n",
              "</div>\n",
              "      <button class=\"colab-df-convert\" onclick=\"convertToInteractive('df-67ac807e-87c1-4fdd-84fc-466e93ff229a')\"\n",
              "              title=\"Convert this dataframe to an interactive table.\"\n",
              "              style=\"display:none;\">\n",
              "        \n",
              "  <svg xmlns=\"http://www.w3.org/2000/svg\" height=\"24px\"viewBox=\"0 0 24 24\"\n",
              "       width=\"24px\">\n",
              "    <path d=\"M0 0h24v24H0V0z\" fill=\"none\"/>\n",
              "    <path d=\"M18.56 5.44l.94 2.06.94-2.06 2.06-.94-2.06-.94-.94-2.06-.94 2.06-2.06.94zm-11 1L8.5 8.5l.94-2.06 2.06-.94-2.06-.94L8.5 2.5l-.94 2.06-2.06.94zm10 10l.94 2.06.94-2.06 2.06-.94-2.06-.94-.94-2.06-.94 2.06-2.06.94z\"/><path d=\"M17.41 7.96l-1.37-1.37c-.4-.4-.92-.59-1.43-.59-.52 0-1.04.2-1.43.59L10.3 9.45l-7.72 7.72c-.78.78-.78 2.05 0 2.83L4 21.41c.39.39.9.59 1.41.59.51 0 1.02-.2 1.41-.59l7.78-7.78 2.81-2.81c.8-.78.8-2.07 0-2.86zM5.41 20L4 18.59l7.72-7.72 1.47 1.35L5.41 20z\"/>\n",
              "  </svg>\n",
              "      </button>\n",
              "      \n",
              "  <style>\n",
              "    .colab-df-container {\n",
              "      display:flex;\n",
              "      flex-wrap:wrap;\n",
              "      gap: 12px;\n",
              "    }\n",
              "\n",
              "    .colab-df-convert {\n",
              "      background-color: #E8F0FE;\n",
              "      border: none;\n",
              "      border-radius: 50%;\n",
              "      cursor: pointer;\n",
              "      display: none;\n",
              "      fill: #1967D2;\n",
              "      height: 32px;\n",
              "      padding: 0 0 0 0;\n",
              "      width: 32px;\n",
              "    }\n",
              "\n",
              "    .colab-df-convert:hover {\n",
              "      background-color: #E2EBFA;\n",
              "      box-shadow: 0px 1px 2px rgba(60, 64, 67, 0.3), 0px 1px 3px 1px rgba(60, 64, 67, 0.15);\n",
              "      fill: #174EA6;\n",
              "    }\n",
              "\n",
              "    [theme=dark] .colab-df-convert {\n",
              "      background-color: #3B4455;\n",
              "      fill: #D2E3FC;\n",
              "    }\n",
              "\n",
              "    [theme=dark] .colab-df-convert:hover {\n",
              "      background-color: #434B5C;\n",
              "      box-shadow: 0px 1px 3px 1px rgba(0, 0, 0, 0.15);\n",
              "      filter: drop-shadow(0px 1px 2px rgba(0, 0, 0, 0.3));\n",
              "      fill: #FFFFFF;\n",
              "    }\n",
              "  </style>\n",
              "\n",
              "      <script>\n",
              "        const buttonEl =\n",
              "          document.querySelector('#df-67ac807e-87c1-4fdd-84fc-466e93ff229a button.colab-df-convert');\n",
              "        buttonEl.style.display =\n",
              "          google.colab.kernel.accessAllowed ? 'block' : 'none';\n",
              "\n",
              "        async function convertToInteractive(key) {\n",
              "          const element = document.querySelector('#df-67ac807e-87c1-4fdd-84fc-466e93ff229a');\n",
              "          const dataTable =\n",
              "            await google.colab.kernel.invokeFunction('convertToInteractive',\n",
              "                                                     [key], {});\n",
              "          if (!dataTable) return;\n",
              "\n",
              "          const docLinkHtml = 'Like what you see? Visit the ' +\n",
              "            '<a target=\"_blank\" href=https://colab.research.google.com/notebooks/data_table.ipynb>data table notebook</a>'\n",
              "            + ' to learn more about interactive tables.';\n",
              "          element.innerHTML = '';\n",
              "          dataTable['output_type'] = 'display_data';\n",
              "          await google.colab.output.renderOutput(dataTable, element);\n",
              "          const docLink = document.createElement('div');\n",
              "          docLink.innerHTML = docLinkHtml;\n",
              "          element.appendChild(docLink);\n",
              "        }\n",
              "      </script>\n",
              "    </div>\n",
              "  </div>\n",
              "  "
            ]
          },
          "metadata": {},
          "execution_count": 3
        }
      ],
      "source": [
        "#df = pd.read_pickle(\"/content/drive/MyDrive/CS525/yelp_compressed_reviews.pkl\")\n",
        "#df = pd.read_pickle(\"/content/drive/MyDrive/yelp_food_reviews.pkl\")\n",
        "# df = pd.read_pickle(\"/content/drive/MyDrive/CS525/yelp_compressed_reviews2.pkl\")\n",
        "df = pd.read_pickle('/content/drive/MyDrive/ST: NLP/Copy of yelp_compressed_reviews2.pkl')\n",
        "df.head()\n"
      ]
    },
    {
      "cell_type": "markdown",
      "source": [
        "Functions to modify ratings --> sentiment for sentiment analysis and popularity to format acceptable to keras"
      ],
      "metadata": {
        "id": "HS5bxIeb-Cw6"
      }
    },
    {
      "cell_type": "code",
      "execution_count": null,
      "metadata": {
        "id": "M-lJu46B7JVL"
      },
      "outputs": [],
      "source": [
        "import tensorflow as tf\n",
        "\n",
        "def popularity(val):\n",
        "  if val == 0.0:\n",
        "    return tf.convert_to_tensor([1,0,0,0,0])\n",
        "  elif val == 1.0:\n",
        "    return tf.convert_to_tensor([0,1,0,0,0])\n",
        "  elif val == 2.0:\n",
        "    return tf.convert_to_tensor([0,0,1,0,0])\n",
        "  elif val == 3.0:\n",
        "    return tf.convert_to_tensor([0,0,0,1,0])\n",
        "  else:\n",
        "    return tf.convert_to_tensor([0,0,0,0,1])"
      ]
    },
    {
      "cell_type": "code",
      "execution_count": null,
      "metadata": {
        "colab": {
          "base_uri": "https://localhost:8080/",
          "height": 784
        },
        "id": "uY_7xLSfABDu",
        "outputId": "b05e3692-1e36-4d7c-8ec7-031a2889c125"
      },
      "outputs": [
        {
          "output_type": "stream",
          "name": "stderr",
          "text": [
            "<ipython-input-5-df7045bbcb94>:2: SettingWithCopyWarning: \n",
            "A value is trying to be set on a copy of a slice from a DataFrame.\n",
            "Try using .loc[row_indexer,col_indexer] = value instead\n",
            "\n",
            "See the caveats in the documentation: https://pandas.pydata.org/pandas-docs/stable/user_guide/indexing.html#returning-a-view-versus-a-copy\n",
            "  subset['stars'] = subset['stars'].apply(\n"
          ]
        },
        {
          "output_type": "execute_result",
          "data": {
            "text/plain": [
              "                                 reviews_concatenated  label  stars\n",
              "0   This is nice little Chinese bakery in the hear...      1      4\n",
              "1   The worst Chicken Parm. Sandwich I've ever eat...      1      4\n",
              "2   Stopped in to check out this new spot around t...      1      4\n",
              "3   This place is fantastic!  Delicious, simple, h...      1      4\n",
              "4   Great bar Happy Hour 4-7 every day. Wine & Dra...      1      2\n",
              "5   cute ambience that would be great for date nig...      1      4\n",
              "6   This place is top notch, with phenomenal servi...      0      4\n",
              "7   Bunch of high school/college kids running the ...      0      3\n",
              "8   This is a great place to take guests visiting ...      1      3\n",
              "9   We had been driving around for some time, on a...      0      3\n",
              "10  Awful business model it took forever to even f...      1      3\n",
              "11  First time diner and I will definitely be back...      1      3\n",
              "12  My first visit and my last. Just spent $21.00 ...      1      3\n",
              "14  Best sports bar with amazingly good food. Ice ...      1      4\n",
              "15  Love the tap room, but I can't seem to get the...      1      4\n",
              "16  Wawa is like a beacon in a cold, dark world.  ...      1      3\n",
              "18  What a great addition to the Funk Zone!  Grab ...      2      4\n",
              "19  The service is awesome...staff is very friendl...      1      4\n",
              "20  Super tasty and enormous portions. Some unique...      2      4\n",
              "21  My girlfriend and I took my parents out to din...      0      3"
            ],
            "text/html": [
              "\n",
              "  <div id=\"df-4d26c307-98c9-42e1-93a5-28044b0714ba\">\n",
              "    <div class=\"colab-df-container\">\n",
              "      <div>\n",
              "<style scoped>\n",
              "    .dataframe tbody tr th:only-of-type {\n",
              "        vertical-align: middle;\n",
              "    }\n",
              "\n",
              "    .dataframe tbody tr th {\n",
              "        vertical-align: top;\n",
              "    }\n",
              "\n",
              "    .dataframe thead th {\n",
              "        text-align: right;\n",
              "    }\n",
              "</style>\n",
              "<table border=\"1\" class=\"dataframe\">\n",
              "  <thead>\n",
              "    <tr style=\"text-align: right;\">\n",
              "      <th></th>\n",
              "      <th>reviews_concatenated</th>\n",
              "      <th>label</th>\n",
              "      <th>stars</th>\n",
              "    </tr>\n",
              "  </thead>\n",
              "  <tbody>\n",
              "    <tr>\n",
              "      <th>0</th>\n",
              "      <td>This is nice little Chinese bakery in the hear...</td>\n",
              "      <td>1</td>\n",
              "      <td>4</td>\n",
              "    </tr>\n",
              "    <tr>\n",
              "      <th>1</th>\n",
              "      <td>The worst Chicken Parm. Sandwich I've ever eat...</td>\n",
              "      <td>1</td>\n",
              "      <td>4</td>\n",
              "    </tr>\n",
              "    <tr>\n",
              "      <th>2</th>\n",
              "      <td>Stopped in to check out this new spot around t...</td>\n",
              "      <td>1</td>\n",
              "      <td>4</td>\n",
              "    </tr>\n",
              "    <tr>\n",
              "      <th>3</th>\n",
              "      <td>This place is fantastic!  Delicious, simple, h...</td>\n",
              "      <td>1</td>\n",
              "      <td>4</td>\n",
              "    </tr>\n",
              "    <tr>\n",
              "      <th>4</th>\n",
              "      <td>Great bar Happy Hour 4-7 every day. Wine &amp; Dra...</td>\n",
              "      <td>1</td>\n",
              "      <td>2</td>\n",
              "    </tr>\n",
              "    <tr>\n",
              "      <th>5</th>\n",
              "      <td>cute ambience that would be great for date nig...</td>\n",
              "      <td>1</td>\n",
              "      <td>4</td>\n",
              "    </tr>\n",
              "    <tr>\n",
              "      <th>6</th>\n",
              "      <td>This place is top notch, with phenomenal servi...</td>\n",
              "      <td>0</td>\n",
              "      <td>4</td>\n",
              "    </tr>\n",
              "    <tr>\n",
              "      <th>7</th>\n",
              "      <td>Bunch of high school/college kids running the ...</td>\n",
              "      <td>0</td>\n",
              "      <td>3</td>\n",
              "    </tr>\n",
              "    <tr>\n",
              "      <th>8</th>\n",
              "      <td>This is a great place to take guests visiting ...</td>\n",
              "      <td>1</td>\n",
              "      <td>3</td>\n",
              "    </tr>\n",
              "    <tr>\n",
              "      <th>9</th>\n",
              "      <td>We had been driving around for some time, on a...</td>\n",
              "      <td>0</td>\n",
              "      <td>3</td>\n",
              "    </tr>\n",
              "    <tr>\n",
              "      <th>10</th>\n",
              "      <td>Awful business model it took forever to even f...</td>\n",
              "      <td>1</td>\n",
              "      <td>3</td>\n",
              "    </tr>\n",
              "    <tr>\n",
              "      <th>11</th>\n",
              "      <td>First time diner and I will definitely be back...</td>\n",
              "      <td>1</td>\n",
              "      <td>3</td>\n",
              "    </tr>\n",
              "    <tr>\n",
              "      <th>12</th>\n",
              "      <td>My first visit and my last. Just spent $21.00 ...</td>\n",
              "      <td>1</td>\n",
              "      <td>3</td>\n",
              "    </tr>\n",
              "    <tr>\n",
              "      <th>14</th>\n",
              "      <td>Best sports bar with amazingly good food. Ice ...</td>\n",
              "      <td>1</td>\n",
              "      <td>4</td>\n",
              "    </tr>\n",
              "    <tr>\n",
              "      <th>15</th>\n",
              "      <td>Love the tap room, but I can't seem to get the...</td>\n",
              "      <td>1</td>\n",
              "      <td>4</td>\n",
              "    </tr>\n",
              "    <tr>\n",
              "      <th>16</th>\n",
              "      <td>Wawa is like a beacon in a cold, dark world.  ...</td>\n",
              "      <td>1</td>\n",
              "      <td>3</td>\n",
              "    </tr>\n",
              "    <tr>\n",
              "      <th>18</th>\n",
              "      <td>What a great addition to the Funk Zone!  Grab ...</td>\n",
              "      <td>2</td>\n",
              "      <td>4</td>\n",
              "    </tr>\n",
              "    <tr>\n",
              "      <th>19</th>\n",
              "      <td>The service is awesome...staff is very friendl...</td>\n",
              "      <td>1</td>\n",
              "      <td>4</td>\n",
              "    </tr>\n",
              "    <tr>\n",
              "      <th>20</th>\n",
              "      <td>Super tasty and enormous portions. Some unique...</td>\n",
              "      <td>2</td>\n",
              "      <td>4</td>\n",
              "    </tr>\n",
              "    <tr>\n",
              "      <th>21</th>\n",
              "      <td>My girlfriend and I took my parents out to din...</td>\n",
              "      <td>0</td>\n",
              "      <td>3</td>\n",
              "    </tr>\n",
              "  </tbody>\n",
              "</table>\n",
              "</div>\n",
              "      <button class=\"colab-df-convert\" onclick=\"convertToInteractive('df-4d26c307-98c9-42e1-93a5-28044b0714ba')\"\n",
              "              title=\"Convert this dataframe to an interactive table.\"\n",
              "              style=\"display:none;\">\n",
              "        \n",
              "  <svg xmlns=\"http://www.w3.org/2000/svg\" height=\"24px\"viewBox=\"0 0 24 24\"\n",
              "       width=\"24px\">\n",
              "    <path d=\"M0 0h24v24H0V0z\" fill=\"none\"/>\n",
              "    <path d=\"M18.56 5.44l.94 2.06.94-2.06 2.06-.94-2.06-.94-.94-2.06-.94 2.06-2.06.94zm-11 1L8.5 8.5l.94-2.06 2.06-.94-2.06-.94L8.5 2.5l-.94 2.06-2.06.94zm10 10l.94 2.06.94-2.06 2.06-.94-2.06-.94-.94-2.06-.94 2.06-2.06.94z\"/><path d=\"M17.41 7.96l-1.37-1.37c-.4-.4-.92-.59-1.43-.59-.52 0-1.04.2-1.43.59L10.3 9.45l-7.72 7.72c-.78.78-.78 2.05 0 2.83L4 21.41c.39.39.9.59 1.41.59.51 0 1.02-.2 1.41-.59l7.78-7.78 2.81-2.81c.8-.78.8-2.07 0-2.86zM5.41 20L4 18.59l7.72-7.72 1.47 1.35L5.41 20z\"/>\n",
              "  </svg>\n",
              "      </button>\n",
              "      \n",
              "  <style>\n",
              "    .colab-df-container {\n",
              "      display:flex;\n",
              "      flex-wrap:wrap;\n",
              "      gap: 12px;\n",
              "    }\n",
              "\n",
              "    .colab-df-convert {\n",
              "      background-color: #E8F0FE;\n",
              "      border: none;\n",
              "      border-radius: 50%;\n",
              "      cursor: pointer;\n",
              "      display: none;\n",
              "      fill: #1967D2;\n",
              "      height: 32px;\n",
              "      padding: 0 0 0 0;\n",
              "      width: 32px;\n",
              "    }\n",
              "\n",
              "    .colab-df-convert:hover {\n",
              "      background-color: #E2EBFA;\n",
              "      box-shadow: 0px 1px 2px rgba(60, 64, 67, 0.3), 0px 1px 3px 1px rgba(60, 64, 67, 0.15);\n",
              "      fill: #174EA6;\n",
              "    }\n",
              "\n",
              "    [theme=dark] .colab-df-convert {\n",
              "      background-color: #3B4455;\n",
              "      fill: #D2E3FC;\n",
              "    }\n",
              "\n",
              "    [theme=dark] .colab-df-convert:hover {\n",
              "      background-color: #434B5C;\n",
              "      box-shadow: 0px 1px 3px 1px rgba(0, 0, 0, 0.15);\n",
              "      filter: drop-shadow(0px 1px 2px rgba(0, 0, 0, 0.3));\n",
              "      fill: #FFFFFF;\n",
              "    }\n",
              "  </style>\n",
              "\n",
              "      <script>\n",
              "        const buttonEl =\n",
              "          document.querySelector('#df-4d26c307-98c9-42e1-93a5-28044b0714ba button.colab-df-convert');\n",
              "        buttonEl.style.display =\n",
              "          google.colab.kernel.accessAllowed ? 'block' : 'none';\n",
              "\n",
              "        async function convertToInteractive(key) {\n",
              "          const element = document.querySelector('#df-4d26c307-98c9-42e1-93a5-28044b0714ba');\n",
              "          const dataTable =\n",
              "            await google.colab.kernel.invokeFunction('convertToInteractive',\n",
              "                                                     [key], {});\n",
              "          if (!dataTable) return;\n",
              "\n",
              "          const docLinkHtml = 'Like what you see? Visit the ' +\n",
              "            '<a target=\"_blank\" href=https://colab.research.google.com/notebooks/data_table.ipynb>data table notebook</a>'\n",
              "            + ' to learn more about interactive tables.';\n",
              "          element.innerHTML = '';\n",
              "          dataTable['output_type'] = 'display_data';\n",
              "          await google.colab.output.renderOutput(dataTable, element);\n",
              "          const docLink = document.createElement('div');\n",
              "          docLink.innerHTML = docLinkHtml;\n",
              "          element.appendChild(docLink);\n",
              "        }\n",
              "      </script>\n",
              "    </div>\n",
              "  </div>\n",
              "  "
            ]
          },
          "metadata": {},
          "execution_count": 5
        }
      ],
      "source": [
        "\n",
        "subset = df[['reviews_concatenated','label', 'stars']]\n",
        "subset['stars'] = subset['stars'].apply(\n",
        "    lambda x: math.floor(x)\n",
        ")\n",
        "# subset['label'] = subset['label'].apply(lambda x: popularity(x))\n",
        "subset.head(20)"
      ]
    },
    {
      "cell_type": "code",
      "source": [
        "print(np.unique(df['label']))"
      ],
      "metadata": {
        "colab": {
          "base_uri": "https://localhost:8080/"
        },
        "id": "0UIvf1A7jRsG",
        "outputId": "1c4b1d67-a8e7-41d4-a9fe-41a944630c10"
      },
      "execution_count": null,
      "outputs": [
        {
          "output_type": "stream",
          "name": "stdout",
          "text": [
            "[0 1 2 3 4]\n"
          ]
        }
      ]
    },
    {
      "cell_type": "code",
      "execution_count": null,
      "metadata": {
        "id": "CI_83gXBGlj_"
      },
      "outputs": [],
      "source": [
        "subset = subset.reset_index(drop=True)\n",
        "REPLACE_BY_SPACE_RE = re.compile('[/(){}\\[\\]\\|@,;]')\n",
        "BAD_SYMBOLS_RE = re.compile('[^0-9a-z #+_]')\n",
        "STOPWORDS = set(stopwords.words('english'))\n",
        "\n",
        "def clean_text(text):\n",
        "    \"\"\"\n",
        "        text: a string\n",
        "        \n",
        "        return: modified initial string\n",
        "    \"\"\"\n",
        "    text = text.lower() # lowercase\n",
        "    text = REPLACE_BY_SPACE_RE.sub(' ', text) \n",
        "    text = BAD_SYMBOLS_RE.sub('', text) \n",
        "    text = ' '.join(word for word in text.split() if word not in STOPWORDS) \n",
        "    return text\n",
        "subset['reviews_concatenated'] = subset['reviews_concatenated'].apply(clean_text)"
      ]
    },
    {
      "cell_type": "code",
      "execution_count": null,
      "metadata": {
        "colab": {
          "base_uri": "https://localhost:8080/",
          "height": 424
        },
        "id": "4uUPxQu87_BC",
        "outputId": "a8586ef4-0a79-4082-b15f-b7579486a1d8"
      },
      "outputs": [
        {
          "output_type": "execute_result",
          "data": {
            "text/plain": [
              "                                    reviews_concatenated  label  stars\n",
              "0      nice little chinese bakery heart philadelphias...      1      4\n",
              "1      worst chicken parm sandwich ive ever eaten chi...      1      4\n",
              "2      stopped check new spot around corner us boyfri...      1      4\n",
              "3      place fantastic delicious simple healthy liter...      1      4\n",
              "4      great bar happy hour 47 every day wine drafts ...      1      2\n",
              "...                                                  ...    ...    ...\n",
              "22362  still fan tried place give fair shake disappoi...      0      2\n",
              "22363  youre looking good hoagie go wawa people got o...      0      3\n",
              "22364  happy hour bar amazing 3 wine beer champagne d...      1      4\n",
              "22365  ended leavingwe made reservation 2 715 29th ar...      1      4\n",
              "22366  must say place amazing comfortable atmosphere ...      2      4\n",
              "\n",
              "[22367 rows x 3 columns]"
            ],
            "text/html": [
              "\n",
              "  <div id=\"df-8fab029a-ba1f-4706-b671-884c7394473a\">\n",
              "    <div class=\"colab-df-container\">\n",
              "      <div>\n",
              "<style scoped>\n",
              "    .dataframe tbody tr th:only-of-type {\n",
              "        vertical-align: middle;\n",
              "    }\n",
              "\n",
              "    .dataframe tbody tr th {\n",
              "        vertical-align: top;\n",
              "    }\n",
              "\n",
              "    .dataframe thead th {\n",
              "        text-align: right;\n",
              "    }\n",
              "</style>\n",
              "<table border=\"1\" class=\"dataframe\">\n",
              "  <thead>\n",
              "    <tr style=\"text-align: right;\">\n",
              "      <th></th>\n",
              "      <th>reviews_concatenated</th>\n",
              "      <th>label</th>\n",
              "      <th>stars</th>\n",
              "    </tr>\n",
              "  </thead>\n",
              "  <tbody>\n",
              "    <tr>\n",
              "      <th>0</th>\n",
              "      <td>nice little chinese bakery heart philadelphias...</td>\n",
              "      <td>1</td>\n",
              "      <td>4</td>\n",
              "    </tr>\n",
              "    <tr>\n",
              "      <th>1</th>\n",
              "      <td>worst chicken parm sandwich ive ever eaten chi...</td>\n",
              "      <td>1</td>\n",
              "      <td>4</td>\n",
              "    </tr>\n",
              "    <tr>\n",
              "      <th>2</th>\n",
              "      <td>stopped check new spot around corner us boyfri...</td>\n",
              "      <td>1</td>\n",
              "      <td>4</td>\n",
              "    </tr>\n",
              "    <tr>\n",
              "      <th>3</th>\n",
              "      <td>place fantastic delicious simple healthy liter...</td>\n",
              "      <td>1</td>\n",
              "      <td>4</td>\n",
              "    </tr>\n",
              "    <tr>\n",
              "      <th>4</th>\n",
              "      <td>great bar happy hour 47 every day wine drafts ...</td>\n",
              "      <td>1</td>\n",
              "      <td>2</td>\n",
              "    </tr>\n",
              "    <tr>\n",
              "      <th>...</th>\n",
              "      <td>...</td>\n",
              "      <td>...</td>\n",
              "      <td>...</td>\n",
              "    </tr>\n",
              "    <tr>\n",
              "      <th>22362</th>\n",
              "      <td>still fan tried place give fair shake disappoi...</td>\n",
              "      <td>0</td>\n",
              "      <td>2</td>\n",
              "    </tr>\n",
              "    <tr>\n",
              "      <th>22363</th>\n",
              "      <td>youre looking good hoagie go wawa people got o...</td>\n",
              "      <td>0</td>\n",
              "      <td>3</td>\n",
              "    </tr>\n",
              "    <tr>\n",
              "      <th>22364</th>\n",
              "      <td>happy hour bar amazing 3 wine beer champagne d...</td>\n",
              "      <td>1</td>\n",
              "      <td>4</td>\n",
              "    </tr>\n",
              "    <tr>\n",
              "      <th>22365</th>\n",
              "      <td>ended leavingwe made reservation 2 715 29th ar...</td>\n",
              "      <td>1</td>\n",
              "      <td>4</td>\n",
              "    </tr>\n",
              "    <tr>\n",
              "      <th>22366</th>\n",
              "      <td>must say place amazing comfortable atmosphere ...</td>\n",
              "      <td>2</td>\n",
              "      <td>4</td>\n",
              "    </tr>\n",
              "  </tbody>\n",
              "</table>\n",
              "<p>22367 rows × 3 columns</p>\n",
              "</div>\n",
              "      <button class=\"colab-df-convert\" onclick=\"convertToInteractive('df-8fab029a-ba1f-4706-b671-884c7394473a')\"\n",
              "              title=\"Convert this dataframe to an interactive table.\"\n",
              "              style=\"display:none;\">\n",
              "        \n",
              "  <svg xmlns=\"http://www.w3.org/2000/svg\" height=\"24px\"viewBox=\"0 0 24 24\"\n",
              "       width=\"24px\">\n",
              "    <path d=\"M0 0h24v24H0V0z\" fill=\"none\"/>\n",
              "    <path d=\"M18.56 5.44l.94 2.06.94-2.06 2.06-.94-2.06-.94-.94-2.06-.94 2.06-2.06.94zm-11 1L8.5 8.5l.94-2.06 2.06-.94-2.06-.94L8.5 2.5l-.94 2.06-2.06.94zm10 10l.94 2.06.94-2.06 2.06-.94-2.06-.94-.94-2.06-.94 2.06-2.06.94z\"/><path d=\"M17.41 7.96l-1.37-1.37c-.4-.4-.92-.59-1.43-.59-.52 0-1.04.2-1.43.59L10.3 9.45l-7.72 7.72c-.78.78-.78 2.05 0 2.83L4 21.41c.39.39.9.59 1.41.59.51 0 1.02-.2 1.41-.59l7.78-7.78 2.81-2.81c.8-.78.8-2.07 0-2.86zM5.41 20L4 18.59l7.72-7.72 1.47 1.35L5.41 20z\"/>\n",
              "  </svg>\n",
              "      </button>\n",
              "      \n",
              "  <style>\n",
              "    .colab-df-container {\n",
              "      display:flex;\n",
              "      flex-wrap:wrap;\n",
              "      gap: 12px;\n",
              "    }\n",
              "\n",
              "    .colab-df-convert {\n",
              "      background-color: #E8F0FE;\n",
              "      border: none;\n",
              "      border-radius: 50%;\n",
              "      cursor: pointer;\n",
              "      display: none;\n",
              "      fill: #1967D2;\n",
              "      height: 32px;\n",
              "      padding: 0 0 0 0;\n",
              "      width: 32px;\n",
              "    }\n",
              "\n",
              "    .colab-df-convert:hover {\n",
              "      background-color: #E2EBFA;\n",
              "      box-shadow: 0px 1px 2px rgba(60, 64, 67, 0.3), 0px 1px 3px 1px rgba(60, 64, 67, 0.15);\n",
              "      fill: #174EA6;\n",
              "    }\n",
              "\n",
              "    [theme=dark] .colab-df-convert {\n",
              "      background-color: #3B4455;\n",
              "      fill: #D2E3FC;\n",
              "    }\n",
              "\n",
              "    [theme=dark] .colab-df-convert:hover {\n",
              "      background-color: #434B5C;\n",
              "      box-shadow: 0px 1px 3px 1px rgba(0, 0, 0, 0.15);\n",
              "      filter: drop-shadow(0px 1px 2px rgba(0, 0, 0, 0.3));\n",
              "      fill: #FFFFFF;\n",
              "    }\n",
              "  </style>\n",
              "\n",
              "      <script>\n",
              "        const buttonEl =\n",
              "          document.querySelector('#df-8fab029a-ba1f-4706-b671-884c7394473a button.colab-df-convert');\n",
              "        buttonEl.style.display =\n",
              "          google.colab.kernel.accessAllowed ? 'block' : 'none';\n",
              "\n",
              "        async function convertToInteractive(key) {\n",
              "          const element = document.querySelector('#df-8fab029a-ba1f-4706-b671-884c7394473a');\n",
              "          const dataTable =\n",
              "            await google.colab.kernel.invokeFunction('convertToInteractive',\n",
              "                                                     [key], {});\n",
              "          if (!dataTable) return;\n",
              "\n",
              "          const docLinkHtml = 'Like what you see? Visit the ' +\n",
              "            '<a target=\"_blank\" href=https://colab.research.google.com/notebooks/data_table.ipynb>data table notebook</a>'\n",
              "            + ' to learn more about interactive tables.';\n",
              "          element.innerHTML = '';\n",
              "          dataTable['output_type'] = 'display_data';\n",
              "          await google.colab.output.renderOutput(dataTable, element);\n",
              "          const docLink = document.createElement('div');\n",
              "          docLink.innerHTML = docLinkHtml;\n",
              "          element.appendChild(docLink);\n",
              "        }\n",
              "      </script>\n",
              "    </div>\n",
              "  </div>\n",
              "  "
            ]
          },
          "metadata": {},
          "execution_count": 24
        }
      ],
      "source": [
        "subset"
      ]
    },
    {
      "cell_type": "code",
      "execution_count": null,
      "metadata": {
        "colab": {
          "base_uri": "https://localhost:8080/"
        },
        "id": "QUKaBHwiFnQn",
        "outputId": "5f24bcf9-2687-4eb0-ffc5-23d391d1a678"
      },
      "outputs": [
        {
          "output_type": "stream",
          "name": "stdout",
          "text": [
            "Found 1242595 unique tokens.\n"
          ]
        }
      ],
      "source": [
        "# The maximum number of words to be used. (most frequent)\n",
        "MAX_NB_WORDS = 50000\n",
        "# Max number of words in each complaint.\n",
        "MAX_SEQUENCE_LENGTH = 250\n",
        "# This is fixed.\n",
        "EMBEDDING_DIM = 100\n",
        "\n",
        "tokenizer = Tokenizer(num_words=MAX_NB_WORDS, filters='!\"#$%&()*+,-./:;<=>?@[\\]^_`{|}~', lower=True)\n",
        "tokenizer.fit_on_texts(subset['reviews_concatenated'].values)\n",
        "word_index = tokenizer.word_index\n",
        "print('Found %s unique tokens.' % len(word_index))"
      ]
    },
    {
      "cell_type": "code",
      "execution_count": null,
      "metadata": {
        "colab": {
          "base_uri": "https://localhost:8080/"
        },
        "id": "YagmAyiGGvys",
        "outputId": "c0c58050-7214-4257-c488-1e0be49b3c2f"
      },
      "outputs": [
        {
          "output_type": "stream",
          "name": "stdout",
          "text": [
            "Shape of data tensor: (22367, 250)\n"
          ]
        }
      ],
      "source": [
        "X = tokenizer.texts_to_sequences(subset['reviews_concatenated'].values)\n",
        "X = tf.keras.preprocessing.sequence.pad_sequences(X, maxlen=MAX_SEQUENCE_LENGTH)\n",
        "print('Shape of data tensor:', X.shape)"
      ]
    },
    {
      "cell_type": "code",
      "execution_count": null,
      "metadata": {
        "colab": {
          "base_uri": "https://localhost:8080/"
        },
        "id": "8m-iLyzPJUzF",
        "outputId": "288313ed-f1ec-41be-bb3a-84be73dae223"
      },
      "outputs": [
        {
          "output_type": "stream",
          "name": "stdout",
          "text": [
            "Shape of label tensor: (22367, 2)\n"
          ]
        }
      ],
      "source": [
        "Y = subset[['stars','label']]\n",
        "print('Shape of label tensor:', Y.shape)"
      ]
    },
    {
      "cell_type": "code",
      "execution_count": null,
      "metadata": {
        "colab": {
          "base_uri": "https://localhost:8080/"
        },
        "id": "BiyrlONXJhQ9",
        "outputId": "7338d215-c742-4e96-c2e1-5ecc0de6ebfb"
      },
      "outputs": [
        {
          "output_type": "stream",
          "name": "stdout",
          "text": [
            "(20130, 250) (20130, 2)\n",
            "(2237, 250) (2237, 2)\n"
          ]
        }
      ],
      "source": [
        "X_train, X_test, Y_train, Y_test = train_test_split(X,Y, test_size = 0.10, random_state = 42)\n",
        "print(X_train.shape,Y_train.shape)\n",
        "print(X_test.shape,Y_test.shape)"
      ]
    },
    {
      "cell_type": "markdown",
      "source": [
        "Separating each of the outputs into their own variables to pass into Keras"
      ],
      "metadata": {
        "id": "nUXJB1Jo-g55"
      }
    },
    {
      "cell_type": "code",
      "execution_count": null,
      "metadata": {
        "id": "2fVXlk4WmsRQ"
      },
      "outputs": [],
      "source": [
        "Y_train_pop = pd.get_dummies(Y_train['label']).values\n",
        "Y_train_rating = pd.get_dummies(Y_train['stars']).values\n",
        "Y_test_pop = pd.get_dummies(Y_test['label']).values\n",
        "Y_test_rating = pd.get_dummies(Y_test['stars']).values"
      ]
    },
    {
      "cell_type": "code",
      "execution_count": null,
      "metadata": {
        "colab": {
          "base_uri": "https://localhost:8080/"
        },
        "id": "dHqVLOfiN1QU",
        "outputId": "f5ad2357-7a8e-44f6-d9fa-d167ff218acc"
      },
      "outputs": [
        {
          "output_type": "execute_result",
          "data": {
            "text/plain": [
              "array([[0, 1, 0, 0, 0],\n",
              "       [0, 1, 0, 0, 0],\n",
              "       [0, 1, 0, 0, 0],\n",
              "       ...,\n",
              "       [0, 1, 0, 0, 0],\n",
              "       [1, 0, 0, 0, 0],\n",
              "       [0, 1, 0, 0, 0]], dtype=uint8)"
            ]
          },
          "metadata": {},
          "execution_count": 12
        }
      ],
      "source": [
        "Y_train_pop"
      ]
    },
    {
      "cell_type": "markdown",
      "source": [
        "Model Creation"
      ],
      "metadata": {
        "id": "bqxvafmn-oBi"
      }
    },
    {
      "cell_type": "code",
      "execution_count": null,
      "metadata": {
        "id": "Ks8dCd8WGeq8",
        "colab": {
          "base_uri": "https://localhost:8080/"
        },
        "outputId": "05e48ae0-33ad-485c-98df-535b4027891d"
      },
      "outputs": [
        {
          "output_type": "stream",
          "name": "stderr",
          "text": [
            "WARNING:tensorflow:Layer lstm will not use cuDNN kernels since it doesn't meet the criteria. It will use a generic GPU kernel as fallback when running on GPU.\n"
          ]
        }
      ],
      "source": [
        "import keras\n",
        "from keras.models import Model\n",
        "from keras.layers import Input, Dense, Dropout, Activation, Flatten\n",
        "\n",
        "from keras.utils import plot_model\n",
        "dr = 0.3\n",
        "\n",
        "inputs = Input(shape=X.shape[1], name='main_input')\n",
        "\n",
        "main_branch = Embedding(MAX_NB_WORDS, EMBEDDING_DIM, input_length=X.shape[1])(inputs)\n",
        "main_branch = SpatialDropout1D(0.2)(main_branch)\n",
        "main_branch = LSTM(100, dropout=0.2, recurrent_dropout=0.2)(main_branch)"
      ]
    },
    {
      "cell_type": "code",
      "execution_count": null,
      "metadata": {
        "id": "BAew1F_MLZUt"
      },
      "outputs": [],
      "source": [
        "popularity_branch = Dense(5, activation='softmax', name='popularity_output')(main_branch)\n",
        "ratings_branch = Dense(5, activation='softmax', name='ratings_output')(main_branch)"
      ]
    },
    {
      "cell_type": "code",
      "execution_count": null,
      "metadata": {
        "colab": {
          "base_uri": "https://localhost:8080/"
        },
        "id": "jEvy40LfCiCz",
        "outputId": "da126202-52fb-43d9-c3c7-da20c6d57d7c"
      },
      "outputs": [
        {
          "output_type": "stream",
          "name": "stdout",
          "text": [
            "Model: \"model\"\n",
            "__________________________________________________________________________________________________\n",
            " Layer (type)                   Output Shape         Param #     Connected to                     \n",
            "==================================================================================================\n",
            " main_input (InputLayer)        [(None, 250)]        0           []                               \n",
            "                                                                                                  \n",
            " embedding (Embedding)          (None, 250, 100)     5000000     ['main_input[0][0]']             \n",
            "                                                                                                  \n",
            " spatial_dropout1d (SpatialDrop  (None, 250, 100)    0           ['embedding[0][0]']              \n",
            " out1D)                                                                                           \n",
            "                                                                                                  \n",
            " lstm (LSTM)                    (None, 100)          80400       ['spatial_dropout1d[0][0]']      \n",
            "                                                                                                  \n",
            " popularity_output (Dense)      (None, 5)            505         ['lstm[0][0]']                   \n",
            "                                                                                                  \n",
            " ratings_output (Dense)         (None, 5)            505         ['lstm[0][0]']                   \n",
            "                                                                                                  \n",
            "==================================================================================================\n",
            "Total params: 5,081,410\n",
            "Trainable params: 5,081,410\n",
            "Non-trainable params: 0\n",
            "__________________________________________________________________________________________________\n"
          ]
        }
      ],
      "source": [
        "model = Model(inputs = inputs,\n",
        "     outputs = [popularity_branch, ratings_branch])\n",
        "model.summary()\n"
      ]
    },
    {
      "cell_type": "code",
      "execution_count": null,
      "metadata": {
        "colab": {
          "base_uri": "https://localhost:8080/"
        },
        "id": "4eJU6MdDMvYl",
        "outputId": "d0228807-9eed-4655-abb2-269b8e381b2d"
      },
      "outputs": [
        {
          "output_type": "stream",
          "name": "stdout",
          "text": [
            "Model: \"model\"\n",
            "__________________________________________________________________________________________________\n",
            " Layer (type)                   Output Shape         Param #     Connected to                     \n",
            "==================================================================================================\n",
            " main_input (InputLayer)        [(None, 250)]        0           []                               \n",
            "                                                                                                  \n",
            " embedding (Embedding)          (None, 250, 100)     5000000     ['main_input[0][0]']             \n",
            "                                                                                                  \n",
            " spatial_dropout1d (SpatialDrop  (None, 250, 100)    0           ['embedding[0][0]']              \n",
            " out1D)                                                                                           \n",
            "                                                                                                  \n",
            " lstm (LSTM)                    (None, 100)          80400       ['spatial_dropout1d[0][0]']      \n",
            "                                                                                                  \n",
            " popularity_output (Dense)      (None, 5)            505         ['lstm[0][0]']                   \n",
            "                                                                                                  \n",
            " ratings_output (Dense)         (None, 5)            505         ['lstm[0][0]']                   \n",
            "                                                                                                  \n",
            "==================================================================================================\n",
            "Total params: 5,081,410\n",
            "Trainable params: 5,081,410\n",
            "Non-trainable params: 0\n",
            "__________________________________________________________________________________________________\n"
          ]
        },
        {
          "output_type": "stream",
          "name": "stderr",
          "text": [
            "/usr/local/lib/python3.8/dist-packages/keras/optimizers/optimizer_v2/rmsprop.py:135: UserWarning: The `lr` argument is deprecated, use `learning_rate` instead.\n",
            "  super(RMSprop, self).__init__(name, **kwargs)\n"
          ]
        }
      ],
      "source": [
        "opt = keras.optimizers.RMSprop(lr=1e-3)\n",
        "model.compile(optimizer='adam',\n",
        "              loss={'popularity_output': 'categorical_crossentropy', 'ratings_output': 'categorical_crossentropy'},\n",
        "              metrics=['accuracy'])\n",
        "model.summary()"
      ]
    },
    {
      "cell_type": "code",
      "execution_count": null,
      "metadata": {
        "colab": {
          "base_uri": "https://localhost:8080/"
        },
        "id": "u6izQxQMNVjI",
        "outputId": "4253cac5-d6e5-4b9b-c15d-76b9cdc76c92"
      },
      "outputs": [
        {
          "output_type": "stream",
          "name": "stdout",
          "text": [
            "Epoch 1/5\n",
            "126/126 [==============================] - 138s 1s/step - loss: 2.1332 - popularity_output_loss: 1.0932 - ratings_output_loss: 1.0400 - popularity_output_accuracy: 0.4750 - ratings_output_accuracy: 0.5479 - val_loss: 2.0028 - val_popularity_output_loss: 1.0268 - val_ratings_output_loss: 0.9760 - val_popularity_output_accuracy: 0.4896 - val_ratings_output_accuracy: 0.5504\n",
            "Epoch 2/5\n",
            "126/126 [==============================] - 130s 1s/step - loss: 1.9967 - popularity_output_loss: 1.0307 - ratings_output_loss: 0.9660 - popularity_output_accuracy: 0.5024 - ratings_output_accuracy: 0.5586 - val_loss: 1.9830 - val_popularity_output_loss: 1.0267 - val_ratings_output_loss: 0.9563 - val_popularity_output_accuracy: 0.4901 - val_ratings_output_accuracy: 0.5524\n",
            "Epoch 3/5\n",
            "126/126 [==============================] - 131s 1s/step - loss: 1.8441 - popularity_output_loss: 0.9780 - ratings_output_loss: 0.8662 - popularity_output_accuracy: 0.5690 - ratings_output_accuracy: 0.6278 - val_loss: 1.9076 - val_popularity_output_loss: 1.0534 - val_ratings_output_loss: 0.8542 - val_popularity_output_accuracy: 0.5057 - val_ratings_output_accuracy: 0.6448\n",
            "Epoch 4/5\n",
            "126/126 [==============================] - 130s 1s/step - loss: 1.6240 - popularity_output_loss: 0.8772 - ratings_output_loss: 0.7468 - popularity_output_accuracy: 0.6361 - ratings_output_accuracy: 0.6960 - val_loss: 1.9849 - val_popularity_output_loss: 1.1247 - val_ratings_output_loss: 0.8602 - val_popularity_output_accuracy: 0.5109 - val_ratings_output_accuracy: 0.6292\n",
            "Epoch 5/5\n",
            "126/126 [==============================] - 131s 1s/step - loss: 1.4747 - popularity_output_loss: 0.7678 - ratings_output_loss: 0.7069 - popularity_output_accuracy: 0.6903 - ratings_output_accuracy: 0.7144 - val_loss: 2.0265 - val_popularity_output_loss: 1.1389 - val_ratings_output_loss: 0.8876 - val_popularity_output_accuracy: 0.4980 - val_ratings_output_accuracy: 0.6195\n"
          ]
        },
        {
          "output_type": "execute_result",
          "data": {
            "text/plain": [
              "<keras.callbacks.History at 0x7f0537f8d7f0>"
            ]
          },
          "metadata": {},
          "execution_count": 17
        }
      ],
      "source": [
        "from keras.utils import plot_model\n",
        "model.fit({'main_input': X_train},\n",
        "              {'popularity_output': Y_train_pop, 'ratings_output': Y_train_rating},\n",
        "              epochs=5, batch_size=128,\n",
        "              verbose=1,\n",
        "              #callbacks=[plot_progress],\n",
        "              validation_split=0.2,\n",
        "             )"
      ]
    },
    {
      "cell_type": "code",
      "execution_count": null,
      "metadata": {
        "id": "pS-7DItm5NTa"
      },
      "outputs": [],
      "source": [
        "model.save(\"my_model\")"
      ]
    },
    {
      "cell_type": "code",
      "execution_count": null,
      "metadata": {
        "colab": {
          "base_uri": "https://localhost:8080/"
        },
        "id": "sw94Mvmi5527",
        "outputId": "7bb9f85f-2c35-4cea-8ec1-e6a4c2937d23"
      },
      "outputs": [
        {
          "output_type": "stream",
          "name": "stderr",
          "text": [
            "WARNING:tensorflow:Layer lstm will not use cuDNN kernels since it doesn't meet the criteria. It will use a generic GPU kernel as fallback when running on GPU.\n"
          ]
        }
      ],
      "source": [
        "reconstructed_model = keras.models.load_model(\"my_model\")"
      ]
    },
    {
      "cell_type": "code",
      "execution_count": null,
      "metadata": {
        "colab": {
          "base_uri": "https://localhost:8080/"
        },
        "id": "Uiiuwmb6Cqvx",
        "outputId": "447ef928-1ac5-4c52-f555-b97d034c3e2a"
      },
      "outputs": [
        {
          "output_type": "stream",
          "name": "stdout",
          "text": [
            "70/70 [==============================] - 5s 69ms/step - loss: 2.0607 - popularity_output_loss: 1.1491 - ratings_output_loss: 0.9115 - popularity_output_accuracy: 0.4890 - ratings_output_accuracy: 0.5932\n",
            "Test set\n",
            "  Loss: 2.061\n",
            "  Accuracy: 1.149\n",
            "  Accuracy2: 0.912\n",
            "[2.0606772899627686, 1.1491354703903198, 0.9115419983863831, 0.4890478253364563, 0.5932052135467529]\n"
          ]
        }
      ],
      "source": [
        "accr = model.evaluate(X_test,[Y_test_pop,Y_test_rating])\n",
        "print('Test set\\n  Loss: {:0.3f}\\n  Accuracy: {:0.3f}\\n  Accuracy2: {:0.3f}'.format(accr[0],accr[1],accr[2]))\n",
        "print(accr)"
      ]
    },
    {
      "cell_type": "code",
      "execution_count": null,
      "metadata": {
        "colab": {
          "base_uri": "https://localhost:8080/"
        },
        "id": "d-IOaR-46aIP",
        "outputId": "e932e511-b82f-4286-c946-4b8609811136"
      },
      "outputs": [
        {
          "output_type": "stream",
          "name": "stdout",
          "text": [
            "70/70 [==============================] - 5s 68ms/step\n"
          ]
        }
      ],
      "source": [
        "predicted = model.predict(X_test)"
      ]
    },
    {
      "cell_type": "code",
      "execution_count": null,
      "metadata": {
        "id": "avUBFO606c11"
      },
      "outputs": [],
      "source": [
        "predicted_pop = predicted[0]\n",
        "predicted_rating = predicted[1]"
      ]
    },
    {
      "cell_type": "code",
      "execution_count": null,
      "metadata": {
        "id": "Xegfas5b6rP-"
      },
      "outputs": [],
      "source": [
        "predicted_pop = np.argmax(predicted_pop,axis =1)\n",
        "predicted_rating = np.argmax(predicted_rating,axis =1)"
      ]
    },
    {
      "cell_type": "code",
      "execution_count": null,
      "metadata": {
        "colab": {
          "base_uri": "https://localhost:8080/",
          "height": 295
        },
        "id": "AHFEgJOV7wlw",
        "outputId": "c3c227ab-3cc4-4562-acb8-f997798c4ef9"
      },
      "outputs": [
        {
          "output_type": "display_data",
          "data": {
            "text/plain": [
              "<Figure size 432x288 with 2 Axes>"
            ],
            "image/png": "[encoded data removed]"
          },
          "metadata": {
            "needs_background": "light"
          }
        }
      ],
      "source": [
        "from sklearn import metrics\n",
        "confusion_matrix = metrics.confusion_matrix(Y_test.iloc[:,1].values,predicted_pop)\n",
        "cm_display = metrics.ConfusionMatrixDisplay(confusion_matrix=confusion_matrix,display_labels=[0,1,2,3,4])\n",
        "\n",
        "cm_display.plot()\n",
        "plt.title(\"MTL Popularity Model CM\")\n",
        "plt.show()"
      ]
    },
    {
      "cell_type": "code",
      "source": [
        "Y_test.iloc[:,0].unique()"
      ],
      "metadata": {
        "colab": {
          "base_uri": "https://localhost:8080/"
        },
        "id": "6kK1QaGY7eO3",
        "outputId": "0af957be-0a08-448d-e164-2236400bd575"
      },
      "execution_count": null,
      "outputs": [
        {
          "output_type": "execute_result",
          "data": {
            "text/plain": [
              "array([4, 3, 2, 1, 5])"
            ]
          },
          "metadata": {},
          "execution_count": 40
        }
      ]
    },
    {
      "cell_type": "code",
      "source": [
        "len(predicted_rating)"
      ],
      "metadata": {
        "colab": {
          "base_uri": "https://localhost:8080/"
        },
        "id": "i5jNQA_G7itH",
        "outputId": "a05d0aaf-d421-494e-d418-c08ee017e555"
      },
      "execution_count": null,
      "outputs": [
        {
          "output_type": "execute_result",
          "data": {
            "text/plain": [
              "2237"
            ]
          },
          "metadata": {},
          "execution_count": 44
        }
      ]
    },
    {
      "cell_type": "code",
      "execution_count": null,
      "metadata": {
        "colab": {
          "base_uri": "https://localhost:8080/",
          "height": 295
        },
        "id": "b010DQFj8Y5w",
        "outputId": "3f022435-5042-4a50-f6d9-bfd748f9621a"
      },
      "outputs": [
        {
          "output_type": "display_data",
          "data": {
            "text/plain": [
              "<Figure size 432x288 with 2 Axes>"
            ],
            "image/png": "[encoded data removed]"
          },
          "metadata": {
            "needs_background": "light"
          }
        }
      ],
      "source": [
        "from sklearn import metrics\n",
        "confusion_matrix = metrics.confusion_matrix(Y_test.iloc[:,0].values,predicted_rating)\n",
        "cm_display = metrics.ConfusionMatrixDisplay(confusion_matrix=confusion_matrix,display_labels=[0,1,2,3,4,5])\n",
        "\n",
        "cm_display.plot()\n",
        "plt.title(\"MTL Rating Model CM\")\n",
        "plt.show()"
      ]
    }
  ],
  "metadata": {
    "accelerator": "GPU",
    "colab": {
      "provenance": []
    },
    "gpuClass": "standard",
    "kernelspec": {
      "display_name": "Python 3",
      "name": "python3"
    },
    "language_info": {
      "name": "python"
    }
  },
  "nbformat": 4,
  "nbformat_minor": 0
}