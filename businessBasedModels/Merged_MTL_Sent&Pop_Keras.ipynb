{
  "cells": [
    {
      "cell_type": "code",
      "execution_count": null,
      "metadata": {
        "colab": {
          "base_uri": "https://localhost:8080/"
        },
        "id": "XARDlpry4zSE",
        "outputId": "302718e3-776f-4402-816d-f3f488a2448c"
      },
      "outputs": [
        {
          "output_type": "stream",
          "name": "stdout",
          "text": [
            "Mounted at /content/drive\n"
          ]
        }
      ],
      "source": [
        "from google.colab import drive\n",
        "drive.mount('/content/drive')"
      ]
    },
    {
      "cell_type": "code",
      "execution_count": null,
      "metadata": {
        "colab": {
          "base_uri": "https://localhost:8080/"
        },
        "id": "Eep_VNXI-mAO",
        "outputId": "e9cbb76f-ffd9-4b8a-e81f-baf483e46a51"
      },
      "outputs": [
        {
          "output_type": "stream",
          "name": "stderr",
          "text": [
            "[nltk_data] Downloading package stopwords to /root/nltk_data...\n",
            "[nltk_data]   Unzipping corpora/stopwords.zip.\n"
          ]
        }
      ],
      "source": [
        "import numpy as np # linear algebra\n",
        "import pandas as pd # data processing, CSV file I/O (e.g. pd.read_csv)\n",
        "import torch\n",
        "import torch.nn as nn\n",
        "import torch.nn.functional as F\n",
        "from nltk.corpus import stopwords \n",
        "import nltk\n",
        "from collections import Counter\n",
        "import string\n",
        "import re\n",
        "import math\n",
        "import seaborn as sns\n",
        "import tensorflow as tf\n",
        "from nltk import word_tokenize\n",
        "nltk.download('stopwords')\n",
        "from keras.preprocessing.text import Tokenizer\n",
        "from keras.models import Sequential\n",
        "from keras.layers import Dense, Embedding, LSTM, SpatialDropout1D, Dropout\n",
        "from keras.callbacks import EarlyStopping\n",
        "from tqdm import tqdm\n",
        "import matplotlib.pyplot as plt\n",
        "from torch.utils.data import TensorDataset, DataLoader\n",
        "from sklearn.model_selection import train_test_split"
      ]
    },
    {
      "cell_type": "code",
      "execution_count": null,
      "metadata": {
        "colab": {
          "base_uri": "https://localhost:8080/"
        },
        "id": "XBKj0WYN-tF-",
        "outputId": "15900eb5-a7f6-4ed5-ff7a-ecad13402c3b"
      },
      "outputs": [
        {
          "output_type": "stream",
          "name": "stdout",
          "text": [
            "GPU not available, CPU used\n"
          ]
        }
      ],
      "source": [
        "is_cuda = torch.cuda.is_available()\n",
        "\n",
        "# If we have a GPU available, we'll set our device to GPU. We'll use this device variable later in our code.\n",
        "if is_cuda:\n",
        "    device = torch.device(\"cuda\")\n",
        "    print(\"GPU is available\")\n",
        "else:\n",
        "    device = torch.device(\"cpu\")\n",
        "    print(\"GPU not available, CPU used\")"
      ]
    },
    {
      "cell_type": "code",
      "execution_count": null,
      "metadata": {
        "colab": {
          "base_uri": "https://localhost:8080/",
          "height": 206
        },
        "id": "tNlQ-wEE-us-",
        "outputId": "0a38b207-ca6f-4d3f-b111-e4996527f5a2"
      },
      "outputs": [
        {
          "output_type": "execute_result",
          "data": {
            "text/plain": [
              "              business_id  stars  review_count  visits  visits_normalized  \\\n",
              "0  MTSW4McQd7CbVtyjqoe9mw    4.0            80     335          27.916667   \n",
              "1  0bPLkL0QhhPO5kt1_EXmNQ    4.5           100     264          22.000000   \n",
              "2  MUTTqe8uqyMdBl186RmNeA    4.0           245     172          34.400000   \n",
              "3  ROeacJQwBeh05Rqg7F6TCg    4.5           205     221          24.555556   \n",
              "4  9OG5YkX1g2GReZM0AskizA    2.5           339     508          42.333333   \n",
              "\n",
              "   label                               reviews_concatenated  \n",
              "0      1  This is nice little Chinese bakery in the hear...  \n",
              "1      1  The worst Chicken Parm. Sandwich I've ever eat...  \n",
              "2      1  Stopped in to check out this new spot around t...  \n",
              "3      1  This place is fantastic!  Delicious, simple, h...  \n",
              "4      1  Great bar Happy Hour 4-7 every day. Wine & Dra...  "
            ],
            "text/html": [
              "\n",
              "  <div id=\"df-25919f5e-960b-44df-9ab8-d5ef60c90428\">\n",
              "    <div class=\"colab-df-container\">\n",
              "      <div>\n",
              "<style scoped>\n",
              "    .dataframe tbody tr th:only-of-type {\n",
              "        vertical-align: middle;\n",
              "    }\n",
              "\n",
              "    .dataframe tbody tr th {\n",
              "        vertical-align: top;\n",
              "    }\n",
              "\n",
              "    .dataframe thead th {\n",
              "        text-align: right;\n",
              "    }\n",
              "</style>\n",
              "<table border=\"1\" class=\"dataframe\">\n",
              "  <thead>\n",
              "    <tr style=\"text-align: right;\">\n",
              "      <th></th>\n",
              "      <th>business_id</th>\n",
              "      <th>stars</th>\n",
              "      <th>review_count</th>\n",
              "      <th>visits</th>\n",
              "      <th>visits_normalized</th>\n",
              "      <th>label</th>\n",
              "      <th>reviews_concatenated</th>\n",
              "    </tr>\n",
              "  </thead>\n",
              "  <tbody>\n",
              "    <tr>\n",
              "      <th>0</th>\n",
              "      <td>MTSW4McQd7CbVtyjqoe9mw</td>\n",
              "      <td>4.0</td>\n",
              "      <td>80</td>\n",
              "      <td>335</td>\n",
              "      <td>27.916667</td>\n",
              "      <td>1</td>\n",
              "      <td>This is nice little Chinese bakery in the hear...</td>\n",
              "    </tr>\n",
              "    <tr>\n",
              "      <th>1</th>\n",
              "      <td>0bPLkL0QhhPO5kt1_EXmNQ</td>\n",
              "      <td>4.5</td>\n",
              "      <td>100</td>\n",
              "      <td>264</td>\n",
              "      <td>22.000000</td>\n",
              "      <td>1</td>\n",
              "      <td>The worst Chicken Parm. Sandwich I've ever eat...</td>\n",
              "    </tr>\n",
              "    <tr>\n",
              "      <th>2</th>\n",
              "      <td>MUTTqe8uqyMdBl186RmNeA</td>\n",
              "      <td>4.0</td>\n",
              "      <td>245</td>\n",
              "      <td>172</td>\n",
              "      <td>34.400000</td>\n",
              "      <td>1</td>\n",
              "      <td>Stopped in to check out this new spot around t...</td>\n",
              "    </tr>\n",
              "    <tr>\n",
              "      <th>3</th>\n",
              "      <td>ROeacJQwBeh05Rqg7F6TCg</td>\n",
              "      <td>4.5</td>\n",
              "      <td>205</td>\n",
              "      <td>221</td>\n",
              "      <td>24.555556</td>\n",
              "      <td>1</td>\n",
              "      <td>This place is fantastic!  Delicious, simple, h...</td>\n",
              "    </tr>\n",
              "    <tr>\n",
              "      <th>4</th>\n",
              "      <td>9OG5YkX1g2GReZM0AskizA</td>\n",
              "      <td>2.5</td>\n",
              "      <td>339</td>\n",
              "      <td>508</td>\n",
              "      <td>42.333333</td>\n",
              "      <td>1</td>\n",
              "      <td>Great bar Happy Hour 4-7 every day. Wine &amp; Dra...</td>\n",
              "    </tr>\n",
              "  </tbody>\n",
              "</table>\n",
              "</div>\n",
              "      <button class=\"colab-df-convert\" onclick=\"convertToInteractive('df-25919f5e-960b-44df-9ab8-d5ef60c90428')\"\n",
              "              title=\"Convert this dataframe to an interactive table.\"\n",
              "              style=\"display:none;\">\n",
              "        \n",
              "  <svg xmlns=\"http://www.w3.org/2000/svg\" height=\"24px\"viewBox=\"0 0 24 24\"\n",
              "       width=\"24px\">\n",
              "    <path d=\"M0 0h24v24H0V0z\" fill=\"none\"/>\n",
              "    <path d=\"M18.56 5.44l.94 2.06.94-2.06 2.06-.94-2.06-.94-.94-2.06-.94 2.06-2.06.94zm-11 1L8.5 8.5l.94-2.06 2.06-.94-2.06-.94L8.5 2.5l-.94 2.06-2.06.94zm10 10l.94 2.06.94-2.06 2.06-.94-2.06-.94-.94-2.06-.94 2.06-2.06.94z\"/><path d=\"M17.41 7.96l-1.37-1.37c-.4-.4-.92-.59-1.43-.59-.52 0-1.04.2-1.43.59L10.3 9.45l-7.72 7.72c-.78.78-.78 2.05 0 2.83L4 21.41c.39.39.9.59 1.41.59.51 0 1.02-.2 1.41-.59l7.78-7.78 2.81-2.81c.8-.78.8-2.07 0-2.86zM5.41 20L4 18.59l7.72-7.72 1.47 1.35L5.41 20z\"/>\n",
              "  </svg>\n",
              "      </button>\n",
              "      \n",
              "  <style>\n",
              "    .colab-df-container {\n",
              "      display:flex;\n",
              "      flex-wrap:wrap;\n",
              "      gap: 12px;\n",
              "    }\n",
              "\n",
              "    .colab-df-convert {\n",
              "      background-color: #E8F0FE;\n",
              "      border: none;\n",
              "      border-radius: 50%;\n",
              "      cursor: pointer;\n",
              "      display: none;\n",
              "      fill: #1967D2;\n",
              "      height: 32px;\n",
              "      padding: 0 0 0 0;\n",
              "      width: 32px;\n",
              "    }\n",
              "\n",
              "    .colab-df-convert:hover {\n",
              "      background-color: #E2EBFA;\n",
              "      box-shadow: 0px 1px 2px rgba(60, 64, 67, 0.3), 0px 1px 3px 1px rgba(60, 64, 67, 0.15);\n",
              "      fill: #174EA6;\n",
              "    }\n",
              "\n",
              "    [theme=dark] .colab-df-convert {\n",
              "      background-color: #3B4455;\n",
              "      fill: #D2E3FC;\n",
              "    }\n",
              "\n",
              "    [theme=dark] .colab-df-convert:hover {\n",
              "      background-color: #434B5C;\n",
              "      box-shadow: 0px 1px 3px 1px rgba(0, 0, 0, 0.15);\n",
              "      filter: drop-shadow(0px 1px 2px rgba(0, 0, 0, 0.3));\n",
              "      fill: #FFFFFF;\n",
              "    }\n",
              "  </style>\n",
              "\n",
              "      <script>\n",
              "        const buttonEl =\n",
              "          document.querySelector('#df-25919f5e-960b-44df-9ab8-d5ef60c90428 button.colab-df-convert');\n",
              "        buttonEl.style.display =\n",
              "          google.colab.kernel.accessAllowed ? 'block' : 'none';\n",
              "\n",
              "        async function convertToInteractive(key) {\n",
              "          const element = document.querySelector('#df-25919f5e-960b-44df-9ab8-d5ef60c90428');\n",
              "          const dataTable =\n",
              "            await google.colab.kernel.invokeFunction('convertToInteractive',\n",
              "                                                     [key], {});\n",
              "          if (!dataTable) return;\n",
              "\n",
              "          const docLinkHtml = 'Like what you see? Visit the ' +\n",
              "            '<a target=\"_blank\" href=https://colab.research.google.com/notebooks/data_table.ipynb>data table notebook</a>'\n",
              "            + ' to learn more about interactive tables.';\n",
              "          element.innerHTML = '';\n",
              "          dataTable['output_type'] = 'display_data';\n",
              "          await google.colab.output.renderOutput(dataTable, element);\n",
              "          const docLink = document.createElement('div');\n",
              "          docLink.innerHTML = docLinkHtml;\n",
              "          element.appendChild(docLink);\n",
              "        }\n",
              "      </script>\n",
              "    </div>\n",
              "  </div>\n",
              "  "
            ]
          },
          "metadata": {},
          "execution_count": 5
        }
      ],
      "source": [
        "#df = pd.read_pickle(\"/content/drive/MyDrive/CS525/yelp_compressed_reviews.pkl\")\n",
        "#df = pd.read_pickle(\"/content/drive/MyDrive/yelp_food_reviews.pkl\")\n",
        "# df = pd.read_pickle(\"/content/drive/MyDrive/CS525/yelp_compressed_reviews2.pkl\")\n",
        "df = pd.read_pickle(\"/content/drive/MyDrive/ST: NLP/Copy of yelp_compressed_reviews2.pkl\")\n",
        "\n",
        "df.head()\n"
      ]
    },
    {
      "cell_type": "markdown",
      "source": [
        "Functions to modify ratings --> sentiment for sentiment analysis and popularity to format acceptable to keras"
      ],
      "metadata": {
        "id": "HS5bxIeb-Cw6"
      }
    },
    {
      "cell_type": "code",
      "execution_count": null,
      "metadata": {
        "id": "M-lJu46B7JVL"
      },
      "outputs": [],
      "source": [
        "import tensorflow as tf\n",
        "def sentiment(val):\n",
        "  if val >= 3:\n",
        "    return 1\n",
        "  else:\n",
        "    return 0\n",
        "def popularity(val):\n",
        "  if val == 0.0:\n",
        "    return tf.convert_to_tensor([1,0,0,0,0])\n",
        "  elif val == 1.0:\n",
        "    return tf.convert_to_tensor([0,1,0,0,0])\n",
        "  elif val == 2.0:\n",
        "    return tf.convert_to_tensor([0,0,1,0,0])\n",
        "  elif val == 3.0:\n",
        "    return tf.convert_to_tensor([0,0,0,1,0])\n",
        "  else:\n",
        "    return tf.convert_to_tensor([0,0,0,0,1])"
      ]
    },
    {
      "cell_type": "code",
      "execution_count": null,
      "metadata": {
        "colab": {
          "base_uri": "https://localhost:8080/",
          "height": 784
        },
        "id": "uY_7xLSfABDu",
        "outputId": "483ac026-7753-4e02-99ce-7bdf6f51edbf"
      },
      "outputs": [
        {
          "output_type": "stream",
          "name": "stderr",
          "text": [
            "<ipython-input-7-08f96eb745b2>:4: SettingWithCopyWarning: \n",
            "A value is trying to be set on a copy of a slice from a DataFrame.\n",
            "Try using .loc[row_indexer,col_indexer] = value instead\n",
            "\n",
            "See the caveats in the documentation: https://pandas.pydata.org/pandas-docs/stable/user_guide/indexing.html#returning-a-view-versus-a-copy\n",
            "  subset['sent'] = subset['stars'].apply(lambda x: sentiment(x))\n"
          ]
        },
        {
          "output_type": "execute_result",
          "data": {
            "text/plain": [
              "                                 reviews_concatenated  label  sent\n",
              "0   This is nice little Chinese bakery in the hear...      1     1\n",
              "1   The worst Chicken Parm. Sandwich I've ever eat...      1     1\n",
              "2   Stopped in to check out this new spot around t...      1     1\n",
              "3   This place is fantastic!  Delicious, simple, h...      1     1\n",
              "4   Great bar Happy Hour 4-7 every day. Wine & Dra...      1     0\n",
              "5   cute ambience that would be great for date nig...      1     1\n",
              "6   This place is top notch, with phenomenal servi...      0     1\n",
              "7   Bunch of high school/college kids running the ...      0     1\n",
              "8   This is a great place to take guests visiting ...      1     1\n",
              "9   We had been driving around for some time, on a...      0     1\n",
              "10  Awful business model it took forever to even f...      1     1\n",
              "11  First time diner and I will definitely be back...      1     1\n",
              "12  My first visit and my last. Just spent $21.00 ...      1     1\n",
              "14  Best sports bar with amazingly good food. Ice ...      1     1\n",
              "15  Love the tap room, but I can't seem to get the...      1     1\n",
              "16  Wawa is like a beacon in a cold, dark world.  ...      1     1\n",
              "18  What a great addition to the Funk Zone!  Grab ...      2     1\n",
              "19  The service is awesome...staff is very friendl...      1     1\n",
              "20  Super tasty and enormous portions. Some unique...      2     1\n",
              "21  My girlfriend and I took my parents out to din...      0     1"
            ],
            "text/html": [
              "\n",
              "  <div id=\"df-bf5b0f89-9133-464d-8206-bc22480c41a2\">\n",
              "    <div class=\"colab-df-container\">\n",
              "      <div>\n",
              "<style scoped>\n",
              "    .dataframe tbody tr th:only-of-type {\n",
              "        vertical-align: middle;\n",
              "    }\n",
              "\n",
              "    .dataframe tbody tr th {\n",
              "        vertical-align: top;\n",
              "    }\n",
              "\n",
              "    .dataframe thead th {\n",
              "        text-align: right;\n",
              "    }\n",
              "</style>\n",
              "<table border=\"1\" class=\"dataframe\">\n",
              "  <thead>\n",
              "    <tr style=\"text-align: right;\">\n",
              "      <th></th>\n",
              "      <th>reviews_concatenated</th>\n",
              "      <th>label</th>\n",
              "      <th>sent</th>\n",
              "    </tr>\n",
              "  </thead>\n",
              "  <tbody>\n",
              "    <tr>\n",
              "      <th>0</th>\n",
              "      <td>This is nice little Chinese bakery in the hear...</td>\n",
              "      <td>1</td>\n",
              "      <td>1</td>\n",
              "    </tr>\n",
              "    <tr>\n",
              "      <th>1</th>\n",
              "      <td>The worst Chicken Parm. Sandwich I've ever eat...</td>\n",
              "      <td>1</td>\n",
              "      <td>1</td>\n",
              "    </tr>\n",
              "    <tr>\n",
              "      <th>2</th>\n",
              "      <td>Stopped in to check out this new spot around t...</td>\n",
              "      <td>1</td>\n",
              "      <td>1</td>\n",
              "    </tr>\n",
              "    <tr>\n",
              "      <th>3</th>\n",
              "      <td>This place is fantastic!  Delicious, simple, h...</td>\n",
              "      <td>1</td>\n",
              "      <td>1</td>\n",
              "    </tr>\n",
              "    <tr>\n",
              "      <th>4</th>\n",
              "      <td>Great bar Happy Hour 4-7 every day. Wine &amp; Dra...</td>\n",
              "      <td>1</td>\n",
              "      <td>0</td>\n",
              "    </tr>\n",
              "    <tr>\n",
              "      <th>5</th>\n",
              "      <td>cute ambience that would be great for date nig...</td>\n",
              "      <td>1</td>\n",
              "      <td>1</td>\n",
              "    </tr>\n",
              "    <tr>\n",
              "      <th>6</th>\n",
              "      <td>This place is top notch, with phenomenal servi...</td>\n",
              "      <td>0</td>\n",
              "      <td>1</td>\n",
              "    </tr>\n",
              "    <tr>\n",
              "      <th>7</th>\n",
              "      <td>Bunch of high school/college kids running the ...</td>\n",
              "      <td>0</td>\n",
              "      <td>1</td>\n",
              "    </tr>\n",
              "    <tr>\n",
              "      <th>8</th>\n",
              "      <td>This is a great place to take guests visiting ...</td>\n",
              "      <td>1</td>\n",
              "      <td>1</td>\n",
              "    </tr>\n",
              "    <tr>\n",
              "      <th>9</th>\n",
              "      <td>We had been driving around for some time, on a...</td>\n",
              "      <td>0</td>\n",
              "      <td>1</td>\n",
              "    </tr>\n",
              "    <tr>\n",
              "      <th>10</th>\n",
              "      <td>Awful business model it took forever to even f...</td>\n",
              "      <td>1</td>\n",
              "      <td>1</td>\n",
              "    </tr>\n",
              "    <tr>\n",
              "      <th>11</th>\n",
              "      <td>First time diner and I will definitely be back...</td>\n",
              "      <td>1</td>\n",
              "      <td>1</td>\n",
              "    </tr>\n",
              "    <tr>\n",
              "      <th>12</th>\n",
              "      <td>My first visit and my last. Just spent $21.00 ...</td>\n",
              "      <td>1</td>\n",
              "      <td>1</td>\n",
              "    </tr>\n",
              "    <tr>\n",
              "      <th>14</th>\n",
              "      <td>Best sports bar with amazingly good food. Ice ...</td>\n",
              "      <td>1</td>\n",
              "      <td>1</td>\n",
              "    </tr>\n",
              "    <tr>\n",
              "      <th>15</th>\n",
              "      <td>Love the tap room, but I can't seem to get the...</td>\n",
              "      <td>1</td>\n",
              "      <td>1</td>\n",
              "    </tr>\n",
              "    <tr>\n",
              "      <th>16</th>\n",
              "      <td>Wawa is like a beacon in a cold, dark world.  ...</td>\n",
              "      <td>1</td>\n",
              "      <td>1</td>\n",
              "    </tr>\n",
              "    <tr>\n",
              "      <th>18</th>\n",
              "      <td>What a great addition to the Funk Zone!  Grab ...</td>\n",
              "      <td>2</td>\n",
              "      <td>1</td>\n",
              "    </tr>\n",
              "    <tr>\n",
              "      <th>19</th>\n",
              "      <td>The service is awesome...staff is very friendl...</td>\n",
              "      <td>1</td>\n",
              "      <td>1</td>\n",
              "    </tr>\n",
              "    <tr>\n",
              "      <th>20</th>\n",
              "      <td>Super tasty and enormous portions. Some unique...</td>\n",
              "      <td>2</td>\n",
              "      <td>1</td>\n",
              "    </tr>\n",
              "    <tr>\n",
              "      <th>21</th>\n",
              "      <td>My girlfriend and I took my parents out to din...</td>\n",
              "      <td>0</td>\n",
              "      <td>1</td>\n",
              "    </tr>\n",
              "  </tbody>\n",
              "</table>\n",
              "</div>\n",
              "      <button class=\"colab-df-convert\" onclick=\"convertToInteractive('df-bf5b0f89-9133-464d-8206-bc22480c41a2')\"\n",
              "              title=\"Convert this dataframe to an interactive table.\"\n",
              "              style=\"display:none;\">\n",
              "        \n",
              "  <svg xmlns=\"http://www.w3.org/2000/svg\" height=\"24px\"viewBox=\"0 0 24 24\"\n",
              "       width=\"24px\">\n",
              "    <path d=\"M0 0h24v24H0V0z\" fill=\"none\"/>\n",
              "    <path d=\"M18.56 5.44l.94 2.06.94-2.06 2.06-.94-2.06-.94-.94-2.06-.94 2.06-2.06.94zm-11 1L8.5 8.5l.94-2.06 2.06-.94-2.06-.94L8.5 2.5l-.94 2.06-2.06.94zm10 10l.94 2.06.94-2.06 2.06-.94-2.06-.94-.94-2.06-.94 2.06-2.06.94z\"/><path d=\"M17.41 7.96l-1.37-1.37c-.4-.4-.92-.59-1.43-.59-.52 0-1.04.2-1.43.59L10.3 9.45l-7.72 7.72c-.78.78-.78 2.05 0 2.83L4 21.41c.39.39.9.59 1.41.59.51 0 1.02-.2 1.41-.59l7.78-7.78 2.81-2.81c.8-.78.8-2.07 0-2.86zM5.41 20L4 18.59l7.72-7.72 1.47 1.35L5.41 20z\"/>\n",
              "  </svg>\n",
              "      </button>\n",
              "      \n",
              "  <style>\n",
              "    .colab-df-container {\n",
              "      display:flex;\n",
              "      flex-wrap:wrap;\n",
              "      gap: 12px;\n",
              "    }\n",
              "\n",
              "    .colab-df-convert {\n",
              "      background-color: #E8F0FE;\n",
              "      border: none;\n",
              "      border-radius: 50%;\n",
              "      cursor: pointer;\n",
              "      display: none;\n",
              "      fill: #1967D2;\n",
              "      height: 32px;\n",
              "      padding: 0 0 0 0;\n",
              "      width: 32px;\n",
              "    }\n",
              "\n",
              "    .colab-df-convert:hover {\n",
              "      background-color: #E2EBFA;\n",
              "      box-shadow: 0px 1px 2px rgba(60, 64, 67, 0.3), 0px 1px 3px 1px rgba(60, 64, 67, 0.15);\n",
              "      fill: #174EA6;\n",
              "    }\n",
              "\n",
              "    [theme=dark] .colab-df-convert {\n",
              "      background-color: #3B4455;\n",
              "      fill: #D2E3FC;\n",
              "    }\n",
              "\n",
              "    [theme=dark] .colab-df-convert:hover {\n",
              "      background-color: #434B5C;\n",
              "      box-shadow: 0px 1px 3px 1px rgba(0, 0, 0, 0.15);\n",
              "      filter: drop-shadow(0px 1px 2px rgba(0, 0, 0, 0.3));\n",
              "      fill: #FFFFFF;\n",
              "    }\n",
              "  </style>\n",
              "\n",
              "      <script>\n",
              "        const buttonEl =\n",
              "          document.querySelector('#df-bf5b0f89-9133-464d-8206-bc22480c41a2 button.colab-df-convert');\n",
              "        buttonEl.style.display =\n",
              "          google.colab.kernel.accessAllowed ? 'block' : 'none';\n",
              "\n",
              "        async function convertToInteractive(key) {\n",
              "          const element = document.querySelector('#df-bf5b0f89-9133-464d-8206-bc22480c41a2');\n",
              "          const dataTable =\n",
              "            await google.colab.kernel.invokeFunction('convertToInteractive',\n",
              "                                                     [key], {});\n",
              "          if (!dataTable) return;\n",
              "\n",
              "          const docLinkHtml = 'Like what you see? Visit the ' +\n",
              "            '<a target=\"_blank\" href=https://colab.research.google.com/notebooks/data_table.ipynb>data table notebook</a>'\n",
              "            + ' to learn more about interactive tables.';\n",
              "          element.innerHTML = '';\n",
              "          dataTable['output_type'] = 'display_data';\n",
              "          await google.colab.output.renderOutput(dataTable, element);\n",
              "          const docLink = document.createElement('div');\n",
              "          docLink.innerHTML = docLinkHtml;\n",
              "          element.appendChild(docLink);\n",
              "        }\n",
              "      </script>\n",
              "    </div>\n",
              "  </div>\n",
              "  "
            ]
          },
          "metadata": {},
          "execution_count": 7
        }
      ],
      "source": [
        "#subset = df[['text','label','stars']].sample(n=100000, random_state=8)\n",
        "#subset = df[['reviews_concatenated','label','stars']].sample(n=100000, random_state=8)\n",
        "subset = df[['reviews_concatenated','label', 'stars']]\n",
        "subset['sent'] = subset['stars'].apply(lambda x: sentiment(x))\n",
        "subset = subset.drop(['stars'], axis=1)\n",
        "#subset['stars'] = subset['stars'].apply(\n",
        "#    lambda x: math.floor(x)\n",
        "#)\n",
        "#subset['label'] = subset['label'].apply(lambda x: popularity(x))\n",
        "subset.head(20)"
      ]
    },
    {
      "cell_type": "code",
      "execution_count": null,
      "metadata": {
        "id": "CI_83gXBGlj_"
      },
      "outputs": [],
      "source": [
        "subset = subset.reset_index(drop=True)\n",
        "REPLACE_BY_SPACE_RE = re.compile('[/(){}\\[\\]\\|@,;]')\n",
        "BAD_SYMBOLS_RE = re.compile('[^0-9a-z #+_]')\n",
        "STOPWORDS = set(stopwords.words('english'))\n",
        "\n",
        "def clean_text(text):\n",
        "    \"\"\"\n",
        "        text: a string\n",
        "        \n",
        "        return: modified initial string\n",
        "    \"\"\"\n",
        "    text = text.lower() # lowercase\n",
        "    text = REPLACE_BY_SPACE_RE.sub(' ', text) \n",
        "    text = BAD_SYMBOLS_RE.sub('', text) \n",
        "    text = ' '.join(word for word in text.split() if word not in STOPWORDS) \n",
        "    return text\n",
        "subset['reviews_concatenated'] = subset['reviews_concatenated'].apply(clean_text)"
      ]
    },
    {
      "cell_type": "code",
      "execution_count": null,
      "metadata": {
        "colab": {
          "base_uri": "https://localhost:8080/",
          "height": 424
        },
        "id": "4uUPxQu87_BC",
        "outputId": "75f971d9-d689-47a3-bb16-d0dcf108b371"
      },
      "outputs": [
        {
          "output_type": "execute_result",
          "data": {
            "text/plain": [
              "                                    reviews_concatenated  label  stars  sent\n",
              "0      nice little chinese bakery heart philadelphias...      1      4     1\n",
              "1      worst chicken parm sandwich ive ever eaten chi...      1      4     1\n",
              "2      stopped check new spot around corner us boyfri...      1      4     1\n",
              "3      place fantastic delicious simple healthy liter...      1      4     1\n",
              "4      great bar happy hour 47 every day wine drafts ...      1      2     0\n",
              "...                                                  ...    ...    ...   ...\n",
              "22362  still fan tried place give fair shake disappoi...      0      2     0\n",
              "22363  youre looking good hoagie go wawa people got o...      0      3     1\n",
              "22364  happy hour bar amazing 3 wine beer champagne d...      1      4     1\n",
              "22365  ended leavingwe made reservation 2 715 29th ar...      1      4     1\n",
              "22366  must say place amazing comfortable atmosphere ...      2      4     1\n",
              "\n",
              "[22367 rows x 4 columns]"
            ],
            "text/html": [
              "\n",
              "  <div id=\"df-7978ef76-7179-4b73-b519-6de6ba2bce18\">\n",
              "    <div class=\"colab-df-container\">\n",
              "      <div>\n",
              "<style scoped>\n",
              "    .dataframe tbody tr th:only-of-type {\n",
              "        vertical-align: middle;\n",
              "    }\n",
              "\n",
              "    .dataframe tbody tr th {\n",
              "        vertical-align: top;\n",
              "    }\n",
              "\n",
              "    .dataframe thead th {\n",
              "        text-align: right;\n",
              "    }\n",
              "</style>\n",
              "<table border=\"1\" class=\"dataframe\">\n",
              "  <thead>\n",
              "    <tr style=\"text-align: right;\">\n",
              "      <th></th>\n",
              "      <th>reviews_concatenated</th>\n",
              "      <th>label</th>\n",
              "      <th>stars</th>\n",
              "      <th>sent</th>\n",
              "    </tr>\n",
              "  </thead>\n",
              "  <tbody>\n",
              "    <tr>\n",
              "      <th>0</th>\n",
              "      <td>nice little chinese bakery heart philadelphias...</td>\n",
              "      <td>1</td>\n",
              "      <td>4</td>\n",
              "      <td>1</td>\n",
              "    </tr>\n",
              "    <tr>\n",
              "      <th>1</th>\n",
              "      <td>worst chicken parm sandwich ive ever eaten chi...</td>\n",
              "      <td>1</td>\n",
              "      <td>4</td>\n",
              "      <td>1</td>\n",
              "    </tr>\n",
              "    <tr>\n",
              "      <th>2</th>\n",
              "      <td>stopped check new spot around corner us boyfri...</td>\n",
              "      <td>1</td>\n",
              "      <td>4</td>\n",
              "      <td>1</td>\n",
              "    </tr>\n",
              "    <tr>\n",
              "      <th>3</th>\n",
              "      <td>place fantastic delicious simple healthy liter...</td>\n",
              "      <td>1</td>\n",
              "      <td>4</td>\n",
              "      <td>1</td>\n",
              "    </tr>\n",
              "    <tr>\n",
              "      <th>4</th>\n",
              "      <td>great bar happy hour 47 every day wine drafts ...</td>\n",
              "      <td>1</td>\n",
              "      <td>2</td>\n",
              "      <td>0</td>\n",
              "    </tr>\n",
              "    <tr>\n",
              "      <th>...</th>\n",
              "      <td>...</td>\n",
              "      <td>...</td>\n",
              "      <td>...</td>\n",
              "      <td>...</td>\n",
              "    </tr>\n",
              "    <tr>\n",
              "      <th>22362</th>\n",
              "      <td>still fan tried place give fair shake disappoi...</td>\n",
              "      <td>0</td>\n",
              "      <td>2</td>\n",
              "      <td>0</td>\n",
              "    </tr>\n",
              "    <tr>\n",
              "      <th>22363</th>\n",
              "      <td>youre looking good hoagie go wawa people got o...</td>\n",
              "      <td>0</td>\n",
              "      <td>3</td>\n",
              "      <td>1</td>\n",
              "    </tr>\n",
              "    <tr>\n",
              "      <th>22364</th>\n",
              "      <td>happy hour bar amazing 3 wine beer champagne d...</td>\n",
              "      <td>1</td>\n",
              "      <td>4</td>\n",
              "      <td>1</td>\n",
              "    </tr>\n",
              "    <tr>\n",
              "      <th>22365</th>\n",
              "      <td>ended leavingwe made reservation 2 715 29th ar...</td>\n",
              "      <td>1</td>\n",
              "      <td>4</td>\n",
              "      <td>1</td>\n",
              "    </tr>\n",
              "    <tr>\n",
              "      <th>22366</th>\n",
              "      <td>must say place amazing comfortable atmosphere ...</td>\n",
              "      <td>2</td>\n",
              "      <td>4</td>\n",
              "      <td>1</td>\n",
              "    </tr>\n",
              "  </tbody>\n",
              "</table>\n",
              "<p>22367 rows × 4 columns</p>\n",
              "</div>\n",
              "      <button class=\"colab-df-convert\" onclick=\"convertToInteractive('df-7978ef76-7179-4b73-b519-6de6ba2bce18')\"\n",
              "              title=\"Convert this dataframe to an interactive table.\"\n",
              "              style=\"display:none;\">\n",
              "        \n",
              "  <svg xmlns=\"http://www.w3.org/2000/svg\" height=\"24px\"viewBox=\"0 0 24 24\"\n",
              "       width=\"24px\">\n",
              "    <path d=\"M0 0h24v24H0V0z\" fill=\"none\"/>\n",
              "    <path d=\"M18.56 5.44l.94 2.06.94-2.06 2.06-.94-2.06-.94-.94-2.06-.94 2.06-2.06.94zm-11 1L8.5 8.5l.94-2.06 2.06-.94-2.06-.94L8.5 2.5l-.94 2.06-2.06.94zm10 10l.94 2.06.94-2.06 2.06-.94-2.06-.94-.94-2.06-.94 2.06-2.06.94z\"/><path d=\"M17.41 7.96l-1.37-1.37c-.4-.4-.92-.59-1.43-.59-.52 0-1.04.2-1.43.59L10.3 9.45l-7.72 7.72c-.78.78-.78 2.05 0 2.83L4 21.41c.39.39.9.59 1.41.59.51 0 1.02-.2 1.41-.59l7.78-7.78 2.81-2.81c.8-.78.8-2.07 0-2.86zM5.41 20L4 18.59l7.72-7.72 1.47 1.35L5.41 20z\"/>\n",
              "  </svg>\n",
              "      </button>\n",
              "      \n",
              "  <style>\n",
              "    .colab-df-container {\n",
              "      display:flex;\n",
              "      flex-wrap:wrap;\n",
              "      gap: 12px;\n",
              "    }\n",
              "\n",
              "    .colab-df-convert {\n",
              "      background-color: #E8F0FE;\n",
              "      border: none;\n",
              "      border-radius: 50%;\n",
              "      cursor: pointer;\n",
              "      display: none;\n",
              "      fill: #1967D2;\n",
              "      height: 32px;\n",
              "      padding: 0 0 0 0;\n",
              "      width: 32px;\n",
              "    }\n",
              "\n",
              "    .colab-df-convert:hover {\n",
              "      background-color: #E2EBFA;\n",
              "      box-shadow: 0px 1px 2px rgba(60, 64, 67, 0.3), 0px 1px 3px 1px rgba(60, 64, 67, 0.15);\n",
              "      fill: #174EA6;\n",
              "    }\n",
              "\n",
              "    [theme=dark] .colab-df-convert {\n",
              "      background-color: #3B4455;\n",
              "      fill: #D2E3FC;\n",
              "    }\n",
              "\n",
              "    [theme=dark] .colab-df-convert:hover {\n",
              "      background-color: #434B5C;\n",
              "      box-shadow: 0px 1px 3px 1px rgba(0, 0, 0, 0.15);\n",
              "      filter: drop-shadow(0px 1px 2px rgba(0, 0, 0, 0.3));\n",
              "      fill: #FFFFFF;\n",
              "    }\n",
              "  </style>\n",
              "\n",
              "      <script>\n",
              "        const buttonEl =\n",
              "          document.querySelector('#df-7978ef76-7179-4b73-b519-6de6ba2bce18 button.colab-df-convert');\n",
              "        buttonEl.style.display =\n",
              "          google.colab.kernel.accessAllowed ? 'block' : 'none';\n",
              "\n",
              "        async function convertToInteractive(key) {\n",
              "          const element = document.querySelector('#df-7978ef76-7179-4b73-b519-6de6ba2bce18');\n",
              "          const dataTable =\n",
              "            await google.colab.kernel.invokeFunction('convertToInteractive',\n",
              "                                                     [key], {});\n",
              "          if (!dataTable) return;\n",
              "\n",
              "          const docLinkHtml = 'Like what you see? Visit the ' +\n",
              "            '<a target=\"_blank\" href=https://colab.research.google.com/notebooks/data_table.ipynb>data table notebook</a>'\n",
              "            + ' to learn more about interactive tables.';\n",
              "          element.innerHTML = '';\n",
              "          dataTable['output_type'] = 'display_data';\n",
              "          await google.colab.output.renderOutput(dataTable, element);\n",
              "          const docLink = document.createElement('div');\n",
              "          docLink.innerHTML = docLinkHtml;\n",
              "          element.appendChild(docLink);\n",
              "        }\n",
              "      </script>\n",
              "    </div>\n",
              "  </div>\n",
              "  "
            ]
          },
          "metadata": {},
          "execution_count": 23
        }
      ],
      "source": [
        "subset"
      ]
    },
    {
      "cell_type": "code",
      "execution_count": null,
      "metadata": {
        "colab": {
          "base_uri": "https://localhost:8080/"
        },
        "id": "QUKaBHwiFnQn",
        "outputId": "e1e75b90-a848-4e24-c8cf-c3f69dc3b965"
      },
      "outputs": [
        {
          "output_type": "stream",
          "name": "stdout",
          "text": [
            "Found 1242595 unique tokens.\n"
          ]
        }
      ],
      "source": [
        "# The maximum number of words to be used. (most frequent)\n",
        "MAX_NB_WORDS = 50000\n",
        "# Max number of words in each complaint.\n",
        "MAX_SEQUENCE_LENGTH = 250\n",
        "# This is fixed.\n",
        "EMBEDDING_DIM = 100\n",
        "\n",
        "tokenizer = Tokenizer(num_words=MAX_NB_WORDS, filters='!\"#$%&()*+,-./:;<=>?@[\\]^_`{|}~', lower=True)\n",
        "tokenizer.fit_on_texts(subset['reviews_concatenated'].values)\n",
        "word_index = tokenizer.word_index\n",
        "print('Found %s unique tokens.' % len(word_index))"
      ]
    },
    {
      "cell_type": "code",
      "execution_count": null,
      "metadata": {
        "colab": {
          "base_uri": "https://localhost:8080/"
        },
        "id": "YagmAyiGGvys",
        "outputId": "972994f4-7427-4241-9db5-bfddfe91e456"
      },
      "outputs": [
        {
          "output_type": "stream",
          "name": "stdout",
          "text": [
            "Shape of data tensor: (22367, 250)\n"
          ]
        }
      ],
      "source": [
        "X = tokenizer.texts_to_sequences(subset['reviews_concatenated'].values)\n",
        "X = tf.keras.preprocessing.sequence.pad_sequences(X, maxlen=MAX_SEQUENCE_LENGTH)\n",
        "print('Shape of data tensor:', X.shape)"
      ]
    },
    {
      "cell_type": "code",
      "execution_count": null,
      "metadata": {
        "colab": {
          "base_uri": "https://localhost:8080/"
        },
        "id": "8m-iLyzPJUzF",
        "outputId": "24881c9a-ca3f-40e3-8eb6-6bf43f44bf8b"
      },
      "outputs": [
        {
          "output_type": "stream",
          "name": "stdout",
          "text": [
            "Shape of label tensor: (22367, 2)\n"
          ]
        }
      ],
      "source": [
        "Y = subset[['label','sent']]\n",
        "print('Shape of label tensor:', Y.shape)"
      ]
    },
    {
      "cell_type": "code",
      "execution_count": null,
      "metadata": {
        "colab": {
          "base_uri": "https://localhost:8080/"
        },
        "id": "BiyrlONXJhQ9",
        "outputId": "9b245948-96e5-4403-c037-f54d7c430bc2"
      },
      "outputs": [
        {
          "output_type": "stream",
          "name": "stdout",
          "text": [
            "(20130, 250) (20130, 2)\n",
            "(2237, 250) (2237, 2)\n"
          ]
        }
      ],
      "source": [
        "X_train, X_test, Y_train, Y_test = train_test_split(X,Y, test_size = 0.10, random_state = 42)\n",
        "print(X_train.shape,Y_train.shape)\n",
        "print(X_test.shape,Y_test.shape)"
      ]
    },
    {
      "cell_type": "markdown",
      "source": [
        "Separating each of the outputs into their own variables to pass into Keras"
      ],
      "metadata": {
        "id": "nUXJB1Jo-g55"
      }
    },
    {
      "cell_type": "code",
      "execution_count": null,
      "metadata": {
        "id": "2fVXlk4WmsRQ"
      },
      "outputs": [],
      "source": [
        "Y_train_pop = pd.get_dummies(Y_train['label']).values\n",
        "Y_train_sent = pd.get_dummies(Y_train['sent']).values\n",
        "Y_test_pop = pd.get_dummies(Y_test['label']).values\n",
        "Y_test_sent = pd.get_dummies(Y_test['sent']).values"
      ]
    },
    {
      "cell_type": "code",
      "execution_count": null,
      "metadata": {
        "colab": {
          "base_uri": "https://localhost:8080/"
        },
        "id": "dHqVLOfiN1QU",
        "outputId": "3fd33ad4-5f26-4c60-dc4d-26a6bcb0b717"
      },
      "outputs": [
        {
          "output_type": "execute_result",
          "data": {
            "text/plain": [
              "array([[0, 1, 0, 0, 0],\n",
              "       [0, 1, 0, 0, 0],\n",
              "       [0, 1, 0, 0, 0],\n",
              "       ...,\n",
              "       [0, 1, 0, 0, 0],\n",
              "       [1, 0, 0, 0, 0],\n",
              "       [0, 1, 0, 0, 0]], dtype=uint8)"
            ]
          },
          "metadata": {},
          "execution_count": 13
        }
      ],
      "source": [
        "Y_train_pop"
      ]
    },
    {
      "cell_type": "markdown",
      "source": [
        "Model Creation"
      ],
      "metadata": {
        "id": "bqxvafmn-oBi"
      }
    },
    {
      "cell_type": "code",
      "execution_count": null,
      "metadata": {
        "id": "Ks8dCd8WGeq8"
      },
      "outputs": [],
      "source": [
        "import keras\n",
        "from keras.models import Model\n",
        "from keras.layers import Input, Dense, Dropout, Activation, Flatten\n",
        "\n",
        "from keras.utils import plot_model\n",
        "dr = 0.3\n",
        "\n",
        "inputs = Input(shape=X.shape[1], name='main_input')\n",
        "\n",
        "main_branch = Embedding(MAX_NB_WORDS, EMBEDDING_DIM, input_length=X.shape[1])(inputs)\n",
        "main_branch = SpatialDropout1D(0.2)(main_branch)\n",
        "main_branch = LSTM(100, dropout=0.2, recurrent_dropout=0.2)(main_branch)"
      ]
    },
    {
      "cell_type": "code",
      "execution_count": null,
      "metadata": {
        "id": "BAew1F_MLZUt"
      },
      "outputs": [],
      "source": [
        "popularity_branch = Dense(5, activation='softmax', name='popularity_output')(main_branch)\n",
        "sentiment_branch = Dense(2, activation='sigmoid', name='sentiment_output')(main_branch)"
      ]
    },
    {
      "cell_type": "code",
      "execution_count": null,
      "metadata": {
        "colab": {
          "base_uri": "https://localhost:8080/"
        },
        "id": "jEvy40LfCiCz",
        "outputId": "1dfdf5fb-a3ae-44b8-a233-d53ef2bb57d9"
      },
      "outputs": [
        {
          "output_type": "stream",
          "name": "stdout",
          "text": [
            "Model: \"model\"\n",
            "__________________________________________________________________________________________________\n",
            " Layer (type)                   Output Shape         Param #     Connected to                     \n",
            "==================================================================================================\n",
            " main_input (InputLayer)        [(None, 250)]        0           []                               \n",
            "                                                                                                  \n",
            " embedding (Embedding)          (None, 250, 100)     5000000     ['main_input[0][0]']             \n",
            "                                                                                                  \n",
            " spatial_dropout1d (SpatialDrop  (None, 250, 100)    0           ['embedding[0][0]']              \n",
            " out1D)                                                                                           \n",
            "                                                                                                  \n",
            " lstm (LSTM)                    (None, 100)          80400       ['spatial_dropout1d[0][0]']      \n",
            "                                                                                                  \n",
            " popularity_output (Dense)      (None, 5)            505         ['lstm[0][0]']                   \n",
            "                                                                                                  \n",
            " sentiment_output (Dense)       (None, 2)            202         ['lstm[0][0]']                   \n",
            "                                                                                                  \n",
            "==================================================================================================\n",
            "Total params: 5,081,107\n",
            "Trainable params: 5,081,107\n",
            "Non-trainable params: 0\n",
            "__________________________________________________________________________________________________\n"
          ]
        }
      ],
      "source": [
        "model = Model(inputs = inputs,\n",
        "     outputs = [popularity_branch, sentiment_branch])\n",
        "model.summary()\n"
      ]
    },
    {
      "cell_type": "code",
      "execution_count": null,
      "metadata": {
        "colab": {
          "base_uri": "https://localhost:8080/"
        },
        "id": "4eJU6MdDMvYl",
        "outputId": "3e66d5e5-16e2-4a29-834c-86d0399258ea"
      },
      "outputs": [
        {
          "output_type": "stream",
          "name": "stdout",
          "text": [
            "Model: \"model\"\n",
            "__________________________________________________________________________________________________\n",
            " Layer (type)                   Output Shape         Param #     Connected to                     \n",
            "==================================================================================================\n",
            " main_input (InputLayer)        [(None, 250)]        0           []                               \n",
            "                                                                                                  \n",
            " embedding (Embedding)          (None, 250, 100)     5000000     ['main_input[0][0]']             \n",
            "                                                                                                  \n",
            " spatial_dropout1d (SpatialDrop  (None, 250, 100)    0           ['embedding[0][0]']              \n",
            " out1D)                                                                                           \n",
            "                                                                                                  \n",
            " lstm (LSTM)                    (None, 100)          80400       ['spatial_dropout1d[0][0]']      \n",
            "                                                                                                  \n",
            " popularity_output (Dense)      (None, 5)            505         ['lstm[0][0]']                   \n",
            "                                                                                                  \n",
            " sentiment_output (Dense)       (None, 2)            202         ['lstm[0][0]']                   \n",
            "                                                                                                  \n",
            "==================================================================================================\n",
            "Total params: 5,081,107\n",
            "Trainable params: 5,081,107\n",
            "Non-trainable params: 0\n",
            "__________________________________________________________________________________________________\n"
          ]
        },
        {
          "output_type": "stream",
          "name": "stderr",
          "text": [
            "/usr/local/lib/python3.8/dist-packages/keras/optimizers/optimizer_v2/rmsprop.py:135: UserWarning: The `lr` argument is deprecated, use `learning_rate` instead.\n",
            "  super(RMSprop, self).__init__(name, **kwargs)\n"
          ]
        }
      ],
      "source": [
        "opt = keras.optimizers.RMSprop(lr=1e-3)\n",
        "model.compile(optimizer='adam',\n",
        "              loss={'popularity_output': 'categorical_crossentropy', 'sentiment_output': 'binary_crossentropy',},\n",
        "              metrics=['accuracy'])\n",
        "model.summary()"
      ]
    },
    {
      "cell_type": "code",
      "execution_count": null,
      "metadata": {
        "colab": {
          "base_uri": "https://localhost:8080/"
        },
        "id": "u6izQxQMNVjI",
        "outputId": "7459d2ba-948d-461e-b470-8d2318d90e18"
      },
      "outputs": [
        {
          "output_type": "stream",
          "name": "stdout",
          "text": [
            "Epoch 1/10\n",
            "126/126 [==============================] - 158s 1s/step - loss: 1.3881 - popularity_output_loss: 1.0879 - sentiment_output_loss: 0.3002 - popularity_output_accuracy: 0.4783 - sentiment_output_accuracy: 0.9190 - val_loss: 1.3056 - val_popularity_output_loss: 1.0360 - val_sentiment_output_loss: 0.2696 - val_popularity_output_accuracy: 0.4896 - val_sentiment_output_accuracy: 0.9240\n",
            "Epoch 2/10\n",
            "126/126 [==============================] - 152s 1s/step - loss: 1.2973 - popularity_output_loss: 1.0282 - sentiment_output_loss: 0.2691 - popularity_output_accuracy: 0.5028 - sentiment_output_accuracy: 0.9235 - val_loss: 1.2937 - val_popularity_output_loss: 1.0273 - val_sentiment_output_loss: 0.2664 - val_popularity_output_accuracy: 0.4891 - val_sentiment_output_accuracy: 0.9240\n",
            "Epoch 3/10\n",
            "126/126 [==============================] - 152s 1s/step - loss: 1.2207 - popularity_output_loss: 0.9621 - sentiment_output_loss: 0.2586 - popularity_output_accuracy: 0.5790 - sentiment_output_accuracy: 0.9235 - val_loss: 1.3205 - val_popularity_output_loss: 1.0582 - val_sentiment_output_loss: 0.2623 - val_popularity_output_accuracy: 0.4575 - val_sentiment_output_accuracy: 0.9240\n",
            "Epoch 4/10\n",
            "126/126 [==============================] - 150s 1s/step - loss: 1.0734 - popularity_output_loss: 0.8407 - sentiment_output_loss: 0.2327 - popularity_output_accuracy: 0.6538 - sentiment_output_accuracy: 0.9232 - val_loss: 1.3705 - val_popularity_output_loss: 1.1246 - val_sentiment_output_loss: 0.2459 - val_popularity_output_accuracy: 0.4953 - val_sentiment_output_accuracy: 0.9247\n",
            "Epoch 5/10\n",
            "126/126 [==============================] - 152s 1s/step - loss: 0.8976 - popularity_output_loss: 0.7046 - sentiment_output_loss: 0.1930 - popularity_output_accuracy: 0.7233 - sentiment_output_accuracy: 0.9306 - val_loss: 1.4308 - val_popularity_output_loss: 1.1826 - val_sentiment_output_loss: 0.2482 - val_popularity_output_accuracy: 0.4888 - val_sentiment_output_accuracy: 0.9237\n",
            "Epoch 6/10\n",
            "126/126 [==============================] - 153s 1s/step - loss: 0.7253 - popularity_output_loss: 0.5785 - sentiment_output_loss: 0.1469 - popularity_output_accuracy: 0.7851 - sentiment_output_accuracy: 0.9484 - val_loss: 1.5853 - val_popularity_output_loss: 1.3275 - val_sentiment_output_loss: 0.2578 - val_popularity_output_accuracy: 0.4993 - val_sentiment_output_accuracy: 0.8905\n",
            "Epoch 7/10\n",
            "126/126 [==============================] - 153s 1s/step - loss: 0.5874 - popularity_output_loss: 0.4727 - sentiment_output_loss: 0.1146 - popularity_output_accuracy: 0.8308 - sentiment_output_accuracy: 0.9611 - val_loss: 1.6486 - val_popularity_output_loss: 1.3954 - val_sentiment_output_loss: 0.2532 - val_popularity_output_accuracy: 0.4876 - val_sentiment_output_accuracy: 0.9245\n",
            "Epoch 8/10\n",
            "126/126 [==============================] - 155s 1s/step - loss: 0.4789 - popularity_output_loss: 0.3846 - sentiment_output_loss: 0.0944 - popularity_output_accuracy: 0.8639 - sentiment_output_accuracy: 0.9689 - val_loss: 1.8639 - val_popularity_output_loss: 1.5872 - val_sentiment_output_loss: 0.2767 - val_popularity_output_accuracy: 0.4853 - val_sentiment_output_accuracy: 0.9235\n",
            "Epoch 9/10\n",
            "126/126 [==============================] - 155s 1s/step - loss: 0.3782 - popularity_output_loss: 0.3071 - sentiment_output_loss: 0.0711 - popularity_output_accuracy: 0.8967 - sentiment_output_accuracy: 0.9767 - val_loss: 1.9452 - val_popularity_output_loss: 1.6704 - val_sentiment_output_loss: 0.2748 - val_popularity_output_accuracy: 0.4784 - val_sentiment_output_accuracy: 0.9193\n",
            "Epoch 10/10\n",
            "126/126 [==============================] - 155s 1s/step - loss: 0.3063 - popularity_output_loss: 0.2486 - sentiment_output_loss: 0.0577 - popularity_output_accuracy: 0.9144 - sentiment_output_accuracy: 0.9811 - val_loss: 2.1648 - val_popularity_output_loss: 1.8668 - val_sentiment_output_loss: 0.2980 - val_popularity_output_accuracy: 0.4883 - val_sentiment_output_accuracy: 0.9195\n"
          ]
        },
        {
          "output_type": "execute_result",
          "data": {
            "text/plain": [
              "<keras.callbacks.History at 0x7f44dca67eb0>"
            ]
          },
          "metadata": {},
          "execution_count": 20
        }
      ],
      "source": [
        "from keras.utils import plot_model\n",
        "model.fit({'main_input': X_train},\n",
        "              {'popularity_output': Y_train_pop, 'sentiment_output': Y_train_sent},\n",
        "              epochs=10, batch_size=128,\n",
        "              verbose=1,\n",
        "              #callbacks=[plot_progress],\n",
        "              validation_split=0.2,\n",
        "             )"
      ]
    },
    {
      "cell_type": "code",
      "execution_count": null,
      "metadata": {
        "id": "pS-7DItm5NTa"
      },
      "outputs": [],
      "source": [
        "model.save(\"my_model\")"
      ]
    },
    {
      "cell_type": "code",
      "execution_count": null,
      "metadata": {
        "colab": {
          "base_uri": "https://localhost:8080/"
        },
        "id": "sw94Mvmi5527",
        "outputId": "32928b2b-c2d0-4729-99c3-77f0809afa01"
      },
      "outputs": [
        {
          "output_type": "stream",
          "name": "stderr",
          "text": [
            "WARNING:tensorflow:Layer lstm_1 will not use cuDNN kernels since it doesn't meet the criteria. It will use a generic GPU kernel as fallback when running on GPU.\n"
          ]
        }
      ],
      "source": [
        "reconstructed_model = keras.models.load_model(\"my_model\")"
      ]
    },
    {
      "cell_type": "code",
      "source": [
        "Y_test.shape\n",
        "#X_test.shape\n",
        "#Y_test.iloc[:,1].shape"
      ],
      "metadata": {
        "colab": {
          "base_uri": "https://localhost:8080/"
        },
        "id": "XGws55h0P5hK",
        "outputId": "07c29409-11ef-4f5a-d329-c870058b281e"
      },
      "execution_count": null,
      "outputs": [
        {
          "output_type": "execute_result",
          "data": {
            "text/plain": [
              "(2237, 2)"
            ]
          },
          "metadata": {},
          "execution_count": 47
        }
      ]
    },
    {
      "cell_type": "code",
      "source": [
        "Y_train_sent\n"
      ],
      "metadata": {
        "colab": {
          "base_uri": "https://localhost:8080/"
        },
        "id": "M1I5ftVUY1qI",
        "outputId": "aaa9579c-cc45-4303-9b09-b040b68bead0"
      },
      "execution_count": null,
      "outputs": [
        {
          "output_type": "execute_result",
          "data": {
            "text/plain": [
              "array([[0, 1],\n",
              "       [0, 1],\n",
              "       [0, 1],\n",
              "       ...,\n",
              "       [0, 1],\n",
              "       [0, 1],\n",
              "       [0, 1]], dtype=uint8)"
            ]
          },
          "metadata": {},
          "execution_count": 82
        }
      ]
    },
    {
      "cell_type": "code",
      "source": [
        "def functiona(x):\n",
        "  if x == 0:\n",
        "    return np.array([1,0,0,0,0])\n",
        "  elif x == 1:\n",
        "    return (np.array([0,1,0,0,0])\n",
        "  elif x ==2:\n",
        "    return tf.convert_to_tensor([0,0,1,0,0])\n",
        "  elif x == 3:\n",
        "    return tf.convert_to_tensor([0,0,0,1,0])\n",
        "  else:\n",
        "    return tf.convert_to_tensor([0,0,0,0,1])\n",
        "\n",
        "def functionb(x):\n",
        "  if x == 0:\n",
        "    return tf.convert_to_tensor([1,0])\n",
        "  elif x == 1:\n",
        "    return tf.convert_to_tensor([0,1])"
      ],
      "metadata": {
        "id": "WAsbnGTMS90P"
      },
      "execution_count": null,
      "outputs": []
    },
    {
      "cell_type": "code",
      "source": [
        "Y_train_comp = Y_train.iloc[:,1].map(lambda x: functiona(x))\n",
        "Y_train_comp"
      ],
      "metadata": {
        "colab": {
          "base_uri": "https://localhost:8080/"
        },
        "id": "X81S0HiDVBWz",
        "outputId": "f216ea64-ecf8-46a9-f43b-6a4482030557"
      },
      "execution_count": null,
      "outputs": [
        {
          "output_type": "execute_result",
          "data": {
            "text/plain": [
              "3165     (tf.Tensor(0, shape=(), dtype=int64), tf.Tenso...\n",
              "17256    (tf.Tensor(0, shape=(), dtype=int64), tf.Tenso...\n",
              "19986    (tf.Tensor(0, shape=(), dtype=int64), tf.Tenso...\n",
              "17135    (tf.Tensor(0, shape=(), dtype=int64), tf.Tenso...\n",
              "3351     (tf.Tensor(0, shape=(), dtype=int64), tf.Tenso...\n",
              "                               ...                        \n",
              "11964    (tf.Tensor(0, shape=(), dtype=int64), tf.Tenso...\n",
              "21575    (tf.Tensor(0, shape=(), dtype=int64), tf.Tenso...\n",
              "5390     (tf.Tensor(0, shape=(), dtype=int64), tf.Tenso...\n",
              "860      (tf.Tensor(0, shape=(), dtype=int64), tf.Tenso...\n",
              "15795    (tf.Tensor(0, shape=(), dtype=int64), tf.Tenso...\n",
              "Name: sent, Length: 20130, dtype: object"
            ]
          },
          "metadata": {},
          "execution_count": 73
        }
      ]
    },
    {
      "cell_type": "code",
      "source": [
        "Y_train_sent_comp= Y_train.iloc[:,0].map(lambda x: functionb(x))\n",
        "Y_train_sent_comp.values"
      ],
      "metadata": {
        "colab": {
          "base_uri": "https://localhost:8080/"
        },
        "id": "hqnuiuZgV7mv",
        "outputId": "8742158b-e609-4ea2-a048-4065ec453825"
      },
      "execution_count": null,
      "outputs": [
        {
          "output_type": "execute_result",
          "data": {
            "text/plain": [
              "array([<tf.Tensor: shape=(2,), dtype=int32, numpy=array([0, 1], dtype=int32)>,\n",
              "       <tf.Tensor: shape=(2,), dtype=int32, numpy=array([0, 1], dtype=int32)>,\n",
              "       <tf.Tensor: shape=(2,), dtype=int32, numpy=array([0, 1], dtype=int32)>,\n",
              "       ...,\n",
              "       <tf.Tensor: shape=(2,), dtype=int32, numpy=array([0, 1], dtype=int32)>,\n",
              "       <tf.Tensor: shape=(2,), dtype=int32, numpy=array([1, 0], dtype=int32)>,\n",
              "       <tf.Tensor: shape=(2,), dtype=int32, numpy=array([0, 1], dtype=int32)>],\n",
              "      dtype=object)"
            ]
          },
          "metadata": {},
          "execution_count": 80
        }
      ]
    },
    {
      "cell_type": "code",
      "source": [
        "X_test"
      ],
      "metadata": {
        "colab": {
          "base_uri": "https://localhost:8080/"
        },
        "id": "6U0sfqW1YDe2",
        "outputId": "7a3a4e5c-03df-40ab-da51-ec3f585c794b"
      },
      "execution_count": null,
      "outputs": [
        {
          "output_type": "execute_result",
          "data": {
            "text/plain": [
              "array([[  467,  3753, 28978, ...,    14,  4411,  1251],\n",
              "       [  876,  2719,   131, ...,  1075,  8176,  8610],\n",
              "       [  109,   181,  1942, ...,     4,   187,   344],\n",
              "       ...,\n",
              "       [ 1214,  1754,  1340, ...,   467,   357,    20],\n",
              "       [   17,    15,    23, ...,   292, 17089,   100],\n",
              "       [ 2028, 11472,  1124, ...,  1707,   997,    11]], dtype=int32)"
            ]
          },
          "metadata": {},
          "execution_count": 79
        }
      ]
    },
    {
      "cell_type": "code",
      "execution_count": null,
      "metadata": {
        "colab": {
          "base_uri": "https://localhost:8080/"
        },
        "outputId": "8e4605fb-47b8-4e11-98fe-9174676e1da9",
        "id": "WriO4AEvS-Pr"
      },
      "outputs": [
        {
          "output_type": "stream",
          "name": "stdout",
          "text": [
            "70/70 [==============================] - 6s 86ms/step - loss: 2.1433 - popularity_output_loss: 1.8623 - sentiment_output_loss: 0.2810 - popularity_output_accuracy: 0.4846 - sentiment_output_accuracy: 0.9253\n",
            "Test set\n",
            "  Loss: 2.143\n",
            "  Loss2: 1.862\n",
            "  Accuracy1: 0.281\n",
            "  Accuracy2: 0.485\n"
          ]
        }
      ],
      "source": [
        "accr = model.evaluate(X_test,[Y_test_pop,Y_test_sent])\n",
        "print('Test set\\n  Loss: {:0.3f}\\n  Loss2: {:0.3f}\\n  Accuracy1: {:0.3f}\\n  Accuracy2: {:0.3f}'.format(accr[0],accr[1],accr[2],accr[3]))"
      ]
    },
    {
      "cell_type": "code",
      "execution_count": null,
      "metadata": {
        "id": "z8m0T5lNB7oK",
        "colab": {
          "base_uri": "https://localhost:8080/",
          "height": 499
        },
        "outputId": "799ea335-cc52-48fd-e491-7880441b6598"
      },
      "outputs": [
        {
          "output_type": "error",
          "ename": "NameError",
          "evalue": "ignored",
          "traceback": [
            "\u001b[0;31m---------------------------------------------------------------------------\u001b[0m",
            "\u001b[0;31mNameError\u001b[0m                                 Traceback (most recent call last)",
            "\u001b[0;32m<ipython-input-31-3f7139d28bb9>\u001b[0m in \u001b[0;36m<module>\u001b[0;34m\u001b[0m\n\u001b[1;32m      1\u001b[0m \u001b[0mplt\u001b[0m\u001b[0;34m.\u001b[0m\u001b[0mtitle\u001b[0m\u001b[0;34m(\u001b[0m\u001b[0;34m'Loss'\u001b[0m\u001b[0;34m)\u001b[0m\u001b[0;34m\u001b[0m\u001b[0;34m\u001b[0m\u001b[0m\n\u001b[0;32m----> 2\u001b[0;31m \u001b[0mplt\u001b[0m\u001b[0;34m.\u001b[0m\u001b[0mplot\u001b[0m\u001b[0;34m(\u001b[0m\u001b[0mreconstructed_model\u001b[0m\u001b[0;34m.\u001b[0m\u001b[0mhistory\u001b[0m\u001b[0;34m[\u001b[0m\u001b[0;34m'loss'\u001b[0m\u001b[0;34m]\u001b[0m\u001b[0;34m,\u001b[0m \u001b[0mlabel\u001b[0m\u001b[0;34m=\u001b[0m\u001b[0;34m'train'\u001b[0m\u001b[0;34m)\u001b[0m\u001b[0;34m\u001b[0m\u001b[0;34m\u001b[0m\u001b[0m\n\u001b[0m\u001b[1;32m      3\u001b[0m \u001b[0mplt\u001b[0m\u001b[0;34m.\u001b[0m\u001b[0mplot\u001b[0m\u001b[0;34m(\u001b[0m\u001b[0mreconstructed_model\u001b[0m\u001b[0;34m.\u001b[0m\u001b[0mhistory\u001b[0m\u001b[0;34m[\u001b[0m\u001b[0;34m'val_loss'\u001b[0m\u001b[0;34m]\u001b[0m\u001b[0;34m,\u001b[0m \u001b[0mlabel\u001b[0m\u001b[0;34m=\u001b[0m\u001b[0;34m'test'\u001b[0m\u001b[0;34m)\u001b[0m\u001b[0;34m\u001b[0m\u001b[0;34m\u001b[0m\u001b[0m\n\u001b[1;32m      4\u001b[0m \u001b[0mplt\u001b[0m\u001b[0;34m.\u001b[0m\u001b[0mlegend\u001b[0m\u001b[0;34m(\u001b[0m\u001b[0;34m)\u001b[0m\u001b[0;34m\u001b[0m\u001b[0;34m\u001b[0m\u001b[0m\n\u001b[1;32m      5\u001b[0m \u001b[0mplt\u001b[0m\u001b[0;34m.\u001b[0m\u001b[0mshow\u001b[0m\u001b[0;34m(\u001b[0m\u001b[0;34m)\u001b[0m\u001b[0;34m;\u001b[0m\u001b[0;34m\u001b[0m\u001b[0;34m\u001b[0m\u001b[0m\n",
            "\u001b[0;31mNameError\u001b[0m: name 'reconstructed_model' is not defined"
          ]
        },
        {
          "output_type": "display_data",
          "data": {
            "text/plain": [
              "<Figure size 432x288 with 1 Axes>"
            ],
            "image/png": "[encoded data removed]"
          },
          "metadata": {
            "needs_background": "light"
          }
        }
      ],
      "source": [
        "plt.title('Loss')\n",
        "plt.plot(reconstructed_model.history['loss'], label='train')\n",
        "plt.plot(reconstructed_model.history['val_loss'], label='test')\n",
        "plt.legend()\n",
        "plt.show();\n"
      ]
    },
    {
      "cell_type": "code",
      "execution_count": null,
      "metadata": {
        "id": "2s5HYQupP1kQ"
      },
      "outputs": [],
      "source": [
        "plt.title('Accuracy')\n",
        "plt.plot(model.history['accuracy'], label='train')\n",
        "plt.plot(model.history['val_accuracy'], label='test')\n",
        "plt.legend()\n",
        "plt.show();\n"
      ]
    },
    {
      "cell_type": "code",
      "execution_count": null,
      "metadata": {
        "colab": {
          "base_uri": "https://localhost:8080/"
        },
        "id": "d-IOaR-46aIP",
        "outputId": "2901e425-a744-44a9-d95b-10d924f210f6"
      },
      "outputs": [
        {
          "output_type": "stream",
          "name": "stdout",
          "text": [
            "70/70 [==============================] - 10s 137ms/step\n"
          ]
        }
      ],
      "source": [
        "predicted = model.predict(X_test)"
      ]
    },
    {
      "cell_type": "code",
      "execution_count": null,
      "metadata": {
        "id": "avUBFO606c11"
      },
      "outputs": [],
      "source": [
        "predicted_pop = predicted[0]\n",
        "predicted_sent = predicted[1]"
      ]
    },
    {
      "cell_type": "code",
      "execution_count": null,
      "metadata": {
        "id": "Xegfas5b6rP-"
      },
      "outputs": [],
      "source": [
        "predicted_pop = np.argmax(predicted_pop,axis =1)\n",
        "predicted_sent = np.argmax(predicted_sent,axis =1)"
      ]
    },
    {
      "cell_type": "code",
      "execution_count": null,
      "metadata": {
        "colab": {
          "base_uri": "https://localhost:8080/",
          "height": 295
        },
        "id": "AHFEgJOV7wlw",
        "outputId": "aaf3cafe-e5c8-4c31-b39a-4ce53e6f3c69"
      },
      "outputs": [
        {
          "output_type": "display_data",
          "data": {
            "text/plain": [
              "<Figure size 432x288 with 2 Axes>"
            ],
            "image/png": "[encoded data removed]"
          },
          "metadata": {
            "needs_background": "light"
          }
        }
      ],
      "source": [
        "from sklearn import metrics\n",
        "confusion_matrix = metrics.confusion_matrix(Y_test.iloc[:,0].values,predicted_pop)\n",
        "cm_display = metrics.ConfusionMatrixDisplay(confusion_matrix=confusion_matrix,display_labels=[0,1,2,3,4])\n",
        "\n",
        "cm_display.plot()\n",
        "plt.title(\"MTL Popularity Model CM\")\n",
        "plt.show()"
      ]
    },
    {
      "cell_type": "code",
      "execution_count": null,
      "metadata": {
        "colab": {
          "base_uri": "https://localhost:8080/",
          "height": 295
        },
        "id": "b010DQFj8Y5w",
        "outputId": "7b643a79-40d3-4884-e09a-36eb54d6c9db"
      },
      "outputs": [
        {
          "output_type": "display_data",
          "data": {
            "text/plain": [
              "<Figure size 432x288 with 2 Axes>"
            ],
            "image/png": "[encoded data removed]"
          },
          "metadata": {
            "needs_background": "light"
          }
        }
      ],
      "source": [
        "from sklearn import metrics\n",
        "confusion_matrix = metrics.confusion_matrix(Y_test.iloc[:,1].values,predicted_sent)\n",
        "cm_display = metrics.ConfusionMatrixDisplay(confusion_matrix=confusion_matrix,display_labels=[0,2])\n",
        "\n",
        "cm_display.plot()\n",
        "plt.title(\"MTL Sentiment Model CM\")\n",
        "plt.show()"
      ]
    }
  ],
  "metadata": {
    "accelerator": "GPU",
    "colab": {
      "provenance": []
    },
    "gpuClass": "standard",
    "kernelspec": {
      "display_name": "Python 3",
      "name": "python3"
    },
    "language_info": {
      "name": "python"
    }
  },
  "nbformat": 4,
  "nbformat_minor": 0
}