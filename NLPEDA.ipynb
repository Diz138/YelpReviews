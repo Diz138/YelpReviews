{
  "nbformat": 4,
  "nbformat_minor": 0,
  "metadata": {
    "colab": {
      "provenance": [],
      "mount_file_id": "1zRauZ5Iud1jVpNAmHafmtKlMA-40BilK",
      "authorship_tag": "ABX9TyOyR47BfrWAToj6alL/EO9h",
      "include_colab_link": true
    },
    "kernelspec": {
      "name": "python3",
      "display_name": "Python 3"
    },
    "language_info": {
      "name": "python"
    },
    "gpuClass": "standard"
  },
  "cells": [
    {
      "cell_type": "markdown",
      "metadata": {
        "id": "view-in-github",
        "colab_type": "text"
      },
      "source": [
        "<a href=\"https://colab.research.google.com/github/Diz138/YelpReviews/blob/main/NLPEDA.ipynb\" target=\"_parent\"><img src=\"https://colab.research.google.com/assets/colab-badge.svg\" alt=\"Open In Colab\"/></a>"
      ]
    },
    {
      "cell_type": "code",
      "execution_count": 4,
      "metadata": {
        "id": "AI-w5UgkgwIF"
      },
      "outputs": [],
      "source": [
        "import pandas as pd\n",
        "\n"
      ]
    },
    {
      "cell_type": "code",
      "source": [
        "#Matts directories\n",
        "business = pd.read_csv(\"/content/drive/MyDrive/WPI/Senior Year/NLP/CS525/yelp_filtered_business.csv\")\n",
        "filtered_review = pd.read_csv(\"/content/drive/MyDrive/WPI/Senior Year/NLP/CS525/yelp_filtered_review.csv\")\n",
        "#review = pd.read_csv(\"/content/drive/MyDrive/WPI/Senior Year/NLP/CS525/yelp_review.csv\")"
      ],
      "metadata": {
        "id": "I0FQc8nGh0KI"
      },
      "execution_count": 5,
      "outputs": []
    },
    {
      "cell_type": "code",
      "source": [
        "filtered_review.shape"
      ],
      "metadata": {
        "colab": {
          "base_uri": "https://localhost:8080/"
        },
        "id": "iNCwvU5djxJr",
        "outputId": "ed593e42-9639-4cf2-992c-29fc18548e5f"
      },
      "execution_count": 7,
      "outputs": [
        {
          "output_type": "execute_result",
          "data": {
            "text/plain": [
              "(5066392, 10)"
            ]
          },
          "metadata": {},
          "execution_count": 7
        }
      ]
    }
  ]
}