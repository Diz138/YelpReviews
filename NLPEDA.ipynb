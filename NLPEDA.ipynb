{
  "nbformat": 4,
  "nbformat_minor": 0,
  "metadata": {
    "colab": {
      "provenance": [],
      "include_colab_link": true
    },
    "kernelspec": {
      "name": "python3",
      "display_name": "Python 3"
    },
    "language_info": {
      "name": "python"
    },
    "gpuClass": "standard",
    "widgets": {
      "application/vnd.jupyter.widget-state+json": {
        "6e771cafbefe4a5989690b58ae2b0b87": {
          "model_module": "@jupyter-widgets/controls",
          "model_name": "HBoxModel",
          "model_module_version": "1.5.0",
          "state": {
            "_dom_classes": [],
            "_model_module": "@jupyter-widgets/controls",
            "_model_module_version": "1.5.0",
            "_model_name": "HBoxModel",
            "_view_count": null,
            "_view_module": "@jupyter-widgets/controls",
            "_view_module_version": "1.5.0",
            "_view_name": "HBoxView",
            "box_style": "",
            "children": [
              "IPY_MODEL_6955991dfa2b4d93b25f3012f819785e",
              "IPY_MODEL_f32e1487d1fd4931b7fe6f2e014483d2",
              "IPY_MODEL_e08b62eac2544ea09401efa24529d0e4"
            ],
            "layout": "IPY_MODEL_b47fce9d225a4f60bc05261fe7408ac6"
          }
        },
        "6955991dfa2b4d93b25f3012f819785e": {
          "model_module": "@jupyter-widgets/controls",
          "model_name": "HTMLModel",
          "model_module_version": "1.5.0",
          "state": {
            "_dom_classes": [],
            "_model_module": "@jupyter-widgets/controls",
            "_model_module_version": "1.5.0",
            "_model_name": "HTMLModel",
            "_view_count": null,
            "_view_module": "@jupyter-widgets/controls",
            "_view_module_version": "1.5.0",
            "_view_name": "HTMLView",
            "description": "",
            "description_tooltip": null,
            "layout": "IPY_MODEL_dcba9562caf44ef19decfeff4bacf6ff",
            "placeholder": "​",
            "style": "IPY_MODEL_c7bc2f0452e841afb9848bc81094db33",
            "value": "Downloading: 100%"
          }
        },
        "f32e1487d1fd4931b7fe6f2e014483d2": {
          "model_module": "@jupyter-widgets/controls",
          "model_name": "FloatProgressModel",
          "model_module_version": "1.5.0",
          "state": {
            "_dom_classes": [],
            "_model_module": "@jupyter-widgets/controls",
            "_model_module_version": "1.5.0",
            "_model_name": "FloatProgressModel",
            "_view_count": null,
            "_view_module": "@jupyter-widgets/controls",
            "_view_module_version": "1.5.0",
            "_view_name": "ProgressView",
            "bar_style": "success",
            "description": "",
            "description_tooltip": null,
            "layout": "IPY_MODEL_398dcc2599984abab51d71dec8e04b6e",
            "max": 213450,
            "min": 0,
            "orientation": "horizontal",
            "style": "IPY_MODEL_300f6863ef4f4c6593baf15aa2ac2a8d",
            "value": 213450
          }
        },
        "e08b62eac2544ea09401efa24529d0e4": {
          "model_module": "@jupyter-widgets/controls",
          "model_name": "HTMLModel",
          "model_module_version": "1.5.0",
          "state": {
            "_dom_classes": [],
            "_model_module": "@jupyter-widgets/controls",
            "_model_module_version": "1.5.0",
            "_model_name": "HTMLModel",
            "_view_count": null,
            "_view_module": "@jupyter-widgets/controls",
            "_view_module_version": "1.5.0",
            "_view_name": "HTMLView",
            "description": "",
            "description_tooltip": null,
            "layout": "IPY_MODEL_75cceca8b38e4be59e8f10b2f4e0bb52",
            "placeholder": "​",
            "style": "IPY_MODEL_1258f24114c24fb2a59bb7940dba9d32",
            "value": " 213k/213k [00:00&lt;00:00, 682kB/s]"
          }
        },
        "b47fce9d225a4f60bc05261fe7408ac6": {
          "model_module": "@jupyter-widgets/base",
          "model_name": "LayoutModel",
          "model_module_version": "1.2.0",
          "state": {
            "_model_module": "@jupyter-widgets/base",
            "_model_module_version": "1.2.0",
            "_model_name": "LayoutModel",
            "_view_count": null,
            "_view_module": "@jupyter-widgets/base",
            "_view_module_version": "1.2.0",
            "_view_name": "LayoutView",
            "align_content": null,
            "align_items": null,
            "align_self": null,
            "border": null,
            "bottom": null,
            "display": null,
            "flex": null,
            "flex_flow": null,
            "grid_area": null,
            "grid_auto_columns": null,
            "grid_auto_flow": null,
            "grid_auto_rows": null,
            "grid_column": null,
            "grid_gap": null,
            "grid_row": null,
            "grid_template_areas": null,
            "grid_template_columns": null,
            "grid_template_rows": null,
            "height": null,
            "justify_content": null,
            "justify_items": null,
            "left": null,
            "margin": null,
            "max_height": null,
            "max_width": null,
            "min_height": null,
            "min_width": null,
            "object_fit": null,
            "object_position": null,
            "order": null,
            "overflow": null,
            "overflow_x": null,
            "overflow_y": null,
            "padding": null,
            "right": null,
            "top": null,
            "visibility": null,
            "width": null
          }
        },
        "dcba9562caf44ef19decfeff4bacf6ff": {
          "model_module": "@jupyter-widgets/base",
          "model_name": "LayoutModel",
          "model_module_version": "1.2.0",
          "state": {
            "_model_module": "@jupyter-widgets/base",
            "_model_module_version": "1.2.0",
            "_model_name": "LayoutModel",
            "_view_count": null,
            "_view_module": "@jupyter-widgets/base",
            "_view_module_version": "1.2.0",
            "_view_name": "LayoutView",
            "align_content": null,
            "align_items": null,
            "align_self": null,
            "border": null,
            "bottom": null,
            "display": null,
            "flex": null,
            "flex_flow": null,
            "grid_area": null,
            "grid_auto_columns": null,
            "grid_auto_flow": null,
            "grid_auto_rows": null,
            "grid_column": null,
            "grid_gap": null,
            "grid_row": null,
            "grid_template_areas": null,
            "grid_template_columns": null,
            "grid_template_rows": null,
            "height": null,
            "justify_content": null,
            "justify_items": null,
            "left": null,
            "margin": null,
            "max_height": null,
            "max_width": null,
            "min_height": null,
            "min_width": null,
            "object_fit": null,
            "object_position": null,
            "order": null,
            "overflow": null,
            "overflow_x": null,
            "overflow_y": null,
            "padding": null,
            "right": null,
            "top": null,
            "visibility": null,
            "width": null
          }
        },
        "c7bc2f0452e841afb9848bc81094db33": {
          "model_module": "@jupyter-widgets/controls",
          "model_name": "DescriptionStyleModel",
          "model_module_version": "1.5.0",
          "state": {
            "_model_module": "@jupyter-widgets/controls",
            "_model_module_version": "1.5.0",
            "_model_name": "DescriptionStyleModel",
            "_view_count": null,
            "_view_module": "@jupyter-widgets/base",
            "_view_module_version": "1.2.0",
            "_view_name": "StyleView",
            "description_width": ""
          }
        },
        "398dcc2599984abab51d71dec8e04b6e": {
          "model_module": "@jupyter-widgets/base",
          "model_name": "LayoutModel",
          "model_module_version": "1.2.0",
          "state": {
            "_model_module": "@jupyter-widgets/base",
            "_model_module_version": "1.2.0",
            "_model_name": "LayoutModel",
            "_view_count": null,
            "_view_module": "@jupyter-widgets/base",
            "_view_module_version": "1.2.0",
            "_view_name": "LayoutView",
            "align_content": null,
            "align_items": null,
            "align_self": null,
            "border": null,
            "bottom": null,
            "display": null,
            "flex": null,
            "flex_flow": null,
            "grid_area": null,
            "grid_auto_columns": null,
            "grid_auto_flow": null,
            "grid_auto_rows": null,
            "grid_column": null,
            "grid_gap": null,
            "grid_row": null,
            "grid_template_areas": null,
            "grid_template_columns": null,
            "grid_template_rows": null,
            "height": null,
            "justify_content": null,
            "justify_items": null,
            "left": null,
            "margin": null,
            "max_height": null,
            "max_width": null,
            "min_height": null,
            "min_width": null,
            "object_fit": null,
            "object_position": null,
            "order": null,
            "overflow": null,
            "overflow_x": null,
            "overflow_y": null,
            "padding": null,
            "right": null,
            "top": null,
            "visibility": null,
            "width": null
          }
        },
        "300f6863ef4f4c6593baf15aa2ac2a8d": {
          "model_module": "@jupyter-widgets/controls",
          "model_name": "ProgressStyleModel",
          "model_module_version": "1.5.0",
          "state": {
            "_model_module": "@jupyter-widgets/controls",
            "_model_module_version": "1.5.0",
            "_model_name": "ProgressStyleModel",
            "_view_count": null,
            "_view_module": "@jupyter-widgets/base",
            "_view_module_version": "1.2.0",
            "_view_name": "StyleView",
            "bar_color": null,
            "description_width": ""
          }
        },
        "75cceca8b38e4be59e8f10b2f4e0bb52": {
          "model_module": "@jupyter-widgets/base",
          "model_name": "LayoutModel",
          "model_module_version": "1.2.0",
          "state": {
            "_model_module": "@jupyter-widgets/base",
            "_model_module_version": "1.2.0",
            "_model_name": "LayoutModel",
            "_view_count": null,
            "_view_module": "@jupyter-widgets/base",
            "_view_module_version": "1.2.0",
            "_view_name": "LayoutView",
            "align_content": null,
            "align_items": null,
            "align_self": null,
            "border": null,
            "bottom": null,
            "display": null,
            "flex": null,
            "flex_flow": null,
            "grid_area": null,
            "grid_auto_columns": null,
            "grid_auto_flow": null,
            "grid_auto_rows": null,
            "grid_column": null,
            "grid_gap": null,
            "grid_row": null,
            "grid_template_areas": null,
            "grid_template_columns": null,
            "grid_template_rows": null,
            "height": null,
            "justify_content": null,
            "justify_items": null,
            "left": null,
            "margin": null,
            "max_height": null,
            "max_width": null,
            "min_height": null,
            "min_width": null,
            "object_fit": null,
            "object_position": null,
            "order": null,
            "overflow": null,
            "overflow_x": null,
            "overflow_y": null,
            "padding": null,
            "right": null,
            "top": null,
            "visibility": null,
            "width": null
          }
        },
        "1258f24114c24fb2a59bb7940dba9d32": {
          "model_module": "@jupyter-widgets/controls",
          "model_name": "DescriptionStyleModel",
          "model_module_version": "1.5.0",
          "state": {
            "_model_module": "@jupyter-widgets/controls",
            "_model_module_version": "1.5.0",
            "_model_name": "DescriptionStyleModel",
            "_view_count": null,
            "_view_module": "@jupyter-widgets/base",
            "_view_module_version": "1.2.0",
            "_view_name": "StyleView",
            "description_width": ""
          }
        }
      }
    }
  },
  "cells": [
    {
      "cell_type": "markdown",
      "metadata": {
        "id": "view-in-github",
        "colab_type": "text"
      },
      "source": [
        "<a href=\"https://colab.research.google.com/github/Diz138/YelpReviews/blob/main/NLPEDA.ipynb\" target=\"_parent\"><img src=\"https://colab.research.google.com/assets/colab-badge.svg\" alt=\"Open In Colab\"/></a>"
      ]
    },
    {
      "cell_type": "code",
      "execution_count": 3,
      "metadata": {
        "id": "AI-w5UgkgwIF"
      },
      "outputs": [],
      "source": [
        "import pandas as pd\n",
        "import matplotlib.pyplot as plt\n",
        "import numpy as np\n"
      ]
    },
    {
      "cell_type": "code",
      "source": [
        "from google.colab import drive\n",
        "drive.mount('/content/drive')"
      ],
      "metadata": {
        "id": "5xbn6CWVecu_",
        "outputId": "8c51eec7-2f05-415c-c3d3-fcd068c25f52",
        "colab": {
          "base_uri": "https://localhost:8080/"
        }
      },
      "execution_count": 4,
      "outputs": [
        {
          "output_type": "stream",
          "name": "stdout",
          "text": [
            "Mounted at /content/drive\n"
          ]
        }
      ]
    },
    {
      "cell_type": "code",
      "source": [
        "#!pip3 install pickle5\n",
        "import pickle5 as pickle\n",
        "import pickle as pkl\n",
        "import pandas as pd\n",
        "#Matts directories\n",
        "#business = pd.read_csv(\"/content/drive/MyDrive/WPI/Senior Year/NLP/CS525/yelp_filtered_business.csv\")\n",
        "#filtered_review = pd.read_csv(\"/content/drive/MyDrive/WPI/Senior Year/NLP/CS525/yelp_filtered_review.csv\")\n",
        "#review = pd.read_csv(\"/content/drive/MyDrive/WPI/Senior Year/NLP/CS525/yelp_review.csv\")\n",
        "\n",
        "with open(\"/content/drive/MyDrive/WPI/Senior Year/NLP/CS525/yelp_merged.pkl\", \"rb\") as f:\n",
        "    apkl = pickle.load(f)\n",
        "    \n",
        "df = pd.DataFrame(apkl)"
      ],
      "metadata": {
        "id": "I0FQc8nGh0KI"
      },
      "execution_count": null,
      "outputs": []
    },
    {
      "cell_type": "code",
      "source": [
        "!pip3 install pickle5\n",
        "import pickle5 as pickle\n",
        "import pickle as pkl\n",
        "import pandas as pd\n",
        "# Dante directories\n",
        "with open(\"/content/drive/MyDrive/ST: NLP/yelp_merged.pkl\", \"rb\") as f:\n",
        "    apkl = pickle.load(f)\n",
        "    \n",
        "df = pd.DataFrame(apkl)"
      ],
      "metadata": {
        "id": "3k4NvAOieXO4",
        "outputId": "deb432d6-76a9-49ed-8c60-8cc2f4967de9",
        "colab": {
          "base_uri": "https://localhost:8080/"
        }
      },
      "execution_count": 5,
      "outputs": [
        {
          "output_type": "stream",
          "name": "stdout",
          "text": [
            "Looking in indexes: https://pypi.org/simple, https://us-python.pkg.dev/colab-wheels/public/simple/\n",
            "Collecting pickle5\n",
            "  Downloading pickle5-0.0.12-cp37-cp37m-manylinux_2_5_x86_64.manylinux1_x86_64.whl (256 kB)\n",
            "\u001b[K     |████████████████████████████████| 256 kB 8.0 MB/s \n",
            "\u001b[?25hInstalling collected packages: pickle5\n",
            "Successfully installed pickle5-0.0.12\n"
          ]
        }
      ]
    },
    {
      "cell_type": "code",
      "source": [
        "df.head()"
      ],
      "metadata": {
        "colab": {
          "base_uri": "https://localhost:8080/",
          "height": 337
        },
        "id": "cuqzkc91zo0n",
        "outputId": "16309ec5-55dd-42d8-8f5c-fbbbbe904beb"
      },
      "execution_count": 4,
      "outputs": [
        {
          "output_type": "execute_result",
          "data": {
            "text/plain": [
              "              business_id  stars  review_count  \\\n",
              "0  MTSW4McQd7CbVtyjqoe9mw    4.0            80   \n",
              "1  0bPLkL0QhhPO5kt1_EXmNQ    4.5           100   \n",
              "2  MUTTqe8uqyMdBl186RmNeA    4.0           245   \n",
              "3  ROeacJQwBeh05Rqg7F6TCg    4.5           205   \n",
              "4  9OG5YkX1g2GReZM0AskizA    2.5           339   \n",
              "\n",
              "                                                tips  \\\n",
              "0  [Love their pastries and drinks!, Really good ...   \n",
              "1  [Always a pleasant experience. The food is fre...   \n",
              "2  [Get the shrimp toast!, Soft opening now.\\n\\nh...   \n",
              "3  [They're open on Sunday's until 9 pm!, Small p...   \n",
              "4  [Yummy eggplant quadratini!, Lunch with a pet ...   \n",
              "\n",
              "                                               dates  \\\n",
              "0  [2010-08-18 17:05:36, 2010-11-25 17:45:31, 201...   \n",
              "1  [2010-08-26 17:52:51, 2011-02-13 00:43:54, 201...   \n",
              "2  [2017-11-25 02:28:19, 2017-11-28 23:17:19, 201...   \n",
              "3  [2013-12-06 22:32:24, 2013-12-18 02:03:03, 201...   \n",
              "4  [2010-11-11 14:05:01, 2010-12-31 20:24:03, 201...   \n",
              "\n",
              "                                             reviews  \n",
              "0  [This is nice little Chinese bakery in the hea...  \n",
              "1  [The worst Chicken Parm. Sandwich I've ever ea...  \n",
              "2  [Stopped in to check out this new spot around ...  \n",
              "3  [This place is fantastic!  Delicious, simple, ...  \n",
              "4  [Great bar Happy Hour 4-7 every day. Wine & Dr...  "
            ],
            "text/html": [
              "\n",
              "  <div id=\"df-3432c62f-4a85-4b54-ba96-6db472a4cd26\">\n",
              "    <div class=\"colab-df-container\">\n",
              "      <div>\n",
              "<style scoped>\n",
              "    .dataframe tbody tr th:only-of-type {\n",
              "        vertical-align: middle;\n",
              "    }\n",
              "\n",
              "    .dataframe tbody tr th {\n",
              "        vertical-align: top;\n",
              "    }\n",
              "\n",
              "    .dataframe thead th {\n",
              "        text-align: right;\n",
              "    }\n",
              "</style>\n",
              "<table border=\"1\" class=\"dataframe\">\n",
              "  <thead>\n",
              "    <tr style=\"text-align: right;\">\n",
              "      <th></th>\n",
              "      <th>business_id</th>\n",
              "      <th>stars</th>\n",
              "      <th>review_count</th>\n",
              "      <th>tips</th>\n",
              "      <th>dates</th>\n",
              "      <th>reviews</th>\n",
              "    </tr>\n",
              "  </thead>\n",
              "  <tbody>\n",
              "    <tr>\n",
              "      <th>0</th>\n",
              "      <td>MTSW4McQd7CbVtyjqoe9mw</td>\n",
              "      <td>4.0</td>\n",
              "      <td>80</td>\n",
              "      <td>[Love their pastries and drinks!, Really good ...</td>\n",
              "      <td>[2010-08-18 17:05:36, 2010-11-25 17:45:31, 201...</td>\n",
              "      <td>[This is nice little Chinese bakery in the hea...</td>\n",
              "    </tr>\n",
              "    <tr>\n",
              "      <th>1</th>\n",
              "      <td>0bPLkL0QhhPO5kt1_EXmNQ</td>\n",
              "      <td>4.5</td>\n",
              "      <td>100</td>\n",
              "      <td>[Always a pleasant experience. The food is fre...</td>\n",
              "      <td>[2010-08-26 17:52:51, 2011-02-13 00:43:54, 201...</td>\n",
              "      <td>[The worst Chicken Parm. Sandwich I've ever ea...</td>\n",
              "    </tr>\n",
              "    <tr>\n",
              "      <th>2</th>\n",
              "      <td>MUTTqe8uqyMdBl186RmNeA</td>\n",
              "      <td>4.0</td>\n",
              "      <td>245</td>\n",
              "      <td>[Get the shrimp toast!, Soft opening now.\\n\\nh...</td>\n",
              "      <td>[2017-11-25 02:28:19, 2017-11-28 23:17:19, 201...</td>\n",
              "      <td>[Stopped in to check out this new spot around ...</td>\n",
              "    </tr>\n",
              "    <tr>\n",
              "      <th>3</th>\n",
              "      <td>ROeacJQwBeh05Rqg7F6TCg</td>\n",
              "      <td>4.5</td>\n",
              "      <td>205</td>\n",
              "      <td>[They're open on Sunday's until 9 pm!, Small p...</td>\n",
              "      <td>[2013-12-06 22:32:24, 2013-12-18 02:03:03, 201...</td>\n",
              "      <td>[This place is fantastic!  Delicious, simple, ...</td>\n",
              "    </tr>\n",
              "    <tr>\n",
              "      <th>4</th>\n",
              "      <td>9OG5YkX1g2GReZM0AskizA</td>\n",
              "      <td>2.5</td>\n",
              "      <td>339</td>\n",
              "      <td>[Yummy eggplant quadratini!, Lunch with a pet ...</td>\n",
              "      <td>[2010-11-11 14:05:01, 2010-12-31 20:24:03, 201...</td>\n",
              "      <td>[Great bar Happy Hour 4-7 every day. Wine &amp; Dr...</td>\n",
              "    </tr>\n",
              "  </tbody>\n",
              "</table>\n",
              "</div>\n",
              "      <button class=\"colab-df-convert\" onclick=\"convertToInteractive('df-3432c62f-4a85-4b54-ba96-6db472a4cd26')\"\n",
              "              title=\"Convert this dataframe to an interactive table.\"\n",
              "              style=\"display:none;\">\n",
              "        \n",
              "  <svg xmlns=\"http://www.w3.org/2000/svg\" height=\"24px\"viewBox=\"0 0 24 24\"\n",
              "       width=\"24px\">\n",
              "    <path d=\"M0 0h24v24H0V0z\" fill=\"none\"/>\n",
              "    <path d=\"M18.56 5.44l.94 2.06.94-2.06 2.06-.94-2.06-.94-.94-2.06-.94 2.06-2.06.94zm-11 1L8.5 8.5l.94-2.06 2.06-.94-2.06-.94L8.5 2.5l-.94 2.06-2.06.94zm10 10l.94 2.06.94-2.06 2.06-.94-2.06-.94-.94-2.06-.94 2.06-2.06.94z\"/><path d=\"M17.41 7.96l-1.37-1.37c-.4-.4-.92-.59-1.43-.59-.52 0-1.04.2-1.43.59L10.3 9.45l-7.72 7.72c-.78.78-.78 2.05 0 2.83L4 21.41c.39.39.9.59 1.41.59.51 0 1.02-.2 1.41-.59l7.78-7.78 2.81-2.81c.8-.78.8-2.07 0-2.86zM5.41 20L4 18.59l7.72-7.72 1.47 1.35L5.41 20z\"/>\n",
              "  </svg>\n",
              "      </button>\n",
              "      \n",
              "  <style>\n",
              "    .colab-df-container {\n",
              "      display:flex;\n",
              "      flex-wrap:wrap;\n",
              "      gap: 12px;\n",
              "    }\n",
              "\n",
              "    .colab-df-convert {\n",
              "      background-color: #E8F0FE;\n",
              "      border: none;\n",
              "      border-radius: 50%;\n",
              "      cursor: pointer;\n",
              "      display: none;\n",
              "      fill: #1967D2;\n",
              "      height: 32px;\n",
              "      padding: 0 0 0 0;\n",
              "      width: 32px;\n",
              "    }\n",
              "\n",
              "    .colab-df-convert:hover {\n",
              "      background-color: #E2EBFA;\n",
              "      box-shadow: 0px 1px 2px rgba(60, 64, 67, 0.3), 0px 1px 3px 1px rgba(60, 64, 67, 0.15);\n",
              "      fill: #174EA6;\n",
              "    }\n",
              "\n",
              "    [theme=dark] .colab-df-convert {\n",
              "      background-color: #3B4455;\n",
              "      fill: #D2E3FC;\n",
              "    }\n",
              "\n",
              "    [theme=dark] .colab-df-convert:hover {\n",
              "      background-color: #434B5C;\n",
              "      box-shadow: 0px 1px 3px 1px rgba(0, 0, 0, 0.15);\n",
              "      filter: drop-shadow(0px 1px 2px rgba(0, 0, 0, 0.3));\n",
              "      fill: #FFFFFF;\n",
              "    }\n",
              "  </style>\n",
              "\n",
              "      <script>\n",
              "        const buttonEl =\n",
              "          document.querySelector('#df-3432c62f-4a85-4b54-ba96-6db472a4cd26 button.colab-df-convert');\n",
              "        buttonEl.style.display =\n",
              "          google.colab.kernel.accessAllowed ? 'block' : 'none';\n",
              "\n",
              "        async function convertToInteractive(key) {\n",
              "          const element = document.querySelector('#df-3432c62f-4a85-4b54-ba96-6db472a4cd26');\n",
              "          const dataTable =\n",
              "            await google.colab.kernel.invokeFunction('convertToInteractive',\n",
              "                                                     [key], {});\n",
              "          if (!dataTable) return;\n",
              "\n",
              "          const docLinkHtml = 'Like what you see? Visit the ' +\n",
              "            '<a target=\"_blank\" href=https://colab.research.google.com/notebooks/data_table.ipynb>data table notebook</a>'\n",
              "            + ' to learn more about interactive tables.';\n",
              "          element.innerHTML = '';\n",
              "          dataTable['output_type'] = 'display_data';\n",
              "          await google.colab.output.renderOutput(dataTable, element);\n",
              "          const docLink = document.createElement('div');\n",
              "          docLink.innerHTML = docLinkHtml;\n",
              "          element.appendChild(docLink);\n",
              "        }\n",
              "      </script>\n",
              "    </div>\n",
              "  </div>\n",
              "  "
            ]
          },
          "metadata": {},
          "execution_count": 4
        }
      ]
    },
    {
      "cell_type": "markdown",
      "source": [
        "## 0. Eploratory Data Analysis"
      ],
      "metadata": {
        "id": "jPPQOXhYpdSg"
      }
    },
    {
      "cell_type": "code",
      "source": [
        "#Retrieving Data shape and output\n",
        "print(filtered_review.shape)\n",
        "filtered_review.head()"
      ],
      "metadata": {
        "colab": {
          "base_uri": "https://localhost:8080/",
          "height": 372
        },
        "id": "iNCwvU5djxJr",
        "outputId": "3c796fc7-448f-4329-d47c-62d2aa61adce"
      },
      "execution_count": null,
      "outputs": [
        {
          "output_type": "stream",
          "name": "stdout",
          "text": [
            "(5066392, 10)\n"
          ]
        },
        {
          "output_type": "execute_result",
          "data": {
            "text/plain": [
              "   Unnamed: 0               review_id                 user_id  \\\n",
              "0           0  KU_O5udG6zpxOg-VcAEodg  mh_-eMZ6K5RLWhZyISBhwA   \n",
              "1           1  BiTunyQ73aT9WBnpR9DZGw  OyoGAe7OKpv6SyGZT5g77Q   \n",
              "2           3  AqPFMleE6RsU23_auESxiA  _7bHUi9Uuf5__HHc_Q8guQ   \n",
              "3           5  JrIxlS1TzJ-iCu79ul40cQ  eUta8W_HdHMXPzLBBZhL1A   \n",
              "4           6  6AxgBCNX_PNTOxmbRSwcKQ  r3zeYsv1XFBRA4dJpL78cw   \n",
              "\n",
              "              business_id  stars  useful  funny  cool  \\\n",
              "0  XQfwVwDr-v0ZS3_CbbE5Xw    3.0       0      0     0   \n",
              "1  7ATYjTIgM3jUlt4UM3IypQ    5.0       1      0     1   \n",
              "2  kxX2SOes4o-D3ZQBkiMRfA    5.0       1      0     1   \n",
              "3  04UD14gamNjLY0IDYVhHJg    1.0       1      2     1   \n",
              "4  gmjsEdUsKpj9Xxu6pdjH0g    5.0       0      2     0   \n",
              "\n",
              "                                                text                 date  \n",
              "0  If you decide to eat here, just be aware it is...  2018-07-07 22:09:11  \n",
              "1  I've taken a lot of spin classes over the year...  2012-01-03 15:28:18  \n",
              "2  Wow!  Yummy, different,  delicious.   Our favo...  2015-01-04 00:01:03  \n",
              "3  I am a long term frequent customer of this est...  2015-09-23 23:10:31  \n",
              "4  Loved this tour! I grabbed a groupon and the p...  2015-01-03 23:21:18  "
            ],
            "text/html": [
              "\n",
              "  <div id=\"df-54e055af-eedc-4bc9-841a-87c41c7d53cf\">\n",
              "    <div class=\"colab-df-container\">\n",
              "      <div>\n",
              "<style scoped>\n",
              "    .dataframe tbody tr th:only-of-type {\n",
              "        vertical-align: middle;\n",
              "    }\n",
              "\n",
              "    .dataframe tbody tr th {\n",
              "        vertical-align: top;\n",
              "    }\n",
              "\n",
              "    .dataframe thead th {\n",
              "        text-align: right;\n",
              "    }\n",
              "</style>\n",
              "<table border=\"1\" class=\"dataframe\">\n",
              "  <thead>\n",
              "    <tr style=\"text-align: right;\">\n",
              "      <th></th>\n",
              "      <th>Unnamed: 0</th>\n",
              "      <th>review_id</th>\n",
              "      <th>user_id</th>\n",
              "      <th>business_id</th>\n",
              "      <th>stars</th>\n",
              "      <th>useful</th>\n",
              "      <th>funny</th>\n",
              "      <th>cool</th>\n",
              "      <th>text</th>\n",
              "      <th>date</th>\n",
              "    </tr>\n",
              "  </thead>\n",
              "  <tbody>\n",
              "    <tr>\n",
              "      <th>0</th>\n",
              "      <td>0</td>\n",
              "      <td>KU_O5udG6zpxOg-VcAEodg</td>\n",
              "      <td>mh_-eMZ6K5RLWhZyISBhwA</td>\n",
              "      <td>XQfwVwDr-v0ZS3_CbbE5Xw</td>\n",
              "      <td>3.0</td>\n",
              "      <td>0</td>\n",
              "      <td>0</td>\n",
              "      <td>0</td>\n",
              "      <td>If you decide to eat here, just be aware it is...</td>\n",
              "      <td>2018-07-07 22:09:11</td>\n",
              "    </tr>\n",
              "    <tr>\n",
              "      <th>1</th>\n",
              "      <td>1</td>\n",
              "      <td>BiTunyQ73aT9WBnpR9DZGw</td>\n",
              "      <td>OyoGAe7OKpv6SyGZT5g77Q</td>\n",
              "      <td>7ATYjTIgM3jUlt4UM3IypQ</td>\n",
              "      <td>5.0</td>\n",
              "      <td>1</td>\n",
              "      <td>0</td>\n",
              "      <td>1</td>\n",
              "      <td>I've taken a lot of spin classes over the year...</td>\n",
              "      <td>2012-01-03 15:28:18</td>\n",
              "    </tr>\n",
              "    <tr>\n",
              "      <th>2</th>\n",
              "      <td>3</td>\n",
              "      <td>AqPFMleE6RsU23_auESxiA</td>\n",
              "      <td>_7bHUi9Uuf5__HHc_Q8guQ</td>\n",
              "      <td>kxX2SOes4o-D3ZQBkiMRfA</td>\n",
              "      <td>5.0</td>\n",
              "      <td>1</td>\n",
              "      <td>0</td>\n",
              "      <td>1</td>\n",
              "      <td>Wow!  Yummy, different,  delicious.   Our favo...</td>\n",
              "      <td>2015-01-04 00:01:03</td>\n",
              "    </tr>\n",
              "    <tr>\n",
              "      <th>3</th>\n",
              "      <td>5</td>\n",
              "      <td>JrIxlS1TzJ-iCu79ul40cQ</td>\n",
              "      <td>eUta8W_HdHMXPzLBBZhL1A</td>\n",
              "      <td>04UD14gamNjLY0IDYVhHJg</td>\n",
              "      <td>1.0</td>\n",
              "      <td>1</td>\n",
              "      <td>2</td>\n",
              "      <td>1</td>\n",
              "      <td>I am a long term frequent customer of this est...</td>\n",
              "      <td>2015-09-23 23:10:31</td>\n",
              "    </tr>\n",
              "    <tr>\n",
              "      <th>4</th>\n",
              "      <td>6</td>\n",
              "      <td>6AxgBCNX_PNTOxmbRSwcKQ</td>\n",
              "      <td>r3zeYsv1XFBRA4dJpL78cw</td>\n",
              "      <td>gmjsEdUsKpj9Xxu6pdjH0g</td>\n",
              "      <td>5.0</td>\n",
              "      <td>0</td>\n",
              "      <td>2</td>\n",
              "      <td>0</td>\n",
              "      <td>Loved this tour! I grabbed a groupon and the p...</td>\n",
              "      <td>2015-01-03 23:21:18</td>\n",
              "    </tr>\n",
              "  </tbody>\n",
              "</table>\n",
              "</div>\n",
              "      <button class=\"colab-df-convert\" onclick=\"convertToInteractive('df-54e055af-eedc-4bc9-841a-87c41c7d53cf')\"\n",
              "              title=\"Convert this dataframe to an interactive table.\"\n",
              "              style=\"display:none;\">\n",
              "        \n",
              "  <svg xmlns=\"http://www.w3.org/2000/svg\" height=\"24px\"viewBox=\"0 0 24 24\"\n",
              "       width=\"24px\">\n",
              "    <path d=\"M0 0h24v24H0V0z\" fill=\"none\"/>\n",
              "    <path d=\"M18.56 5.44l.94 2.06.94-2.06 2.06-.94-2.06-.94-.94-2.06-.94 2.06-2.06.94zm-11 1L8.5 8.5l.94-2.06 2.06-.94-2.06-.94L8.5 2.5l-.94 2.06-2.06.94zm10 10l.94 2.06.94-2.06 2.06-.94-2.06-.94-.94-2.06-.94 2.06-2.06.94z\"/><path d=\"M17.41 7.96l-1.37-1.37c-.4-.4-.92-.59-1.43-.59-.52 0-1.04.2-1.43.59L10.3 9.45l-7.72 7.72c-.78.78-.78 2.05 0 2.83L4 21.41c.39.39.9.59 1.41.59.51 0 1.02-.2 1.41-.59l7.78-7.78 2.81-2.81c.8-.78.8-2.07 0-2.86zM5.41 20L4 18.59l7.72-7.72 1.47 1.35L5.41 20z\"/>\n",
              "  </svg>\n",
              "      </button>\n",
              "      \n",
              "  <style>\n",
              "    .colab-df-container {\n",
              "      display:flex;\n",
              "      flex-wrap:wrap;\n",
              "      gap: 12px;\n",
              "    }\n",
              "\n",
              "    .colab-df-convert {\n",
              "      background-color: #E8F0FE;\n",
              "      border: none;\n",
              "      border-radius: 50%;\n",
              "      cursor: pointer;\n",
              "      display: none;\n",
              "      fill: #1967D2;\n",
              "      height: 32px;\n",
              "      padding: 0 0 0 0;\n",
              "      width: 32px;\n",
              "    }\n",
              "\n",
              "    .colab-df-convert:hover {\n",
              "      background-color: #E2EBFA;\n",
              "      box-shadow: 0px 1px 2px rgba(60, 64, 67, 0.3), 0px 1px 3px 1px rgba(60, 64, 67, 0.15);\n",
              "      fill: #174EA6;\n",
              "    }\n",
              "\n",
              "    [theme=dark] .colab-df-convert {\n",
              "      background-color: #3B4455;\n",
              "      fill: #D2E3FC;\n",
              "    }\n",
              "\n",
              "    [theme=dark] .colab-df-convert:hover {\n",
              "      background-color: #434B5C;\n",
              "      box-shadow: 0px 1px 3px 1px rgba(0, 0, 0, 0.15);\n",
              "      filter: drop-shadow(0px 1px 2px rgba(0, 0, 0, 0.3));\n",
              "      fill: #FFFFFF;\n",
              "    }\n",
              "  </style>\n",
              "\n",
              "      <script>\n",
              "        const buttonEl =\n",
              "          document.querySelector('#df-54e055af-eedc-4bc9-841a-87c41c7d53cf button.colab-df-convert');\n",
              "        buttonEl.style.display =\n",
              "          google.colab.kernel.accessAllowed ? 'block' : 'none';\n",
              "\n",
              "        async function convertToInteractive(key) {\n",
              "          const element = document.querySelector('#df-54e055af-eedc-4bc9-841a-87c41c7d53cf');\n",
              "          const dataTable =\n",
              "            await google.colab.kernel.invokeFunction('convertToInteractive',\n",
              "                                                     [key], {});\n",
              "          if (!dataTable) return;\n",
              "\n",
              "          const docLinkHtml = 'Like what you see? Visit the ' +\n",
              "            '<a target=\"_blank\" href=https://colab.research.google.com/notebooks/data_table.ipynb>data table notebook</a>'\n",
              "            + ' to learn more about interactive tables.';\n",
              "          element.innerHTML = '';\n",
              "          dataTable['output_type'] = 'display_data';\n",
              "          await google.colab.output.renderOutput(dataTable, element);\n",
              "          const docLink = document.createElement('div');\n",
              "          docLink.innerHTML = docLinkHtml;\n",
              "          element.appendChild(docLink);\n",
              "        }\n",
              "      </script>\n",
              "    </div>\n",
              "  </div>\n",
              "  "
            ]
          },
          "metadata": {},
          "execution_count": 38
        }
      ]
    },
    {
      "cell_type": "code",
      "source": [
        "#Histogram of all reviews showing the count of stars\n",
        "bins = np.arange(7) -0.5\n",
        "plt.hist(filtered_review.stars, bins, alpha=0.5, histtype='bar', ec='black')\n",
        "plt.ylabel('Count (millions)')\n",
        "plt.title('Number of Stars Histogram')\n",
        "plt.xticks(range(6))\n",
        "plt.xlim([0, 6])\n",
        "\n",
        "plt.show()"
      ],
      "metadata": {
        "colab": {
          "base_uri": "https://localhost:8080/",
          "height": 281
        },
        "id": "wdtAVhD8mCoF",
        "outputId": "772c6a9b-015f-4ba2-dbc6-31e902cddb30"
      },
      "execution_count": null,
      "outputs": [
        {
          "output_type": "display_data",
          "data": {
            "text/plain": [
              "<Figure size 432x288 with 1 Axes>"
            ],
            "image/png": "[encoded data removed]"
          },
          "metadata": {
            "needs_background": "light"
          }
        }
      ]
    },
    {
      "cell_type": "code",
      "source": [
        "print(filtered_review.funny.unique())\n",
        "bins = np.arange(7) -0.5\n",
        "#plt.hist(filtered_review.funny, bins, alpha=0.5, histtype='bar', ec='black')\n",
        "plt.hist(filtered_review.funny, alpha=0.5, histtype='bar', ec='black')\n",
        "plt.ylabel('Count (millions)')\n",
        "plt.title('Number of Stars Histogram')\n",
        "#plt.xticks(range(6))\n",
        "#plt.xlim([0, 6])\n",
        "\n",
        "plt.show()"
      ],
      "metadata": {
        "colab": {
          "base_uri": "https://localhost:8080/",
          "height": 472
        },
        "id": "5GDclFnjpzr5",
        "outputId": "cc786747-742b-4fc3-cca4-70ef8c1e4ac4"
      },
      "execution_count": null,
      "outputs": [
        {
          "output_type": "stream",
          "name": "stdout",
          "text": [
            "[  0   2   5   1   3   4  12   6   9   7  11  26  10   8  25  18  15  13\n",
            "  21  16  14  24  17  22  20  38  19  27  23  32  28  39  33  40  44  30\n",
            "  42  34  29  37  88  35  48  43  54  45  68  46  67  65  62 113  61  57\n",
            "  31  47  53  75 141  36 105  78  52  58  74 133  76  93  71 254  63  49\n",
            "  83  86  81  59  55  92  41 101 103  97 129 130  82  56 107  60  94 114\n",
            "  79 139  73 169 251 200  85  64 222 143 181 179 190 175 277 126 127 167\n",
            " 135 256 146 112  77 152 144 235  95 228 240  84  99 232  89 106 202 236\n",
            " 116  51  72  87  66 134 283  50  69 191 117  -1  91 104 157  90  80 102\n",
            " 155  70 100 159 150 201 121  98 119 227 110  96 266 324 154 148 180 361\n",
            " 241 326 310 287 109 278 332 182 307 336 342 345 341 147 188 164 375 351\n",
            " 137 369 357 313 346 344 378 347 353 333 370 118 158 792 177 288]\n"
          ]
        },
        {
          "output_type": "display_data",
          "data": {
            "text/plain": [
              "<Figure size 432x288 with 1 Axes>"
            ],
            "image/png": "[encoded data removed]"
          },
          "metadata": {
            "needs_background": "light"
          }
        }
      ]
    },
    {
      "cell_type": "markdown",
      "source": [
        "## 1. Converting from dataframe to tensorflow dataset"
      ],
      "metadata": {
        "id": "sg3Kl3x4zryG"
      }
    },
    {
      "cell_type": "markdown",
      "source": [
        "####Functions"
      ],
      "metadata": {
        "id": "7t9ReqZb7vYO"
      }
    },
    {
      "cell_type": "code",
      "source": [
        "import nltk\n",
        "from nltk.tokenize import word_tokenize\n",
        "from nltk.tokenize import sent_tokenize\n",
        "from nltk.probability import FreqDist\n",
        "nltk.download('stopwords')\n",
        "nltk.download('punkt')\n",
        "nltk.download('wordnet')\n",
        "nltk.download('omw-1.4')\n",
        "from nltk.corpus import stopwords\n",
        "import pandas as pd\n",
        "import re\n",
        "from sklearn.model_selection import train_test_split\n",
        "from sklearn.feature_extraction.text import CountVectorizer\n",
        "from sklearn.feature_extraction.text import TfidfVectorizer\n",
        "from sklearn.feature_extraction import DictVectorizer\n",
        "from sklearn.naive_bayes import MultinomialNB\n",
        "from sklearn.metrics import accuracy_score\n",
        "from sklearn.metrics import confusion_matrix\n",
        "import matplotlib.pyplot as plt\n",
        "import seaborn as sns\n",
        "from sklearn import svm\n",
        "from sklearn.linear_model import LogisticRegression\n",
        "from sklearn.neighbors import NearestCentroid\n",
        "stop_words = set(stopwords.words(\"english\"))\n",
        "lemmatizer = nltk.stem.WordNetLemmatizer()"
      ],
      "metadata": {
        "colab": {
          "base_uri": "https://localhost:8080/"
        },
        "id": "UNjri_pF8q9I",
        "outputId": "ccc0be44-f2c9-4873-b37a-593572100ecd"
      },
      "execution_count": null,
      "outputs": [
        {
          "output_type": "stream",
          "name": "stderr",
          "text": [
            "[nltk_data] Downloading package stopwords to /root/nltk_data...\n",
            "[nltk_data]   Unzipping corpora/stopwords.zip.\n",
            "[nltk_data] Downloading package punkt to /root/nltk_data...\n",
            "[nltk_data]   Unzipping tokenizers/punkt.zip.\n",
            "[nltk_data] Downloading package wordnet to /root/nltk_data...\n",
            "[nltk_data] Downloading package omw-1.4 to /root/nltk_data...\n"
          ]
        }
      ]
    },
    {
      "cell_type": "code",
      "source": [
        "def text_preprocessing(s):\n",
        "    \"\"\"\n",
        "    - Lowercase the sentence\n",
        "    - Change \"'t\" to \"not\"\n",
        "    - Remove \"@name\"\n",
        "    - Isolate and remove punctuations except \"?\"\n",
        "    - Remove other special characters\n",
        "    - Remove stop words except \"not\" and \"can\"\n",
        "    - Remove trailing whitespace\n",
        "    \"\"\"\n",
        "    s =' '.join(s)\n",
        "    s = s.lower()\n",
        "    # Change 't to 'not'\n",
        "    s = re.sub(r\"\\'t\", \" not\", s)\n",
        "    # Remove @name\n",
        "    s = re.sub(r'(@.*?)[\\s]', ' ', s)\n",
        "    # Isolate and remove punctuations except '?'\n",
        "    s = re.sub(r'([\\'\\\"\\.\\(\\)\\!\\?\\\\\\/\\,])', r' \\1 ', s)\n",
        "    s = re.sub(r'[^\\w\\s\\?]', ' ', s)\n",
        "    # Remove some special characters\n",
        "    s = re.sub(r'([\\;\\:\\|•«\\n])', ' ', s)\n",
        "    # Remove stopwords except 'not' and 'can'\n",
        "    s = \" \".join([word for word in s.split()\n",
        "                  if word not in stopwords.words('english')\n",
        "                  or word in ['not', 'can']])\n",
        "    # Remove trailing whitespace\n",
        "    s = re.sub(r'\\s+', ' ', s).strip()\n",
        "    return s\n",
        "def sentiment(score):\n",
        "  if score>=3:\n",
        "    return 1\n",
        "  else:\n",
        "    return 0"
      ],
      "metadata": {
        "id": "OutpCNXs3psF"
      },
      "execution_count": null,
      "outputs": []
    },
    {
      "cell_type": "markdown",
      "source": [
        "####Finetuning"
      ],
      "metadata": {
        "id": "RrLc4QCB7zYd"
      }
    },
    {
      "cell_type": "code",
      "source": [
        "import tensorflow as tf\n",
        "df['sentiment'] = df.stars.apply(lambda a : sentiment(a))\n",
        "review_df = df[['reviews','sentiment']]\n",
        "review_df = review_df.iloc[0:100,:]\n",
        "review_df['reviews'] = review_df.reviews.apply(lambda a : text_preprocessing(a))\n",
        "print(review_df.head())\n",
        "#review_df = review_df[0:10000,:]\n",
        "\n",
        "#ds = tf.data.Dataset.from_tensor_slices(dict(review_df))"
      ],
      "metadata": {
        "colab": {
          "base_uri": "https://localhost:8080/"
        },
        "id": "jvaIFqLrzzyg",
        "outputId": "15ad8104-cd2f-435c-8102-8a41fdc1100e"
      },
      "execution_count": null,
      "outputs": [
        {
          "output_type": "stream",
          "name": "stdout",
          "text": [
            "                                             reviews  sentiment\n",
            "0  nice little chinese bakery heart philadelphia ...          1\n",
            "1  worst chicken parm sandwich ever eaten chicken...          1\n",
            "2  stopped check new spot around corner us boyfri...          1\n",
            "3  place fantastic delicious simple healthy liter...          1\n",
            "4  great bar happy hour 4 7 every day wine drafts...          0\n"
          ]
        }
      ]
    },
    {
      "cell_type": "code",
      "source": [
        "#review_df = review_df.iloc[0:10000,:]\n",
        "\n",
        "ds = tf.data.Dataset.from_tensor_slices(dict(review_df))"
      ],
      "metadata": {
        "id": "A6q1GDGB2pfw"
      },
      "execution_count": null,
      "outputs": []
    },
    {
      "cell_type": "code",
      "source": [
        "print(ds)"
      ],
      "metadata": {
        "colab": {
          "base_uri": "https://localhost:8080/"
        },
        "id": "HZ5I_KkG54fQ",
        "outputId": "7073e5d6-afb8-415b-af19-7d2ca13cf15f"
      },
      "execution_count": null,
      "outputs": [
        {
          "output_type": "stream",
          "name": "stdout",
          "text": [
            "<TensorSliceDataset element_spec={'reviews': TensorSpec(shape=(), dtype=tf.string, name=None), 'sentiment': TensorSpec(shape=(), dtype=tf.int64, name=None)}>\n"
          ]
        }
      ]
    },
    {
      "cell_type": "code",
      "source": [
        "!pip install transformers\n",
        "import torch\n",
        "from transformers.file_utils import is_tf_available, is_torch_available, is_torch_tpu_available\n",
        "from transformers import BertTokenizerFast, BertForSequenceClassification\n",
        "from transformers import Trainer, TrainingArguments\n",
        "import numpy as np\n",
        "import random\n",
        "from sklearn.datasets import fetch_20newsgroups\n",
        "from sklearn.model_selection import train_test_split\n",
        "\n",
        "def set_seed(seed: int):\n",
        "    \"\"\"\n",
        "    Helper function for reproducible behavior to set the seed in ``random``, ``numpy``, ``torch`` and/or ``tf`` (if\n",
        "    installed).\n",
        "\n",
        "    Args:\n",
        "        seed (:obj:`int`): The seed to set.\n",
        "    \"\"\"\n",
        "    random.seed(seed)\n",
        "    np.random.seed(seed)\n",
        "    if is_torch_available():\n",
        "        torch.manual_seed(seed)\n",
        "        torch.cuda.manual_seed_all(seed)\n",
        "        # ^^ safe to call this function even if cuda is not available\n",
        "    if is_tf_available():\n",
        "        import tensorflow as tf\n",
        "\n",
        "        tf.random.set_seed(seed)\n",
        "\n",
        "set_seed(1)\n",
        "max_length = 512\n",
        "model_name = \"bert-base-uncased\""
      ],
      "metadata": {
        "colab": {
          "base_uri": "https://localhost:8080/"
        },
        "id": "JG1jV5uj6G9G",
        "outputId": "71a2d3fd-91e8-4b59-c348-bab7636bffb3"
      },
      "execution_count": 11,
      "outputs": [
        {
          "output_type": "stream",
          "name": "stdout",
          "text": [
            "Looking in indexes: https://pypi.org/simple, https://us-python.pkg.dev/colab-wheels/public/simple/\n",
            "Requirement already satisfied: transformers in /usr/local/lib/python3.7/dist-packages (4.24.0)\n",
            "Requirement already satisfied: pyyaml>=5.1 in /usr/local/lib/python3.7/dist-packages (from transformers) (6.0)\n",
            "Requirement already satisfied: regex!=2019.12.17 in /usr/local/lib/python3.7/dist-packages (from transformers) (2022.6.2)\n",
            "Requirement already satisfied: tokenizers!=0.11.3,<0.14,>=0.11.1 in /usr/local/lib/python3.7/dist-packages (from transformers) (0.13.2)\n",
            "Requirement already satisfied: packaging>=20.0 in /usr/local/lib/python3.7/dist-packages (from transformers) (21.3)\n",
            "Requirement already satisfied: tqdm>=4.27 in /usr/local/lib/python3.7/dist-packages (from transformers) (4.64.1)\n",
            "Requirement already satisfied: numpy>=1.17 in /usr/local/lib/python3.7/dist-packages (from transformers) (1.21.6)\n",
            "Requirement already satisfied: filelock in /usr/local/lib/python3.7/dist-packages (from transformers) (3.8.0)\n",
            "Requirement already satisfied: requests in /usr/local/lib/python3.7/dist-packages (from transformers) (2.23.0)\n",
            "Requirement already satisfied: importlib-metadata in /usr/local/lib/python3.7/dist-packages (from transformers) (4.13.0)\n",
            "Requirement already satisfied: huggingface-hub<1.0,>=0.10.0 in /usr/local/lib/python3.7/dist-packages (from transformers) (0.11.0)\n",
            "Requirement already satisfied: typing-extensions>=3.7.4.3 in /usr/local/lib/python3.7/dist-packages (from huggingface-hub<1.0,>=0.10.0->transformers) (4.1.1)\n",
            "Requirement already satisfied: pyparsing!=3.0.5,>=2.0.2 in /usr/local/lib/python3.7/dist-packages (from packaging>=20.0->transformers) (3.0.9)\n",
            "Requirement already satisfied: zipp>=0.5 in /usr/local/lib/python3.7/dist-packages (from importlib-metadata->transformers) (3.10.0)\n",
            "Requirement already satisfied: idna<3,>=2.5 in /usr/local/lib/python3.7/dist-packages (from requests->transformers) (2.10)\n",
            "Requirement already satisfied: urllib3!=1.25.0,!=1.25.1,<1.26,>=1.21.1 in /usr/local/lib/python3.7/dist-packages (from requests->transformers) (1.24.3)\n",
            "Requirement already satisfied: certifi>=2017.4.17 in /usr/local/lib/python3.7/dist-packages (from requests->transformers) (2022.9.24)\n",
            "Requirement already satisfied: chardet<4,>=3.0.2 in /usr/local/lib/python3.7/dist-packages (from requests->transformers) (3.0.4)\n"
          ]
        }
      ]
    },
    {
      "cell_type": "code",
      "source": [
        "tokenizer = BertTokenizerFast.from_pretrained(model_name, do_lower_case=True)"
      ],
      "metadata": {
        "id": "Qb_ja8Y2E2cY"
      },
      "execution_count": null,
      "outputs": []
    },
    {
      "cell_type": "code",
      "source": [
        "def readReviews(test_size=0.2):\n",
        "  # download & load 20newsgroups dataset from sklearn's repos\n",
        "  #dataset = fetch_20newsgroups(subset=\"all\", shuffle=True, remove=(\"headers\", \"footers\", \"quotes\"))\n",
        "  documents = review_df.reviews\n",
        "  labels = review_df.sentiment\n",
        "  # split into training & testing a return data as well as label names\n",
        "  return train_test_split(documents, labels, test_size=test_size) "
      ],
      "metadata": {
        "id": "adO2sVB_E-C1"
      },
      "execution_count": null,
      "outputs": []
    },
    {
      "cell_type": "code",
      "source": [
        "(train_texts, valid_texts, train_labels, valid_labels) = readReviews()"
      ],
      "metadata": {
        "id": "E87q_lwBFhAp"
      },
      "execution_count": null,
      "outputs": []
    },
    {
      "cell_type": "code",
      "source": [
        "train_encodings = tokenizer(train_texts.tolist(), truncation=True, padding=True, max_length=max_length)\n",
        "valid_encodings = tokenizer(valid_texts.tolist(), truncation=True, padding=True, max_length=max_length)"
      ],
      "metadata": {
        "id": "nzhJ9yYGFiA2"
      },
      "execution_count": null,
      "outputs": []
    },
    {
      "cell_type": "code",
      "source": [
        "class NewsGroupsDataset(torch.utils.data.Dataset):\n",
        "    def __init__(self, encodings, labels):\n",
        "        self.encodings = encodings\n",
        "        self.labels = labels\n",
        "\n",
        "    def __getitem__(self, idx):\n",
        "        item = {k: torch.tensor(v[idx]) for k, v in self.encodings.items()}\n",
        "        #print(item)\n",
        "        #print(len(self.labels))\n",
        "        #print(idx)\n",
        "        #print(\"HEELOOW\")\n",
        "        item[\"labels\"] = torch.tensor([self.labels[idx]])\n",
        "        return item\n",
        "\n",
        "    def __len__(self):\n",
        "        return len(self.labels)\n",
        "\n",
        "# convert our tokenized data into a torch Dataset\n",
        "train_labels = train_labels.tolist()\n",
        "valid_labels = valid_labels.tolist()\n",
        "train_dataset = NewsGroupsDataset(train_encodings, train_labels)\n",
        "valid_dataset = NewsGroupsDataset(valid_encodings, valid_labels)"
      ],
      "metadata": {
        "id": "baFahIapFpYh"
      },
      "execution_count": null,
      "outputs": []
    },
    {
      "cell_type": "code",
      "source": [
        "model = BertForSequenceClassification.from_pretrained(model_name, num_labels=2).to(\"cuda\")"
      ],
      "metadata": {
        "colab": {
          "base_uri": "https://localhost:8080/"
        },
        "id": "baTMuGJHFsF4",
        "outputId": "de9dca16-1b09-4266-b6f0-a0bad3961217"
      },
      "execution_count": null,
      "outputs": [
        {
          "output_type": "stream",
          "name": "stderr",
          "text": [
            "loading configuration file config.json from cache at /root/.cache/huggingface/hub/models--bert-base-uncased/snapshots/0a6aa9128b6194f4f3c4db429b6cb4891cdb421b/config.json\n",
            "Model config BertConfig {\n",
            "  \"architectures\": [\n",
            "    \"BertForMaskedLM\"\n",
            "  ],\n",
            "  \"attention_probs_dropout_prob\": 0.1,\n",
            "  \"classifier_dropout\": null,\n",
            "  \"gradient_checkpointing\": false,\n",
            "  \"hidden_act\": \"gelu\",\n",
            "  \"hidden_dropout_prob\": 0.1,\n",
            "  \"hidden_size\": 768,\n",
            "  \"initializer_range\": 0.02,\n",
            "  \"intermediate_size\": 3072,\n",
            "  \"layer_norm_eps\": 1e-12,\n",
            "  \"max_position_embeddings\": 512,\n",
            "  \"model_type\": \"bert\",\n",
            "  \"num_attention_heads\": 12,\n",
            "  \"num_hidden_layers\": 12,\n",
            "  \"pad_token_id\": 0,\n",
            "  \"position_embedding_type\": \"absolute\",\n",
            "  \"transformers_version\": \"4.24.0\",\n",
            "  \"type_vocab_size\": 2,\n",
            "  \"use_cache\": true,\n",
            "  \"vocab_size\": 30522\n",
            "}\n",
            "\n",
            "loading weights file pytorch_model.bin from cache at /root/.cache/huggingface/hub/models--bert-base-uncased/snapshots/0a6aa9128b6194f4f3c4db429b6cb4891cdb421b/pytorch_model.bin\n",
            "Some weights of the model checkpoint at bert-base-uncased were not used when initializing BertForSequenceClassification: ['cls.seq_relationship.weight', 'cls.predictions.transform.dense.bias', 'cls.predictions.transform.LayerNorm.weight', 'cls.predictions.decoder.weight', 'cls.predictions.bias', 'cls.predictions.transform.LayerNorm.bias', 'cls.predictions.transform.dense.weight', 'cls.seq_relationship.bias']\n",
            "- This IS expected if you are initializing BertForSequenceClassification from the checkpoint of a model trained on another task or with another architecture (e.g. initializing a BertForSequenceClassification model from a BertForPreTraining model).\n",
            "- This IS NOT expected if you are initializing BertForSequenceClassification from the checkpoint of a model that you expect to be exactly identical (initializing a BertForSequenceClassification model from a BertForSequenceClassification model).\n",
            "Some weights of BertForSequenceClassification were not initialized from the model checkpoint at bert-base-uncased and are newly initialized: ['classifier.bias', 'classifier.weight']\n",
            "You should probably TRAIN this model on a down-stream task to be able to use it for predictions and inference.\n"
          ]
        }
      ]
    },
    {
      "cell_type": "code",
      "source": [
        "from sklearn.metrics import accuracy_score\n",
        "from sklearn.metrics import precision_recall_fscore_support\n",
        "def compute_metrics(pred):\n",
        "    labels = pred.label_ids\n",
        "    preds = pred.predictions.argmax(-1)\n",
        "    precision, recall, f1, _ = precision_recall_fscore_support(labels, preds, average='binary')\n",
        "    acc = accuracy_score(labels, preds)\n",
        "    return {\n",
        "        'accuracy': acc,\n",
        "        'f1': f1,\n",
        "        'precision': precision,\n",
        "        'recall': recall\n",
        "    }"
      ],
      "metadata": {
        "id": "YSCuGmvDGAh6"
      },
      "execution_count": null,
      "outputs": []
    },
    {
      "cell_type": "code",
      "source": [
        "from sklearn.metrics import accuracy_score\n",
        "from sklearn.metrics import precision_recall_fscore_support\n",
        "def compute_metrics(pred):\n",
        "    labels = pred.label_ids\n",
        "    preds = pred.predictions.argmax(-1)\n",
        "    precision, recall, f1, _ = precision_recall_fscore_support(labels, preds, average='binary')\n",
        "    acc = accuracy_score(labels, preds)\n",
        "    return {\n",
        "        'accuracy': acc,\n",
        "        'f1': f1,\n",
        "        'precision': precision,\n",
        "        'recall': recall\n",
        "    }"
      ],
      "metadata": {
        "id": "C6cz7yW1GDIq"
      },
      "execution_count": null,
      "outputs": []
    },
    {
      "cell_type": "code",
      "source": [
        "training_args = TrainingArguments(\n",
        "    output_dir='./results',          # output directory\n",
        "    num_train_epochs=2,              # total number of training epochs\n",
        "    per_device_train_batch_size=8,  # batch size per device during training\n",
        "    per_device_eval_batch_size=10,   # batch size for evaluation\n",
        "    warmup_steps=200,                # number of warmup steps for learning rate scheduler\n",
        "    weight_decay=0.01,               # strength of weight decay\n",
        "    logging_dir='./logs',            # directory for storing logs\n",
        "    load_best_model_at_end=True,     # load the best model when finished training (default metric is loss)\n",
        "    # but you can specify `metric_for_best_model` argument to change to accuracy or other metric\n",
        "    logging_steps=800,               # log & save weights each logging_steps\n",
        "    save_steps=800,\n",
        "    evaluation_strategy=\"steps\",     # evaluate each `logging_steps`\n",
        ")"
      ],
      "metadata": {
        "colab": {
          "base_uri": "https://localhost:8080/"
        },
        "id": "uykf0ANSGR6k",
        "outputId": "2b18ba37-99c9-4eb2-d2d9-a1f27ba38ed8"
      },
      "execution_count": null,
      "outputs": [
        {
          "output_type": "stream",
          "name": "stderr",
          "text": [
            "using `logging_steps` to initialize `eval_steps` to 800\n",
            "PyTorch: setting up devices\n",
            "The default value for the training argument `--report_to` will change in v5 (from all installed integrations to none). In v5, you will need to use `--report_to all` to get the same behavior as now. You should start updating your code and make this info disappear :-).\n"
          ]
        }
      ]
    },
    {
      "cell_type": "code",
      "source": [
        "trainer = Trainer(\n",
        "    model=model,                         # the instantiated Transformers model to be trained\n",
        "    args=training_args,                  # training arguments, defined above\n",
        "    train_dataset=train_dataset,         # training dataset\n",
        "    eval_dataset=valid_dataset,          # evaluation dataset\n",
        "    compute_metrics=compute_metrics,     # the callback that computes metrics of interest\n",
        ")"
      ],
      "metadata": {
        "id": "TYhmvhCFGFKW"
      },
      "execution_count": null,
      "outputs": []
    },
    {
      "cell_type": "code",
      "source": [
        "trainer.train()"
      ],
      "metadata": {
        "colab": {
          "base_uri": "https://localhost:8080/",
          "height": 336
        },
        "id": "YVAKDNJIGTa9",
        "outputId": "c3ae69fe-e886-493a-8a9f-08f01b29ed31"
      },
      "execution_count": null,
      "outputs": [
        {
          "output_type": "stream",
          "name": "stderr",
          "text": [
            "***** Running training *****\n",
            "  Num examples = 80\n",
            "  Num Epochs = 2\n",
            "  Instantaneous batch size per device = 8\n",
            "  Total train batch size (w. parallel, distributed & accumulation) = 8\n",
            "  Gradient Accumulation steps = 1\n",
            "  Total optimization steps = 20\n",
            "  Number of trainable parameters = 109483778\n"
          ]
        },
        {
          "output_type": "display_data",
          "data": {
            "text/plain": [
              "<IPython.core.display.HTML object>"
            ],
            "text/html": [
              "\n",
              "    <div>\n",
              "      \n",
              "      <progress value='20' max='20' style='width:300px; height:20px; vertical-align: middle;'></progress>\n",
              "      [20/20 00:14, Epoch 2/2]\n",
              "    </div>\n",
              "    <table border=\"1\" class=\"dataframe\">\n",
              "  <thead>\n",
              " <tr style=\"text-align: left;\">\n",
              "      <th>Step</th>\n",
              "      <th>Training Loss</th>\n",
              "      <th>Validation Loss</th>\n",
              "    </tr>\n",
              "  </thead>\n",
              "  <tbody>\n",
              "  </tbody>\n",
              "</table><p>"
            ]
          },
          "metadata": {}
        },
        {
          "output_type": "stream",
          "name": "stderr",
          "text": [
            "\n",
            "\n",
            "Training completed. Do not forget to share your model on huggingface.co/models =)\n",
            "\n",
            "\n"
          ]
        },
        {
          "output_type": "execute_result",
          "data": {
            "text/plain": [
              "TrainOutput(global_step=20, training_loss=0.6421642780303956, metrics={'train_runtime': 14.9688, 'train_samples_per_second': 10.689, 'train_steps_per_second': 1.336, 'total_flos': 42097768857600.0, 'train_loss': 0.6421642780303956, 'epoch': 2.0})"
            ]
          },
          "metadata": {},
          "execution_count": 60
        }
      ]
    },
    {
      "cell_type": "code",
      "source": [
        "trainer.evaluate()"
      ],
      "metadata": {
        "colab": {
          "base_uri": "https://localhost:8080/",
          "height": 245
        },
        "id": "vqtf1NFIICBd",
        "outputId": "77f84958-48c5-4d44-9e61-8ccba43eaa48"
      },
      "execution_count": null,
      "outputs": [
        {
          "output_type": "stream",
          "name": "stderr",
          "text": [
            "***** Running Evaluation *****\n",
            "  Num examples = 20\n",
            "  Batch size = 10\n"
          ]
        },
        {
          "output_type": "display_data",
          "data": {
            "text/plain": [
              "<IPython.core.display.HTML object>"
            ],
            "text/html": [
              "\n",
              "    <div>\n",
              "      \n",
              "      <progress value='2' max='2' style='width:300px; height:20px; vertical-align: middle;'></progress>\n",
              "      [2/2 00:00]\n",
              "    </div>\n",
              "    "
            ]
          },
          "metadata": {}
        },
        {
          "output_type": "execute_result",
          "data": {
            "text/plain": [
              "{'eval_loss': 0.2663276195526123,\n",
              " 'eval_accuracy': 1.0,\n",
              " 'eval_f1': 1.0,\n",
              " 'eval_precision': 1.0,\n",
              " 'eval_recall': 1.0,\n",
              " 'eval_runtime': 0.6924,\n",
              " 'eval_samples_per_second': 28.885,\n",
              " 'eval_steps_per_second': 2.888,\n",
              " 'epoch': 2.0}"
            ]
          },
          "metadata": {},
          "execution_count": 61
        }
      ]
    },
    {
      "cell_type": "markdown",
      "source": [
        "# NER with BERT"
      ],
      "metadata": {
        "id": "RnvqArx8fJCh"
      }
    },
    {
      "cell_type": "code",
      "source": [
        "!pip install transformers"
      ],
      "metadata": {
        "id": "puXz2W3xh9rK",
        "outputId": "d2d112bf-cc30-4be8-dc70-19f89467fa96",
        "colab": {
          "base_uri": "https://localhost:8080/"
        }
      },
      "execution_count": 6,
      "outputs": [
        {
          "output_type": "stream",
          "name": "stdout",
          "text": [
            "Looking in indexes: https://pypi.org/simple, https://us-python.pkg.dev/colab-wheels/public/simple/\n",
            "Collecting transformers\n",
            "  Downloading transformers-4.24.0-py3-none-any.whl (5.5 MB)\n",
            "\u001b[K     |████████████████████████████████| 5.5 MB 6.9 MB/s \n",
            "\u001b[?25hRequirement already satisfied: pyyaml>=5.1 in /usr/local/lib/python3.7/dist-packages (from transformers) (6.0)\n",
            "Collecting huggingface-hub<1.0,>=0.10.0\n",
            "  Downloading huggingface_hub-0.11.0-py3-none-any.whl (182 kB)\n",
            "\u001b[K     |████████████████████████████████| 182 kB 47.4 MB/s \n",
            "\u001b[?25hRequirement already satisfied: filelock in /usr/local/lib/python3.7/dist-packages (from transformers) (3.8.0)\n",
            "Requirement already satisfied: requests in /usr/local/lib/python3.7/dist-packages (from transformers) (2.23.0)\n",
            "Collecting tokenizers!=0.11.3,<0.14,>=0.11.1\n",
            "  Downloading tokenizers-0.13.2-cp37-cp37m-manylinux_2_17_x86_64.manylinux2014_x86_64.whl (7.6 MB)\n",
            "\u001b[K     |████████████████████████████████| 7.6 MB 9.3 MB/s \n",
            "\u001b[?25hRequirement already satisfied: regex!=2019.12.17 in /usr/local/lib/python3.7/dist-packages (from transformers) (2022.6.2)\n",
            "Requirement already satisfied: tqdm>=4.27 in /usr/local/lib/python3.7/dist-packages (from transformers) (4.64.1)\n",
            "Requirement already satisfied: numpy>=1.17 in /usr/local/lib/python3.7/dist-packages (from transformers) (1.21.6)\n",
            "Requirement already satisfied: importlib-metadata in /usr/local/lib/python3.7/dist-packages (from transformers) (4.13.0)\n",
            "Requirement already satisfied: packaging>=20.0 in /usr/local/lib/python3.7/dist-packages (from transformers) (21.3)\n",
            "Requirement already satisfied: typing-extensions>=3.7.4.3 in /usr/local/lib/python3.7/dist-packages (from huggingface-hub<1.0,>=0.10.0->transformers) (4.1.1)\n",
            "Requirement already satisfied: pyparsing!=3.0.5,>=2.0.2 in /usr/local/lib/python3.7/dist-packages (from packaging>=20.0->transformers) (3.0.9)\n",
            "Requirement already satisfied: zipp>=0.5 in /usr/local/lib/python3.7/dist-packages (from importlib-metadata->transformers) (3.10.0)\n",
            "Requirement already satisfied: certifi>=2017.4.17 in /usr/local/lib/python3.7/dist-packages (from requests->transformers) (2022.9.24)\n",
            "Requirement already satisfied: urllib3!=1.25.0,!=1.25.1,<1.26,>=1.21.1 in /usr/local/lib/python3.7/dist-packages (from requests->transformers) (1.24.3)\n",
            "Requirement already satisfied: idna<3,>=2.5 in /usr/local/lib/python3.7/dist-packages (from requests->transformers) (2.10)\n",
            "Requirement already satisfied: chardet<4,>=3.0.2 in /usr/local/lib/python3.7/dist-packages (from requests->transformers) (3.0.4)\n",
            "Installing collected packages: tokenizers, huggingface-hub, transformers\n",
            "Successfully installed huggingface-hub-0.11.0 tokenizers-0.13.2 transformers-4.24.0\n"
          ]
        }
      ]
    },
    {
      "cell_type": "code",
      "source": [
        "import warnings\n",
        "warnings.filterwarnings('ignore')\n",
        "\n",
        "import numpy as np\n",
        "import pandas as pd\n",
        "import seaborn as sns\n",
        "import matplotlib.pyplot as plt\n",
        "from tqdm import tqdm\n",
        "\n",
        "import transformers\n",
        "from transformers import AutoTokenizer\n",
        "from transformers import  DistilBertForTokenClassification\n",
        "from transformers import pipeline\n",
        "\n",
        "from torch.optim import AdamW\n",
        "\n",
        "import torch\n",
        "import torch.nn as nn\n",
        "from torch.optim import SGD\n",
        "import torch.nn.functional as F\n",
        "from torch.utils.data import DataLoader\n",
        "\n",
        "from sklearn.metrics import accuracy_score,f1_score, precision_score, recall_score"
      ],
      "metadata": {
        "id": "1Fd5ftopfNcL"
      },
      "execution_count": 7,
      "outputs": []
    },
    {
      "cell_type": "code",
      "source": [
        "text = df['reviews'].values.tolist()\n",
        "example = text[36]\n",
        "\n",
        "print(example)\n"
      ],
      "metadata": {
        "id": "kgqfRAVbkZBs",
        "outputId": "0839e701-8b9d-4f3e-a273-a263f182545b",
        "colab": {
          "base_uri": "https://localhost:8080/"
        }
      },
      "execution_count": 8,
      "outputs": [
        {
          "output_type": "stream",
          "name": "stdout",
          "text": [
            "[\"This is by far my favorite park to come and hike the trails with my dog ON THE LEASH.  The actual dog park with the off-leash dogs can get a little sketchy at times. Most of the big dogs that are out are trained well however there's always one or two in the bunch that are a little bit too aggressive/ not listening to their owners, for my liking. If you have a smaller dog and want to go off leash I would recommend something a little more calm like the Voorhees Connolly Park. It's small but gets the job done.   However if you want to spend the afternoon walking around the trails jogging,  having a little frisbee toss, and generally getting some good exercise for you and your dog, this is the place\", \"I love this park been there a many times with my Ginger, recently I've encountered aggressive dogs which I've decided to take a break. My dog was bit in the face by a dog and the woman walked away with little to no care. I want to report this to the head of the park to make awareness of this type of behavior. Does anyone know where I would go for such?\", 'great spot to let your dog run off some energy. living in Valleybrook out 50lb dog needs to run! we go here once a week. large fenced in section(off leash) to run.', \"Nice outdoor area. It's basically a dirt track for walking. One trail goes around the fenced in off-leash dog area with a few trails cutting in the middle. People are friendly and the dogs have a great time running in packs. Some spots can be a bit muddy and people don't pick up their dog's poop so you need to watch where you walk and make sure the dogs don't jump up on you (unless you don't mind getting paw smudges on your clothes). Otherwise, it's a fantastic place for you and your dog(s) to get exercise and spend time outdoors. I imagine I will visit this park many times in the future.\\n\\nI was told there are lots of trails outside of the off-leash area and a swimming area for dogs, but I didn't go there since it's too cold right now.\", 'I recently brought my dog here for an event with the AWA, Bark in The Park. After my dog was finished with her Yap-atizers and Bark-tinis at the entrance of the park we headed in. \\n\\nWe followed a trail which lead us to the gated area of the park where dogs can explore leash free. The gated area is huge and offers a few different trails. I was a bit nervous to let my dog off the leash because the gated area has a few bushy. But the gated area is small enough that your dog would be able to hear you call. \\n\\nAll the people and dogs I ran into were very nice. There is ever a dog water fountain located right outside the one gated entrance- pretty cool. \\n\\nTimber Creek Park was a great place to take my dog, but I prefer Freedom Park. Timber Creek Park offers a safe place to start training your dog with off-leash walking, but Freedom Park offers a much more social atmosphere for dogs.', \"Boooooo-ring.\\n\\nThis dog park is fine enough if there's nothing closer. It's fenced-in and off leash, so it's a safe place to go, but my dog couldn't have been more bored. \\n\\nThis is basically a ring walking trail with a couple short trails cutting through it. There is nowhere for the dogs to congregate and play, and nowhere to throw a ball and really let your dog tear off. \\n\\nI went here 3 times, trying to give it a fair share. First time, I liked it, although the dog was bored. Second time, okay the dog is really bored. Third time, okay now the dog and I are bored, and it's a little awkward having to walk behind/next to someone you don't know. Because all there is to do here is walk the circuit as many times as your brain can handle it. My dog stopped at every gate wanting to leave, and had more fun walking the trails outside of the dog park area. \\n\\nThere aren't many fenced-in places in south Jersey, but if your dog is well-behaved, you'd fair better in an open field or sports field. We just opt for Cooper River Dog Run instead. It's small but long so he can chase a ball. And the usuals there tend to be cuckoos instead of clique-y, so it's more comfortable of a scene.\", 'Took my dog for his first \"off leash\" experience.  I was stressed because I didn\\'t know if he would come back to me but the park is fenced in so it was a good place to test him.  He is socialized because he goes to daycare so this was a perfect test place and he did great!!! He came when I called and ran and played with the other dogs.  I was amazed how clean it was which sows responsible owners visit the park.  He is nicely tired and sound asleep.  We can\\'t wait to go again!', 'Big wooded fenced in park.  Great for a nice walk with lots of smells for the pups.  A lake is near if you pups like to swim (it is outside of the fenced area, so make sure they have good recall!)', \"This is hands down, the best place to bring your dog. (If it is friendly) There is an amazing off-leash fenced area for dog owners, and there is are trails and a lake for your pup to swim. It's clean and beautiful. You get the  occasional bad owner dogs, but that is rare.\\n\\nPeople walk with their dogs off leash in the woods.. it's not exactly (def not) allowed, but I have had no issues. This park is such a great place to wander, clear your mind, and just breathe.\", 'What a great dog park!!!! So glad I stumbled upon it on the Internet.  4 1/2 STARS\\n\\nI have a Shiba Inu and those who know this breed...never never have them off leash. Then comes Timber Creek Dog Park and what a freeing feeling for both my dog and myself knowing that he can walk/run free and such open space surrounded by woods and most importantly surrounded around with a 6ft fence. I invited my friend and her golden retriever and what a great day we had with our furry family member. There is also nature hiking (dogs on leash) and a 1/2 mile paved trail if you prefer than the dog park. The people and dogs are very friendly. If you want bring lunch since they have picnic tables to enjoy being outside, since its a nice tranquil place. \\n\\n\\nThe only slight negative remark is there aren\\'t many signs directing you to areas such as the \"beach\" / pond-area where the dogs can enjoy some refreshing time. Thank goodness for the kindness of people to help direct and inform you. \\n\\nSome suggestions bring water for your dog, bug repellent for yourself and energy. \\nThis is definitely a place I\\'ll be returning even though it\\'s a 90 minute drive. \\nIT IS WORTH VERY MILE!!', 'A sanctuary of trails and wonderment, with a dash of splash splash! The true definition of a dog park that puts all others to shame. Miles of trails, a pond for your furry friend to take a dip, and a HUGE enclosed dog park filled with trees, lined with a lap trail around the perimeter. Never seen anything like it, will definitely be coming back again.', 'This park is amazing for dogs. I drive in from 25 miles away to give my pooch the time of her life. Unfortunately she was severley injured on 11/15 running through the woods of the dog park. She received a 5 inch laceration - basically skinned her leg down to the muscle running. She may hit a branch but it may be somethign else like glass or metal so be careful. I already messaged Camden County abou this.', \"Perfect place to stop on your way to/from the outlets to do something different! Playground, dog park, paved track, and trails to wander. Only problem is it's missing signage!! Such an easy fix too.\", \"Just got home from this park as a first time visit. \\n\\nEmily's review hit on all of the important points but I shall add that I have a toy breed and he was not overrun at all by the many large breed dogs at this park. The wooded paths are too great a temptation for the large breeds and they're more interested in further exploration than intimidating my little guy. Plenty of other toys were also enjoying themselves. \\n\\nThis is a walking dog park, not a large pen. It's meant to give you both exercise and is a lovely concept and execution. There are wide paths, as well as narrow paths, and while I could tell there were many dogs there at the same time, I never felt like anyone was running over top of us and we were alone most of our walk. \\n\\nBeautiful park. The fence is at least six feet high (perhaps higher?) so no worries about your dog jumping it. Well worth a little road trip if you aren't from the area.\\n\\nBring water for your pet. The water fountain is a bastion for bacteria and slobber.\", \"This is the best dog park that I've ever been to. It's very large and In the woods. It's also fenced in, so even if your dog escapes your view you can have peace of mind. I've never run into\\nAny aggressive dogs here and my dog has always had a great time. There's also\\nA\\nNearby lake if your dog likes to go swimming during the warmer months. Highly recommended.\", \"I've been to a number of dog parks, and this one is my favorite to take my dog to. The fenced in area is pretty large, and the parking lot has a decent number of parking spots. My dog runs free but not too far away from us, and he gets to socialize with great dogs and great owners. I've been here about a dozen times at this point, and only have met 1-2 aggressive dogs with jerkwad owners. Easy enough to leash him and go in the other direction. \\n\\nMy only complaints is that some people don't pick up after their dogs outside of the fenced in area, and that poison ivy is sometimes spotted inside and outside the park. I simply tell my dog to avoid that area and he listens, because I've gotten some nasty rashes before petting him after he's been through some brush. I haven't had any problems recently though with the ivy. Seriously, any responsible dog owner should check this place out!!\", 'This park rules! My dog and I have a blast running the perimeter loop and cutting back and forth through the various trails in the enclosed dog area. Beware that some owners have terribly trained animals and may not even want their pet near others but besides some local bad pet owners, this place is exceptional.', \"This is a fantastic dog park.\\n\\nEssentially it's a large area of forest surrounded by a large fence. It's an off leash dog park. Some people are not the best at picking up dog poop (so watch where you step). All dog owners I've encountered at my multiple visits here are responsible. I've never seen a dog here that should not have been. \\n\\nIt takes away the awkwardness of standing in a circle and watching dogs for an hour. While the doggies are getting exercise their humans get exercise too (it's about 3/4 mile for one loop).\\n\\nThis is my pooches favorite park and we've made multiple visits here :)\", 'Best dog park in Camden County, maybe even South Jersey.  There are 3 distinct parts of the park, the 1/2 mile loop, the fenced in off-leash dog area, and a pond area. The 1/2 mile loop surrounds a large grass field, unfortunately in this area dogs must be on a leash. Next is the fenced in area, which encompasses a wooded area with plenty of trees which gives it a natural setting, and lastly there is a pond area where dogs can splash around and is even deep enough to allow dogs to swim. Overall this Park is well-maintained, and would highly recommend going to this park!', 'I really enjoy bringing our dogs to this park.  There is a large fenced in area to let them run and a lake area where they can swim (not fenced).  Everybody is generally friendly and in control of their dogs (YMMV....).  I enjoy it much more than other parks in the area because it includes a fenced in area.  Definitely worth a stop if you like to explore with your dogs.', 'Greatest dog park ever! So perfect. Woods, trails and 9 acres of fenced in wilderness for dogs to explore. A good amount of uphill & downhill action too. Three entrances and access to the lake. Unreal.', 'Went there this past Saturday. Tons of space for your dog to run around. Trails that leads to water and a fenced in area. Clean for the most part people seemed to pick up behind their dogs.', \"I ventured to this area from Cherry Hill due to reading the reviews. First, this area is full of seedy characters ranging from meth addicts walking down the streets to homeless hanging out at Dunkin' Donuts. I don't mean one random character, I mean speckled throughout the entire length of the business district. Next, it seems the dog park is a good hangout for some of them. I did not feel comfortable in the area nor did I feel good about the park. I could easily see aggressive dogs being a problem in this area. Despite the fact that the Cherry Hill Dog Park is small with only two areas for dogs, I would opt for that location. Other good options are Laurel Acres in Mount Laurel.\", \"This is dog park paradise. My dog sometimes gets nervous around other dogs, especially little ones that get underfoot, and since he's quite large (110 lb bloodhound), I get nervous and always keep him on leash. But he was very relaxed and happy here, and he had nine acres to sniff around and greet other dogs. This is a great place to socialize dogs, and everyone that I met was very responsible and pleasant. We had a great time and will definitely be back.\", 'i love coming to this park and so does my dog. cant wait to bring my new little puppy here!', 'My dog and GrandDog had a blast here and so did their humans!!!  How did I not know this place existed?!?  Love it.', 'I absolutely love this park. \\n\\nI used to take my dog to the Runnemede Dog park which was nice but quite small and there was NEVER any other dog there when we went. I\\'ve been to Timber Creek Dog park a few times now and each time there was at least 4-5 other dogs. \\n\\nI wasn\\'t sure how my dog would be around so many other dogs AND off of a leash but she has a blast. It\\'s large enough that she has tons of freedom, but when I call she can still hear me and find me. \\n\\nOf course there is occasionally a dog that is a little aggressive but the other nice thing is that there are a few exits all around. So if your dog needs a \"timeout\" or just isn\\'t into playing with the other dogs,  you can easily leave and continue to walk on the surrounding trails.', \"This is a great dog park for you & your dog to get some exercise! A large wooded area, that is (6 ft) fenced in. Some people don't know how to clean up after their dogs, but that's expected at any park, I guess. There are bowls chained to the fence, so I always bring my own water when my boyfriend & come with our Siberian Husky. There is a nice man who comes with his dog (I think volunteers) who brings bags that he ties to the fence so that you can pick up waste & jugs of water if you run out. All around a nice experience.\", 'yay doggos! i love my puppers ramsay and he loves coming here to bork bork with the other doggos! this park is great ramsay is a friendly pupperino and the other doggos love to bork with him!', \"Timber creek is nearly 60 acres large and is my favorite park in Camden County.\\n\\nThe part of the park I use most is the Dog Park.  It's 9 acres of fenced-in woods.  My dog loves running around here and I enjoy it myself.  There is a wide pathway that, for the most part, doesn't have too many puddles that goes around the perimeter of the park.  They've spray-painted any roots that stick up along the path to help really clumsy people (like myself) from tripping over them.  No matter what day of the week or time of day, we come across other dogs to run around with.  My dog loves leaping through the woods and running up and down the hilly path.  There are a lot of trees that help block the strong sun and strong winds making it welcoming all year round.\\n\\nThere is a garbage by the main entry and a water fountain for people and for pups.  My one main gripe is that people don't pick up after their dogs on the pathway up to the dog portion.  I can understand not doing it in the middle of the woods - but on the path?  Come on! \\n\\nIn addition to the dog stuff, there are a lot of trails, bathrooms, a cool looking jungle gym play area, and a small amphitheater.\\n\\nLots of parking.  No lights.  Park is open sunrise to sunset.\", \"This is a wonderful park!  It's clean and safe for the dogs and humans.  Everyone is friendly and very conscientious of every dog there.  I have 2 pitbulls 9 and 10 yrs old and a 12 wk puppy that go there.  No issues with other dogs or humans.  I particularly like that there are NO CHILDREN. (Makes it very dangerous when children go to dog park))  \\n\\nThe fenced in area is 9 acres or so, with 3 gates, in the woods.  The trails are clean, most people clean up after their dogs and them selves. (No trash, cigarettes or poop)\\n\\nThere's a dedicated group that bring in gallons of fresh water for the dogs and water bowls.  Poop bags are provided.  \\n\\nI've hung my jacket and leashes on the fence for an hr or so, and never had my belongings stolen.\\n\\nThe terrain is a little hilly in some areas, a couple muddy areas (so look out if it rains)\\n\\nThere are 2 large ponds.   1 is very clear and clean. The other is murky tidal water, so make sure u get to the right swimming area.\\n\\nLove this place.  I go almost every day.\", \"Good spot to let the dog run around with other pups off the leash. The walking area is pretty boring though. I'd much rather walk around the neighborhood than the track here. The greatest reason to come here is to let them loose in the pen and play with the others. Beyond that, it's average\", \"I really enjoy Timber Creek.\\nFor dog lovers, there is a fenced in walk where dogs may go sans leash. The perimeter is decent sized and dogs can meet up in the center 'common area'.\\n\\nThe park also has a number of large ponds for water loving dogs. There is also a large half mile-ish track for joggers and walkers. The center area is huge and grassy, perfect for having a long catch with your active dogs.\\n\\nFor nature lovers, the park is filled with trails for hiking. While the park is only +\\\\- 60 acres in total, it's still a nice 45 minute walk. Plus it's always fun to watch the dogs playing in the water!\", \"This place is dog heaven! Lots of trails to run on and a small lake for swimming. It's fully fenced, but someone with a small beagle said they'd had an escape attempt, so I'd watch your little dogs. And make sure your dogs are current with their flea and tick remedies! My dog loves to run through underbrush.\\n\\nThe only really bad thing I noticed at this park was a few large shards of broken glass, and cigarette butts. Ugh. This is so rude. You have this gorgeous free park and what do you do with it but crap it up?\", \"5 out of 5 stars for the dog park, its trails, and how much freedom the dogs can have. \\n\\n1 out of 5 stars for the dogs' owners who don't know how to pick up their dogs' business.\", \"Definitely my favorite dog park ever. Everybody (mostly) keeps it super nice and clean. Dogs are usually friendly, but it's such a big and wooded area you barely notice any other dogs. Beautiful scenery and not too hard to hike, but you'll definitely get an exercise. The fenced in dog park area is the biggest I've ever been to and our girls (Yorkie-Poo and dachshund) love it.\", \"I adopted Penny about 2 weeks ago. she's great on leash, and walks, but I really wanted to find a spot that I felt comfortable enough to let her off leash. \\n\\nFound this place on Yelp, and we got there today. we first did the leash on the main trails, and then made our way to the fenced in dog spot. It's a good sized area, trail around the edge, and filled in the center for her to hop over some logs.\\nShe had been pretty shy around other dogs, but today she opened up and made some friends and got her running. She learned if she didn't want to play fight, she can run and chase. \\n\\nShe came home pooped out. Everyone we ran into was super friendly and respectful. If you have a new pup, it's a great training park to go.\", \"Nice, decent-sized wooded park. Have made about 5 trips to the place so far and no bad experiences worth mentioning. People have been friendly and their dogs well-behaved. And they've been very tolerant of me as a novice owner and his hyper pup, who very occasionally will want to jump up on folks to say hello. I didn't bring water the first trip and people shared without thinking about it. Everyone has been very pleasant. \\n\\nI'm sure there will be some knucklehead I haven't met with a raging dog, but I won't blame the park itself for that. However I did see someone with a very small child inside the dog park itself. I don't recommend that! \\n\\nI suppose the park could be better with a big flat open area, or some kind of amenities. A smaller dog park for little dogs or small pups maybe. Someone else mentioned that it could use an enclosed flat area to play frisbee or fetch, and I definitely agree with that. This is basically all just dirt trails through the woods with at least one good swimming hole; great for what it is. \\n\\nIt's still a very strong four stars, and Timber Creek may as well be DisneyLand as far as my dog is concerned. \\n\\nFor me, it's okay enough as I like the wooded trails and can use the exercise. But it is a little dull so it's main appeal for me is a place for the dog to burn off some energy. \\n\\nAlso the rest of the park (outside of the fenced dog area) seems larger than it is and has trails. I got a little lost on my first trip out there and wound up walking into a dead end, and then wound up at the Gloucester Twp pool. I felt silly when I looked at how small the park is on a map, but a couple more wooden posts to show the way on the trails wouldn't hurt for new folks. In fairness, it started pouring rain and it was my first time there.\", \"We love to bring our pup here to play off leash! She loves to swim, too. We are still exploring the park and would like to point out how to actually get to the lake! There's no signs, that I could see at least.\\n\\nWhen you enter the park, the most direct way is to walk straight to the next gate which leads out of the park. This gate lets you out, to a non-fenced area, and down a path which actually goes to the lake. It's a medium walk... when the path ends, you have the option to go left or right.... go right, down an orange, clay-colored hill. You'll quickly see the lake! \\n\\nThere are a lot of other paths which I have not explored yet, which may or may not lead to the lake lol.\", 'If you want to give your dog the time of their lives, this is just where you need to go. \\n\\nStart off with a couple of loops at the mile long fenced in dog park, then venture outside the gates for leafy, twisting off-leash paths and scurry down to the pond below for pup frolicking fun.\\n\\nBeautiful, pristine, and a must stop for you and your best furry friend(s).', \"This is a really great dog park. It's all fenced fenced-in the animals get to run around together without their leashes really good for socialization skills not so bad for meeting other people as well. There's also a fantastic lake and the beach for your furry friends\", \"Nine acres of fenced in wooded space with trails for your pup to run. I've never had any major problems here, just about everyone cleans up after their dogs and is friendly to other dog owners. My dogs really seem to love it.\", 'This is by far my dogs favorite place to go to - i just wish all dog owners were more observant/responsible.\\n\\n The park is huge! There is a huge track where people/dogs can run (leashed) with a large grass area in the middle, then there\\'s the large acres of trails in the forrest next door, great for wandering. There is an enclosed, fenced in area of forest specifically for off leash dogs to run around. People often leave extra plastic bags and bottles of water for the pups by the entrance to this area - super thoughtful. On the regular trails/forested area, there is a pond that dogs can swim in as well. \\n\\nThere is a good amount of parking at the entrance of the park with bathrooms and picnic tables for people to rest. \\n\\nWe love to come here to exercise our pup however we increasingly become frustrated with the people who keep their dogs off leash outside of the fenced in dog park area. There have been a few occasions where we run into wandering dogs with their owners trailing WAY behind and their dog comes charging directly at our dog who is on leash. While your dog may be \"friendly\" with other dogs, not all dogs appreciate being charged at while they\\'re restrained on leash. I get it, everyone wants to relax and be able to walk their dogs off leash but c\\'mon be a responsible owner and at least keep an eye on your dog.  It is so frustrating that some owners are so careless, there is a designated off leash area that is fenced in, use it.', \"This is by far the best dog park In all of south Jersey. During today's visit it was extremely busy with many other pups but it was a good time. There are still muddy areas In the fenced in area but that's pretty typical for this time of year. The grounds itself were very well kept and clean from debris.\", \"First day here today and I loved it. I don't trust my pup off a lease but she did excellent here. There is so much room just to walk around and there are always plenty of dogs here. She's not a swimmer, but had fun checkin out the lake besides the fact that she loved to sit in the dirty wet sand and she was a Hott mess. If u play Pokemon go there are plenty of Pokemon to catch in this area. I enjoyed it and I will be back. All the pups and people were very nice !\", \"This place is amazing for dogs! By far the best dog park I have ever seen. There has to be close to 10 acres for dogs to run around. There are three or four entrances, with double gates, so your furry little friend can't escape. \\n\\nI was surprised that it wasn't more crowded.  Honestly, they could charge money here and I still think it would be amazing. \\n\\nI'm surprised to see anyone give this place, less than 5 stars.  Jen K, 1 star, really?\", \"Review for the dog park: great enclosed area for dogs and their humans. I was there in a small group this evening with 4 dogs. We were able to walk along easy forest trails with the dogs, which makes the park quite different than most dog parks. It is an off leash park, but since you're walking with your dogs, you could easily keep them on a leash if you'd like. \\n\\nMake sure you leave before sunset. It gets pretty dark in the dog area because of the trees and it's unlit. We did see some people entering the dog area with headlamps, etc.\", \"It's very important to note to little dog owners that there is NO LITTLE DOG AREA. None. Nada. Everyone is mixed in together. That's fine since the space is quite large, huge even, & there are many trails for your dog to run around in but for little dogs, this is not a great place. \\n\\nI do love all the shaded area but I wish owners would pick up after their dogs. I can't tell you how many dog piles I saw all over & not even on the trails but on the way to the fenced in area. \\n\\nSo little dog owner go to Connolly Park. Much better park for our little ones.\", \"Sunday afternoon my boyfriend and I decided to take my dog, Ruby, to a dog park. Originally we were going to go to the park in Washington Township, but we didn't realize that a permit must be purchased ahead of time for entry. Since we really wanted to get outside right away, we decided to check out Timber Creek Park, which does not require a permit. \\n\\nWe ended up walking around the 1/2 mile loop first. It was a nice walk and there were dogs in the open grass area playing with owners and each other. We eventually made our way to the dog park, which was on the opposite side of the parking lot. The dog park was a nice wooded area; it was fenced in and perfect for walking with your dog instead of just sitting on a bench while they play. Ruby is a tiny schnoodle, so she was a bit intimidated by the other, bigger dogs at first but once she felt confident enough that they weren't going to eat her, she had fun prancing around and exploring the woods.\\n\\nI definitely recommend bringing at least one towel when you bring your dog here. It was a little muddy at the park due to the previous night's rain, so I'm glad we brought something to wipe Ruby's paws off with before getting in the car to go home.\", 'First time to Timber Creek Park today.  Amazing dog park!  Huge fenced area with trails for the pups to run.  I think our dog was in heaven, highly recommend', 'Great spot to take the dogs and have them burn off some energy. Giant fenced in area with trails and plenty of other dogs for them to socialize.', \"This is my dog's favorite place to go and not far from my house! They have waaaaay too much fun here. We come one a week at least!\", \"Stopped by this park with my girl to eat our bagels.\\nIt's kind of hidden and is much larger than one would think from the looks of the entrance. There is a huge open field, paved running paths, enclosed bathrooms, plenty of parking, and picnic benches.\\nWhat else could you want from a park?\", \"Love this park! It's much more than just your regular dog park where dogs run around in a confined area. There's so much space and a lot of it is in shaded areas which is really nice for our dogs in the summer. Our dogs love to go swimming in the lake and there's always other dogs around for them to play with.\", \"Every part of this park is absolutely beautiful, overall a fantastic place to bring your dog. Unfortunately, the complete lack of regard by many for the 'on-leash only' areas has often led to frustrating encounters on busier days. My cattle dog mix is pretty nervous around dogs she doesn't know by nature, and initially it was recommended by a professional to take her to a park like this so that she could be around other dogs without being forced into an encounter with them. However, after taking her here everyday for over a month, I don't think I'll be back as dogs are running wild off-leash all over the 'on-leash only' areas, something that truly baffles me considering the fact that there is a MASSIVE, beautiful off-leash park for the doggos! Don't get me wrong, if you have trained your dog to listen to you very well I couldn't care less if you let them roam off-leash, but this is not the case for many. As you can imagine, it makes my girl pretty nervous when she's on-leash with nowhere to go and a dog comes sprinting up to her. Sometimes there's even a crowd of rowdy dogs blocking the entrance/exit to the concrete path. I really really love all dogs, but at the end of the day, it's a recipe for disaster if you let your dog run up to every random person/dog/child. Makes me really sad, because as I mentioned earlier, this is a fun, beautiful park in every other way. If you're okay with poorly-trained dogs running amok, this place is perfect. But, I'll be taking my girl somewhere a bit quieter from now on.\", \"I absolutely love it here. This is my (and my dogs) happy place. Timber creek has so much room to roam with your pup that it even accommodates the most anti-social dogs! There are small ponds, a large creek with hiking trails and the enclosed dog run is gigantic - definitely big enough to feel like you're on a real hiking trail! This place could be enjoyed by those without dogs, too, but be prepared to see a lot!\", \"I love bringing my human here when he needs walkies. He gets to socialize while I get to smell unique butts and other aromas. When I'm in the mood I can jump in the creek and frolic. It is so much fun to be off the chainz in a large wooded area. I'm a medium guy so I can roam in either the big or small guy section, I prefer the small one since some oafs don't know their own strength. I see some humans without furry friends walking, biking or jogging here too. I would up this review to 5 stars if only there were more squirrels.\", \"While I am fully aware this park is popular for its dog park, I know first hand it also serves as a park suitable for humans. I enter from Chews landing, the side where there is a covered pavillion with picnic tables. During my visits, mid-day on weekdays, there is always parking available. Even on mild weathered days. Although this is the entrance to the dog park, there isn't much foot traffic during the day and most people politely leash their dog to/from their cars. \\n\\nThis is a perfect spot to have a quiet lunch outdoors with lots of greenery. And makes it convenient to take a quick walk after. There are indoor restrooms (attached to the covered pavillion) and a wawa on Chews Landing Road which makes for a quick lunch pick up.  There are a few trash cans scattered around helping you dispose of trash. Overall a quiet and clean open space.\", \"This is by far the best dog park around!!!\\nYour dog can walk, run, play, hunt and even go swimming. Make sure you wear your walking shoes cause this isn't a sit on a bench kind of place \\nI just wish they would do something about all the roots/stumps sticking outta the ground and all the fallen dead trees. \\nPlease please pick up after your dogs !!!\", \"I wish I had a better story to tell. The layout of the park is beautiful, water for the dogs and plenty of room. When walking in we overheard a man say his dog already bit a few people, there should have been some alarms that went off. We proceeded to walk around with our 6 month old puppy and he was hesitant smelling around and testing out the other dogs. After the second lap around he was more comfortable and started running with 2 other dogs. This is the bad part, a third dog came over and attacked him, gripping him by the neck. I ran over and had to yank the older dog off my pups throat while my pup screamed a scream I have never heard before. The owners were very apologetic and thank the LORD our dog was ok. Just know there are a ton of dogs there and you really don't know the history of the other dogs or their owners. Some might say that dogs are animals and you can never tell but if you care about your animal, at minimum keep them close to you on the walk.\", 'My son takes our dog here as often as he can.  Lots of room to run and explore.\\nBring a towel or blanket for the car.  Plenty of water features at this site.', \"This is our dog's favorite park because it's so wooded and full of chipmunks and squirrels that she can chase. The actual dog park is fenced in and while there is a path around the perimeter, the fun is following the various paths inside. It's very well maintained and there is a water fountain just outside of the main gate in case you forget to bring water.\", \"Great trails. Well maintained. Clean.  However, do not leave anything in yor car!!!!!  There are people going around and watching cars and watching you.  They are smashing and grabing whatever they can get their hands on.  There are NO cameras and the Camden County Park Police have such large areas to patrol that they are never there.  They can only do so much.   There is Zero, police presence.  They can't be everywhere.  Tons of people, play ground filled, car alarm going off and no ones sees a thing.  Think you have it hidden?  Nope.  There is a bad element waiting and watching you.  Leave your bags at home.\", \"This is the best dog park I've ever been to!!!! I live in Center City Philly, but driving out there is completely worth it! My dog absolutely loves going here AND there is a lake for the dogs to swim in when it's warmer outside! I haven't run into any mean owners, or aggressive dogs. Every experience here has been amazing!\", \"I have gone to this park everyday for the past year and a half. My Dog is a hunting breed that requires plenty of exercise, and since I work nights, it frees up my days to go the park everyday. I love walking the trails, through the woods, and watching my dog swim in the lake. This park has it all. The fenced in dog area is generally populated by well behaved dogs and dog owners, though it sometimes gets slightly hectic later in the day on the weekends. On weekdays there's a regular group of dog owners that show up early in the morning and provide the calm quiet woods with a sense of community and familiarity. I genuinely love this place and will miss it when I leave this area. If you have a pet or just want to walk through the woods, Camden County has preserved a beautiful place for that to happen.\", 'I love this dog park. They have a great enclosed dog run with lots of side paths and plenty of space for the dogs to run around. If you go to the other side of the dog run and walk half a mile down the path you get to a lovely pond for the dogs to go swimming in. I would have given it 5 stars but there are lots of ticks and no running water in the park for give dogs. For the most part, the dogs are friendly and the owners attentive.', 'I went there today for the first time. On my way home. I smelled dog shit. Dog owners that leave their dog shit on trails with leaves covering it are idiots. All over my boots. Will never return. It was not as good as I thought it would be.', 'I really like this place, it\\'s huge. but haven\\'t gone in a while. The last time we were there, someone was walking around with his toddlers and a stroller inside the unleashed dog park. And it wasn\\'t the first time I\\'ve seen it.\\nMy pup ran by the little girl and must have bumped her or something and she starts saying \"he bit me.\" Absolutely wouldn\\'t happen. I kind of freaked and told the dad he shouldn\\'t have those kids walking around like that in a dog park and we took off. It really upset my wife, so she isn\\'t a fan of going back. The last thing in the world you need is some little girl telling people your dog bit her. Take your kids to the freakin\\' playground.\\n\\nAside from that, it is a really nice place.', 'Oh my god, what a find. I had read really good things about this park but was waiting for the weather to turn warmer before I could bring my new puppy here. We came here on a Sunday when it was 60 and sunny. The parking lot was filled with families with dogs. A short walk took us to the fenced in area of the dog park and my dog was in literal heaven. He got so much place  to run and jump around. All the doggies and dog parents were very friendly. A short hike took us to the pond where the pups can try swimming. My puppy absolutely loved the pond and he loved running around the park. He has been one tired pup for rest of the evening.\\n\\nWe will definitely be coming here a lot more often in summers..', 'We have been here a few times with our Pup. She has a great time running around the \"no leash zone\". People are friendly and for the most part pick up after there pets. The park is huge with a fenced in area, a track on the other side and some hiking trails. There is even a lake in the back if your dog wants to go for a swim..', 'awesome dog park!!!  3 acres of fenced in woods.  all dogs and people were very friendly.  i did not see much of my dog.  she had the time of her life, and my sister in law and i got a nice shady long walk in around the woods including some hills.\\n\\nthere was apparently more but this was the only part we used today.', 'Love love love!! Beautiful park. The dog park is perfect for your little fur ball to run around and make some friends. Highly recommend:)', \"My dog LOVES this park! It's only five minutes from where we live so luckily he's able to go almost everyday. There's always plenty of dogs for him to play with and with it being 9 acres fenced in it never feels over crowded. Highly recommend for dogs who love to be in the woods and run! There's also a lake which the dogs can go in too which is awesome for when it's warm out. My dog is 8months old and about 92 lbs and I've seen dogs as big as 120 lbs as well as dogs under 10lbs and all dogs seem to get along great! There's water bowls as well as gallons of water for when the pups get thirsty. This place was absolutely the best dog park we've ever been to and will continue going to.\", \"The most amazing dog park ever! I was so scared to let my dog go into the 7 acres fenced in wooded area but everyone there reassured me he would be fine. My doodle had the best time chasing squirrels and jumping over logs. It's a complete adventure for your pup. There's also a walking trail for humans and it's amazing how your dog finds you. I can't  wait  to visit again and again!\", \"Big park for dogs and children, BUT very neglected. Irresponsible dog owners leave their dogs business all over and it's gross. Dog owners also have big dogs off leash to run around and harass smaller dogs unsupervised. Small dog area has no sign to say that is what it is used for so big dog owners put their dogs their too. Gate for small dog area doesn't always open and is stuck.\", \"I didn't know that dog parks like this existed, especially in South Jersey where nearly everyone has a backyard for their pups to run around in.\\n\\nI brought my little pup here yesterday while in the area after seeing friends post countless Instagram pics here, but they failed to mention how perfect of a place it was.\\n\\nThis fenced in park is a few acres of wooded trails for your dog to walk and run around while off their leash.  After many hikes with my dog in other parks where he has always been on the leash, my goofy mutt was so confused when he was able to venture wherever or do whatever he wanted in this park.\\n\\nIn the city, a lot of dog parks have hoses for giving the dogs water to drink while playing around, but luckily this place has a cool bottle recycling program where dog parents bring and refill gallons of water like a cute little community.  Every person and dog that I interacted with was really friendly, and I can't wait to come back many more times when we move back to South Jersey.\\n\\nI highly recommend coming here if you and your dog are looking for fun in Camden County!\", 'Awesome, gigantic dog park in a beautiful wooded setting.  Our extremely high energy dog loves visiting this park.  I get annoyed every visit though because people obviously do not read the rules that are posted as soon as you enter or care to obey them, especially the NO CHILDREN UNDER 12 rule.  It is extremely dangerous and irresponsible of parents to bring their children into the gated section of the off-leash DOG PARK.  It is supposed to be a safe place for dogs to run around and freely play and it really ruins it when you have to worry about your dog accidentally hurting a little child!', \"this is by far our favorite dog park. My dogs and I can spend hours here in the summer. They love the freedom of being able to run around off leash and I love that they're fenced in and I can always find them if I need them. We have never run into shady characters as one review said. Also this isn't the park I bring them to throw balls any way. My 2 23 lbs terrier mixes love being able to roam free. I've met so many nice people and dogs here. I really can't say enough nice things about this park. Yes not everyone cleans up after their dog but that doesn't take away from the fact that this park is awesome. When we come home both of my dogs pass out which is the goal\", \"I try to take my pup here as often as possible.  Timber Creek has one of the 2 best fenced in dog parks I've visited in the entire US.  Seriously, I'm a dog park connoisseur. LOL!\\n\\nThe reason I love this dog park is because everyone has to keep moving!  Unlike your typical dog park, Timber Creek is not just an open field with a fence around it. The 9 acre off-leash dog park includes a large wooded area surrounded by a wide walking path, all *inside* a fence.  So, while the owners are walking the path, the dogs run/walk alongside us while darting in and out of the woods, chasing critters and birds.  \\n\\nThere are additional trails in Timber Creek outside of the dog park.  More stuff at the park: a lake, playground with fun equipment for kids, a large grassy field with a walking track, lots of parking, restrooms, picnic areas, outdoor amphitheater, and some additional grassy areas where the community, the township and dog rescues/shelters hold events all year round. \\n\\nThere really is something for everyone here.\", 'Absolutely the best dog park. Most dogs are extremely well behaved off leash. We love the lake for some water play and fetch. Would give 10 stars if I could.', \"Had my first experience at Timber Creek Park this past weekend and was pleasantly surprised!  I was a little nervous to let my dog, Molly, off leash because she's not exactly an off leash dog. However, I felt more secure about it when I saw all of the other dogs that were running around without their leashes on. (I also have a tile on Mollys collar, which would have been useful If I had difficulty finding her)\\n\\nTCP has three different entrances, the main one is up the steps from the parking lot. The entrances are all double gated- which I love, so you have to use two gates for entering and exiting which prevents runaways!\\n\\nThe enclosed-in area is huge, you can't see the entire park from any angle because there are so many trees. Molly had a blast at TCP and surprisingly did really well off-leash!! My parents have a huge backyard that she loves to play in, but this was great because this was more of a wooded environment. There are no separate areas for big or little dogs, so they are all mixed together which might be concerning for some little dog owners, but I saw plenty of little dogs doing great off leash. \\n\\nThere were also a few water bowls out, and a water fountain near the entrance.\", \"This was my first time here considering the fact that I drive past here daily on my way to work. This park is not bad to bring your dogs here. It's good to bring your dogs here to run around and to bond with the other dogs.\", \"Great park to bring your fur baby! I came on a Saturday Back in Oct to enjoy the fall weather and the parking lot was quite crowded. I figured out later as we were walking on the trails exploring that there was a cross country meet happening, which is why it was more crowded than usual. But anyways... wasn't sure which way to go to the dog park.. we just followed the other dogs and they lead us to the entrance! From the lot, go towards the right trails and you'll find yourself on the right path to the dog park or do what we did and just follow all the other doggies!\\n\\nYou'll see a fence with the dog park rules. Double fenced to prevent any doggies from escaping which is good. And then unleash your doggy and just have a great time! The park is large enough to have your doggy run around and just feel free. My dog Chewy really enjoyed.. although he was more interested in chasing the squirrels haha. We had just moved from Hawaii and we have no squirrels there. He did have fun with a few other dogs tho. Keep in mind that if it just rained a day or 2 before, it will probably be muddy so bring a towel to wipe off your furball!\\n\\nWill definitely be coming back!\", \"How have I not reviewed this great park before?!!\\n\\nIt's a gorgeous big one - takes probably 15 minutes (walking) to get around once. \\n\\nNicely landscaped, but some bushes / plants / flowers would be awesome! \\n\\n\\nThere are two fenced in dog parks within - one for little bugs - one for bigger. \\n\\nAlso trails and two play grounds. \\n\\nDecently clean public restrooms.  Yay! \\n\\nFriendly dog lovers galore.  I dont know who had more fun today - me or my Jack!\", \"We took our pup to the park today for the first time. Considering how cold it was (freezing) there were at least a dozen dogs there. At first I was nervous to unleash, but soon found the dogs and owners pleasant and friendly. My dog was afraid at first but soon was running with the rest! I brought him there to socialize and that's what we got.  The park is fenced, wooded and quite big! Several wide and clear paths for walking, some hills and yes, stumps and roots so just watch where you walk. I saw no poo on the path and if you forget a bag, there are quite a few tied to the fence along the way and there are trash cans for the poo bags, so don't fling them over the fence! I did forget to bring water. We will definitely go back soon.\", 'A WONDERFUL place to take Fido. \\n\\nThere are two one-star reviews of Timber Creek on here. One has nothing to do with reviewing the park and the other is from someone who thinks she can tell if her dog is bored. Huh?  Can you also tell if an egg is happy?  What did your dog do to indicate that it was bored?  Sit on a log, cross it\\'s legs and light a cigarette?  And there\\'s nowhere to let your dog tear out?  Seriously?  Listen sweetie, just because the path has turns in it does not mean your dog can\\'t run at full speed for as long as it wants. \\n\\nThe hubster and I took our pup to Timber Creek yesterday and all three of us had a blast!  There is AMPLE space to throw a ball (you simply have to take a ball with you, pick it up and throw it!) and the other dogs and owners at the park were great. It was our first outing to a dog park and we were ill-prepared for the day out. Other owners were so quick to offer our dog water when the only water we had was in our car. Next time we\\'ll know to take a back pack with bottles of water and a bowl. \\n\\nI\\'m sure that Timber Creek, like every other dog park, will have some jerk-wad bring a dog that is aggressive. Read reviews of every other dog park and you\\'ll read the same story about an aggressive dog. That\\'s not the park\\'s fault, that\\'s the dog owners fault.  I saw no sign at Timber Creek that read, \"Aggressive dogs are welcome here.\"  Give your one-star review of the dog owner, not of the park. \\n\\nIf you\\'re looking for a great place to let your dog run free, look no further.']\n"
          ]
        }
      ]
    },
    {
      "cell_type": "code",
      "source": [
        "import torch\n",
        "from transformers.file_utils import is_tf_available, is_torch_available, is_torch_tpu_available\n",
        "from transformers import BertTokenizerFast, BertForSequenceClassification\n",
        "from transformers import Trainer, TrainingArguments\n",
        "import numpy as np\n",
        "import random\n",
        "from sklearn.datasets import fetch_20newsgroups\n",
        "from sklearn.model_selection import train_test_split\n",
        "\n",
        "def set_seed(seed: int):\n",
        "    \"\"\"\n",
        "    Helper function for reproducible behavior to set the seed in ``random``, ``numpy``, ``torch`` and/or ``tf`` (if\n",
        "    installed).\n",
        "\n",
        "    Args:\n",
        "        seed (:obj:`int`): The seed to set.\n",
        "    \"\"\"\n",
        "    random.seed(seed)\n",
        "    np.random.seed(seed)\n",
        "    if is_torch_available():\n",
        "        torch.manual_seed(seed)\n",
        "        torch.cuda.manual_seed_all(seed)\n",
        "        # ^^ safe to call this function even if cuda is not available\n",
        "    if is_tf_available():\n",
        "        import tensorflow as tf\n",
        "\n",
        "        tf.random.set_seed(seed)\n",
        "\n",
        "set_seed(1)\n",
        "max_length = 512\n",
        "model_name = \"bert-base-cased\""
      ],
      "metadata": {
        "id": "If1OoD0Co0X_"
      },
      "execution_count": 17,
      "outputs": []
    },
    {
      "cell_type": "code",
      "source": [
        "from transformers import BertTokenizerFast\n",
        "\n",
        "tokenizer = BertTokenizerFast.from_pretrained(model_name, do_lower_case=True)\n",
        "text_tokenized = tokenizer(example, padding='max_length', max_length=512, truncation=True, return_tensors=\"pt\")"
      ],
      "metadata": {
        "id": "kZ6Kjw_Mk7t4",
        "outputId": "1d46b60a-d81c-49f6-a55c-785a534d6cc0",
        "colab": {
          "base_uri": "https://localhost:8080/",
          "height": 49,
          "referenced_widgets": [
            "6e771cafbefe4a5989690b58ae2b0b87",
            "6955991dfa2b4d93b25f3012f819785e",
            "f32e1487d1fd4931b7fe6f2e014483d2",
            "e08b62eac2544ea09401efa24529d0e4",
            "b47fce9d225a4f60bc05261fe7408ac6",
            "dcba9562caf44ef19decfeff4bacf6ff",
            "c7bc2f0452e841afb9848bc81094db33",
            "398dcc2599984abab51d71dec8e04b6e",
            "300f6863ef4f4c6593baf15aa2ac2a8d",
            "75cceca8b38e4be59e8f10b2f4e0bb52",
            "1258f24114c24fb2a59bb7940dba9d32"
          ]
        }
      },
      "execution_count": 18,
      "outputs": [
        {
          "output_type": "display_data",
          "data": {
            "text/plain": [
              "Downloading:   0%|          | 0.00/213k [00:00<?, ?B/s]"
            ],
            "application/vnd.jupyter.widget-view+json": {
              "version_major": 2,
              "version_minor": 0,
              "model_id": "6e771cafbefe4a5989690b58ae2b0b87"
            }
          },
          "metadata": {}
        }
      ]
    },
    {
      "cell_type": "code",
      "source": [
        "print(text_tokenized)\n",
        "\n",
        "# need to figure out how to do this unsupervised. All examples I have viewed are supervised and contain labels in their dataset"
      ],
      "metadata": {
        "id": "5i7iuGZ3sJiv",
        "outputId": "1df1cec8-99cb-436f-f4e6-8ac0c0a6294e",
        "colab": {
          "base_uri": "https://localhost:8080/"
        }
      },
      "execution_count": 19,
      "outputs": [
        {
          "output_type": "stream",
          "name": "stdout",
          "text": [
            "{'input_ids': tensor([[ 101, 1142, 1110,  ...,    0,    0,    0],\n",
            "        [ 101,  178, 1567,  ...,    0,    0,    0],\n",
            "        [ 101, 1632, 3205,  ...,    0,    0,    0],\n",
            "        ...,\n",
            "        [ 101, 1293, 1138,  ...,    0,    0,    0],\n",
            "        [ 101, 1195, 1261,  ...,    0,    0,    0],\n",
            "        [ 101,  170, 7310,  ...,    0,    0,    0]]), 'token_type_ids': tensor([[0, 0, 0,  ..., 0, 0, 0],\n",
            "        [0, 0, 0,  ..., 0, 0, 0],\n",
            "        [0, 0, 0,  ..., 0, 0, 0],\n",
            "        ...,\n",
            "        [0, 0, 0,  ..., 0, 0, 0],\n",
            "        [0, 0, 0,  ..., 0, 0, 0],\n",
            "        [0, 0, 0,  ..., 0, 0, 0]]), 'attention_mask': tensor([[1, 1, 1,  ..., 0, 0, 0],\n",
            "        [1, 1, 1,  ..., 0, 0, 0],\n",
            "        [1, 1, 1,  ..., 0, 0, 0],\n",
            "        ...,\n",
            "        [1, 1, 1,  ..., 0, 0, 0],\n",
            "        [1, 1, 1,  ..., 0, 0, 0],\n",
            "        [1, 1, 1,  ..., 0, 0, 0]])}\n"
          ]
        }
      ]
    }
  ]
}